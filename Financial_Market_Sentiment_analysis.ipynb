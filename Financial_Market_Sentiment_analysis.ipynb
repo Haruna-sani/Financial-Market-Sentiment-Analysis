{
  "metadata": {
    "kernelspec": {
      "language": "python",
      "display_name": "Python 3",
      "name": "python3"
    },
    "language_info": {
      "name": "python",
      "version": "3.10.16",
      "mimetype": "text/x-python",
      "codemirror_mode": {
        "name": "ipython",
        "version": 3
      },
      "pygments_lexer": "ipython3",
      "nbconvert_exporter": "python",
      "file_extension": ".py"
    },
    "kaggle": {
      "accelerator": "tpu1vmV38",
      "dataSources": [
        {
          "sourceId": 7414190,
          "sourceType": "datasetVersion",
          "datasetId": 4312917
        }
      ],
      "dockerImageVersionId": 30920,
      "isInternetEnabled": true,
      "language": "python",
      "sourceType": "notebook",
      "isGpuEnabled": false
    },
    "colab": {
      "name": "Financial Market Sentiment analysis",
      "provenance": []
    }
  },
  "nbformat_minor": 0,
  "nbformat": 4,
  "cells": [
    {
      "source": [
        "# IMPORTANT: RUN THIS CELL IN ORDER TO IMPORT YOUR KAGGLE DATA SOURCES,\n",
        "# THEN FEEL FREE TO DELETE THIS CELL.\n",
        "# NOTE: THIS NOTEBOOK ENVIRONMENT DIFFERS FROM KAGGLE'S PYTHON\n",
        "# ENVIRONMENT SO THERE MAY BE MISSING LIBRARIES USED BY YOUR\n",
        "# NOTEBOOK.\n",
        "import kagglehub\n",
        "aravsood7_sentiment_analysis_labelled_financial_news_data_path = kagglehub.dataset_download('aravsood7/sentiment-analysis-labelled-financial-news-data')\n",
        "\n",
        "print('Data source import complete.')\n"
      ],
      "metadata": {
        "id": "wAEusy2mW0RL",
        "outputId": "8e832ada-e580-4577-ac02-6ed8ac112a2e",
        "colab": {
          "base_uri": "https://localhost:8080/"
        }
      },
      "cell_type": "code",
      "outputs": [
        {
          "output_type": "stream",
          "name": "stdout",
          "text": [
            "Downloading from https://www.kaggle.com/api/v1/datasets/download/aravsood7/sentiment-analysis-labelled-financial-news-data?dataset_version_number=1...\n"
          ]
        },
        {
          "output_type": "stream",
          "name": "stderr",
          "text": [
            "100%|██████████| 310k/310k [00:00<00:00, 50.2MB/s]"
          ]
        },
        {
          "output_type": "stream",
          "name": "stdout",
          "text": [
            "Extracting files...\n",
            "Data source import complete.\n"
          ]
        },
        {
          "output_type": "stream",
          "name": "stderr",
          "text": [
            "\n"
          ]
        }
      ],
      "execution_count": 1
    },
    {
      "cell_type": "code",
      "source": [
        "import os\n",
        "\n",
        "# Check the contents of the downloaded dataset directory\n",
        "print(os.listdir(aravsood7_sentiment_analysis_labelled_financial_news_data_path))"
      ],
      "metadata": {
        "id": "0Cuv5KjDXP8t",
        "outputId": "981cd8e9-59eb-4603-c1ff-213358f9ef13",
        "colab": {
          "base_uri": "https://localhost:8080/"
        }
      },
      "execution_count": 4,
      "outputs": [
        {
          "output_type": "stream",
          "name": "stdout",
          "text": [
            "['Fin_Cleaned.csv']\n"
          ]
        }
      ]
    },
    {
      "cell_type": "code",
      "source": [
        "import pandas as pd\n",
        "import numpy as np # linear algebra\n",
        "\n",
        "# Replace 'your_csv_filename.csv' with the actual file name from the previous step\n",
        "csv_file = os.path.join(aravsood7_sentiment_analysis_labelled_financial_news_data_path, 'Fin_Cleaned.csv')\n",
        "\n",
        "# Read the dataset\n",
        "df = pd.read_csv(csv_file)\n",
        "\n",
        "# Display the first few rows\n",
        "print(df.head())"
      ],
      "metadata": {
        "id": "w2prKqREXU05",
        "outputId": "c1cd80f8-26a3-4b21-a393-c7f0d110cd6d",
        "colab": {
          "base_uri": "https://localhost:8080/"
        }
      },
      "execution_count": 7,
      "outputs": [
        {
          "output_type": "stream",
          "name": "stdout",
          "text": [
            "  Date_published                                           Headline  \\\n",
            "0     2022-06-21  Banks holding on to subsidy share, say payment...   \n",
            "1     2022-04-19  Digitally ready Bank of Baroda aims to click o...   \n",
            "2     2022-05-27  Karnataka attracted investment commitment of R...   \n",
            "3     2022-04-06  Splitting of provident fund accounts may be de...   \n",
            "4     2022-06-14  Irdai weighs proposal to privatise Insurance I...   \n",
            "\n",
            "                                            Synopsis  \\\n",
            "0  The companies have written to the National Pay...   \n",
            "1  At present, 50% of the bank's retail loans are...   \n",
            "2  Karnataka is at the forefront in attracting in...   \n",
            "3  The EPFO is likely to split accounts only at t...   \n",
            "4  Set up in 2009 as an advisory body, IIB collec...   \n",
            "\n",
            "                                           Full_text Final Status  \n",
            "0  ReutersPayments companies and banks are at log...     Negative  \n",
            "1  AgenciesThe bank presently has 20 million acti...     Positive  \n",
            "2  PTIKarnataka Chief Minister Basavaraj Bommai.K...     Positive  \n",
            "3  Getty ImagesThe budget for FY22 had imposed in...     Negative  \n",
            "4  AgenciesThere is a view in the insurance indus...     Positive  \n"
          ]
        }
      ]
    },
    {
      "cell_type": "code",
      "source": [
        "df.isnull().sum()"
      ],
      "metadata": {
        "trusted": true,
        "execution": {
          "iopub.status.busy": "2025-04-02T06:38:55.749513Z",
          "iopub.execute_input": "2025-04-02T06:38:55.749799Z",
          "iopub.status.idle": "2025-04-02T06:38:55.75587Z",
          "shell.execute_reply.started": "2025-04-02T06:38:55.749774Z",
          "shell.execute_reply": "2025-04-02T06:38:55.75502Z"
        },
        "id": "QC7KiDepW0RX",
        "outputId": "e745cea9-ae41-4bb5-b46b-03b10e17d3d7",
        "colab": {
          "base_uri": "https://localhost:8080/",
          "height": 241
        }
      },
      "outputs": [
        {
          "output_type": "execute_result",
          "data": {
            "text/plain": [
              "Date_published    0\n",
              "Headline          0\n",
              "Synopsis          1\n",
              "Full_text         0\n",
              "Final Status      0\n",
              "dtype: int64"
            ],
            "text/html": [
              "<div>\n",
              "<style scoped>\n",
              "    .dataframe tbody tr th:only-of-type {\n",
              "        vertical-align: middle;\n",
              "    }\n",
              "\n",
              "    .dataframe tbody tr th {\n",
              "        vertical-align: top;\n",
              "    }\n",
              "\n",
              "    .dataframe thead th {\n",
              "        text-align: right;\n",
              "    }\n",
              "</style>\n",
              "<table border=\"1\" class=\"dataframe\">\n",
              "  <thead>\n",
              "    <tr style=\"text-align: right;\">\n",
              "      <th></th>\n",
              "      <th>0</th>\n",
              "    </tr>\n",
              "  </thead>\n",
              "  <tbody>\n",
              "    <tr>\n",
              "      <th>Date_published</th>\n",
              "      <td>0</td>\n",
              "    </tr>\n",
              "    <tr>\n",
              "      <th>Headline</th>\n",
              "      <td>0</td>\n",
              "    </tr>\n",
              "    <tr>\n",
              "      <th>Synopsis</th>\n",
              "      <td>1</td>\n",
              "    </tr>\n",
              "    <tr>\n",
              "      <th>Full_text</th>\n",
              "      <td>0</td>\n",
              "    </tr>\n",
              "    <tr>\n",
              "      <th>Final Status</th>\n",
              "      <td>0</td>\n",
              "    </tr>\n",
              "  </tbody>\n",
              "</table>\n",
              "</div><br><label><b>dtype:</b> int64</label>"
            ]
          },
          "metadata": {},
          "execution_count": 8
        }
      ],
      "execution_count": 8
    },
    {
      "cell_type": "code",
      "source": [
        "df[\"Final Status\"].value_counts()"
      ],
      "metadata": {
        "trusted": true,
        "execution": {
          "iopub.status.busy": "2025-04-02T06:38:55.756946Z",
          "iopub.execute_input": "2025-04-02T06:38:55.757441Z",
          "iopub.status.idle": "2025-04-02T06:38:55.766376Z",
          "shell.execute_reply.started": "2025-04-02T06:38:55.757413Z",
          "shell.execute_reply": "2025-04-02T06:38:55.765555Z"
        },
        "id": "Pz7vUVTPW0RZ",
        "outputId": "e3ce2217-81e6-46f5-ff16-a875abceb8a4",
        "colab": {
          "base_uri": "https://localhost:8080/",
          "height": 209
        }
      },
      "outputs": [
        {
          "output_type": "execute_result",
          "data": {
            "text/plain": [
              "Final Status\n",
              "Positive     215\n",
              "Negative     184\n",
              "Positive       1\n",
              "Name: count, dtype: int64"
            ],
            "text/html": [
              "<div>\n",
              "<style scoped>\n",
              "    .dataframe tbody tr th:only-of-type {\n",
              "        vertical-align: middle;\n",
              "    }\n",
              "\n",
              "    .dataframe tbody tr th {\n",
              "        vertical-align: top;\n",
              "    }\n",
              "\n",
              "    .dataframe thead th {\n",
              "        text-align: right;\n",
              "    }\n",
              "</style>\n",
              "<table border=\"1\" class=\"dataframe\">\n",
              "  <thead>\n",
              "    <tr style=\"text-align: right;\">\n",
              "      <th></th>\n",
              "      <th>count</th>\n",
              "    </tr>\n",
              "    <tr>\n",
              "      <th>Final Status</th>\n",
              "      <th></th>\n",
              "    </tr>\n",
              "  </thead>\n",
              "  <tbody>\n",
              "    <tr>\n",
              "      <th>Positive</th>\n",
              "      <td>215</td>\n",
              "    </tr>\n",
              "    <tr>\n",
              "      <th>Negative</th>\n",
              "      <td>184</td>\n",
              "    </tr>\n",
              "    <tr>\n",
              "      <th>Positive</th>\n",
              "      <td>1</td>\n",
              "    </tr>\n",
              "  </tbody>\n",
              "</table>\n",
              "</div><br><label><b>dtype:</b> int64</label>"
            ]
          },
          "metadata": {},
          "execution_count": 9
        }
      ],
      "execution_count": 9
    },
    {
      "cell_type": "code",
      "source": [
        "df[\"Final Status\"]= df[\"Final Status\"].str.strip().str.lower().str.capitalize()"
      ],
      "metadata": {
        "trusted": true,
        "execution": {
          "iopub.status.busy": "2025-04-02T06:38:55.767603Z",
          "iopub.execute_input": "2025-04-02T06:38:55.76786Z",
          "iopub.status.idle": "2025-04-02T06:38:55.775546Z",
          "shell.execute_reply.started": "2025-04-02T06:38:55.767835Z",
          "shell.execute_reply": "2025-04-02T06:38:55.774475Z"
        },
        "id": "m3K2Uc89W0Ra"
      },
      "outputs": [],
      "execution_count": 10
    },
    {
      "cell_type": "code",
      "source": [
        "df[\"Final Status\"].value_counts()"
      ],
      "metadata": {
        "trusted": true,
        "execution": {
          "iopub.status.busy": "2025-04-02T06:38:55.776567Z",
          "iopub.execute_input": "2025-04-02T06:38:55.776929Z",
          "iopub.status.idle": "2025-04-02T06:38:55.786531Z",
          "shell.execute_reply.started": "2025-04-02T06:38:55.776903Z",
          "shell.execute_reply": "2025-04-02T06:38:55.785779Z"
        },
        "id": "0BjmVFgSW0Rb",
        "outputId": "7cf6cc2b-a422-4f6a-9ef5-0bbfebb5f272",
        "colab": {
          "base_uri": "https://localhost:8080/",
          "height": 178
        }
      },
      "outputs": [
        {
          "output_type": "execute_result",
          "data": {
            "text/plain": [
              "Final Status\n",
              "Positive    216\n",
              "Negative    184\n",
              "Name: count, dtype: int64"
            ],
            "text/html": [
              "<div>\n",
              "<style scoped>\n",
              "    .dataframe tbody tr th:only-of-type {\n",
              "        vertical-align: middle;\n",
              "    }\n",
              "\n",
              "    .dataframe tbody tr th {\n",
              "        vertical-align: top;\n",
              "    }\n",
              "\n",
              "    .dataframe thead th {\n",
              "        text-align: right;\n",
              "    }\n",
              "</style>\n",
              "<table border=\"1\" class=\"dataframe\">\n",
              "  <thead>\n",
              "    <tr style=\"text-align: right;\">\n",
              "      <th></th>\n",
              "      <th>count</th>\n",
              "    </tr>\n",
              "    <tr>\n",
              "      <th>Final Status</th>\n",
              "      <th></th>\n",
              "    </tr>\n",
              "  </thead>\n",
              "  <tbody>\n",
              "    <tr>\n",
              "      <th>Positive</th>\n",
              "      <td>216</td>\n",
              "    </tr>\n",
              "    <tr>\n",
              "      <th>Negative</th>\n",
              "      <td>184</td>\n",
              "    </tr>\n",
              "  </tbody>\n",
              "</table>\n",
              "</div><br><label><b>dtype:</b> int64</label>"
            ]
          },
          "metadata": {},
          "execution_count": 11
        }
      ],
      "execution_count": 11
    },
    {
      "cell_type": "code",
      "source": [
        "df.columns"
      ],
      "metadata": {
        "trusted": true,
        "execution": {
          "iopub.status.busy": "2025-04-02T06:38:55.787127Z",
          "iopub.execute_input": "2025-04-02T06:38:55.787385Z",
          "iopub.status.idle": "2025-04-02T06:38:55.795585Z",
          "shell.execute_reply.started": "2025-04-02T06:38:55.78736Z",
          "shell.execute_reply": "2025-04-02T06:38:55.794589Z"
        },
        "id": "d96ROH3oW0Rc",
        "outputId": "3afa7229-09f2-4305-e2b6-aaab8ec17dab",
        "colab": {
          "base_uri": "https://localhost:8080/"
        }
      },
      "outputs": [
        {
          "output_type": "execute_result",
          "data": {
            "text/plain": [
              "Index(['Date_published', 'Headline', 'Synopsis', 'Full_text', 'Final Status'], dtype='object')"
            ]
          },
          "metadata": {},
          "execution_count": 12
        }
      ],
      "execution_count": 12
    },
    {
      "cell_type": "code",
      "source": [
        "df = df.drop(['Date_published', 'Headline', 'Synopsis'],axis=1)\n",
        "df.head()"
      ],
      "metadata": {
        "trusted": true,
        "execution": {
          "iopub.status.busy": "2025-04-02T06:38:55.796492Z",
          "iopub.execute_input": "2025-04-02T06:38:55.796902Z",
          "iopub.status.idle": "2025-04-02T06:38:55.807971Z",
          "shell.execute_reply.started": "2025-04-02T06:38:55.796864Z",
          "shell.execute_reply": "2025-04-02T06:38:55.80696Z"
        },
        "id": "VTKWtIAYW0Rd",
        "outputId": "d0cb5142-6dd8-4c26-b6c5-d9b4c3db2cf4",
        "colab": {
          "base_uri": "https://localhost:8080/",
          "height": 206
        }
      },
      "outputs": [
        {
          "output_type": "execute_result",
          "data": {
            "text/plain": [
              "                                           Full_text Final Status\n",
              "0  ReutersPayments companies and banks are at log...     Negative\n",
              "1  AgenciesThe bank presently has 20 million acti...     Positive\n",
              "2  PTIKarnataka Chief Minister Basavaraj Bommai.K...     Positive\n",
              "3  Getty ImagesThe budget for FY22 had imposed in...     Negative\n",
              "4  AgenciesThere is a view in the insurance indus...     Positive"
            ],
            "text/html": [
              "\n",
              "  <div id=\"df-d699e082-0625-47b8-96f3-78f30600a304\" class=\"colab-df-container\">\n",
              "    <div>\n",
              "<style scoped>\n",
              "    .dataframe tbody tr th:only-of-type {\n",
              "        vertical-align: middle;\n",
              "    }\n",
              "\n",
              "    .dataframe tbody tr th {\n",
              "        vertical-align: top;\n",
              "    }\n",
              "\n",
              "    .dataframe thead th {\n",
              "        text-align: right;\n",
              "    }\n",
              "</style>\n",
              "<table border=\"1\" class=\"dataframe\">\n",
              "  <thead>\n",
              "    <tr style=\"text-align: right;\">\n",
              "      <th></th>\n",
              "      <th>Full_text</th>\n",
              "      <th>Final Status</th>\n",
              "    </tr>\n",
              "  </thead>\n",
              "  <tbody>\n",
              "    <tr>\n",
              "      <th>0</th>\n",
              "      <td>ReutersPayments companies and banks are at log...</td>\n",
              "      <td>Negative</td>\n",
              "    </tr>\n",
              "    <tr>\n",
              "      <th>1</th>\n",
              "      <td>AgenciesThe bank presently has 20 million acti...</td>\n",
              "      <td>Positive</td>\n",
              "    </tr>\n",
              "    <tr>\n",
              "      <th>2</th>\n",
              "      <td>PTIKarnataka Chief Minister Basavaraj Bommai.K...</td>\n",
              "      <td>Positive</td>\n",
              "    </tr>\n",
              "    <tr>\n",
              "      <th>3</th>\n",
              "      <td>Getty ImagesThe budget for FY22 had imposed in...</td>\n",
              "      <td>Negative</td>\n",
              "    </tr>\n",
              "    <tr>\n",
              "      <th>4</th>\n",
              "      <td>AgenciesThere is a view in the insurance indus...</td>\n",
              "      <td>Positive</td>\n",
              "    </tr>\n",
              "  </tbody>\n",
              "</table>\n",
              "</div>\n",
              "    <div class=\"colab-df-buttons\">\n",
              "\n",
              "  <div class=\"colab-df-container\">\n",
              "    <button class=\"colab-df-convert\" onclick=\"convertToInteractive('df-d699e082-0625-47b8-96f3-78f30600a304')\"\n",
              "            title=\"Convert this dataframe to an interactive table.\"\n",
              "            style=\"display:none;\">\n",
              "\n",
              "  <svg xmlns=\"http://www.w3.org/2000/svg\" height=\"24px\" viewBox=\"0 -960 960 960\">\n",
              "    <path d=\"M120-120v-720h720v720H120Zm60-500h600v-160H180v160Zm220 220h160v-160H400v160Zm0 220h160v-160H400v160ZM180-400h160v-160H180v160Zm440 0h160v-160H620v160ZM180-180h160v-160H180v160Zm440 0h160v-160H620v160Z\"/>\n",
              "  </svg>\n",
              "    </button>\n",
              "\n",
              "  <style>\n",
              "    .colab-df-container {\n",
              "      display:flex;\n",
              "      gap: 12px;\n",
              "    }\n",
              "\n",
              "    .colab-df-convert {\n",
              "      background-color: #E8F0FE;\n",
              "      border: none;\n",
              "      border-radius: 50%;\n",
              "      cursor: pointer;\n",
              "      display: none;\n",
              "      fill: #1967D2;\n",
              "      height: 32px;\n",
              "      padding: 0 0 0 0;\n",
              "      width: 32px;\n",
              "    }\n",
              "\n",
              "    .colab-df-convert:hover {\n",
              "      background-color: #E2EBFA;\n",
              "      box-shadow: 0px 1px 2px rgba(60, 64, 67, 0.3), 0px 1px 3px 1px rgba(60, 64, 67, 0.15);\n",
              "      fill: #174EA6;\n",
              "    }\n",
              "\n",
              "    .colab-df-buttons div {\n",
              "      margin-bottom: 4px;\n",
              "    }\n",
              "\n",
              "    [theme=dark] .colab-df-convert {\n",
              "      background-color: #3B4455;\n",
              "      fill: #D2E3FC;\n",
              "    }\n",
              "\n",
              "    [theme=dark] .colab-df-convert:hover {\n",
              "      background-color: #434B5C;\n",
              "      box-shadow: 0px 1px 3px 1px rgba(0, 0, 0, 0.15);\n",
              "      filter: drop-shadow(0px 1px 2px rgba(0, 0, 0, 0.3));\n",
              "      fill: #FFFFFF;\n",
              "    }\n",
              "  </style>\n",
              "\n",
              "    <script>\n",
              "      const buttonEl =\n",
              "        document.querySelector('#df-d699e082-0625-47b8-96f3-78f30600a304 button.colab-df-convert');\n",
              "      buttonEl.style.display =\n",
              "        google.colab.kernel.accessAllowed ? 'block' : 'none';\n",
              "\n",
              "      async function convertToInteractive(key) {\n",
              "        const element = document.querySelector('#df-d699e082-0625-47b8-96f3-78f30600a304');\n",
              "        const dataTable =\n",
              "          await google.colab.kernel.invokeFunction('convertToInteractive',\n",
              "                                                    [key], {});\n",
              "        if (!dataTable) return;\n",
              "\n",
              "        const docLinkHtml = 'Like what you see? Visit the ' +\n",
              "          '<a target=\"_blank\" href=https://colab.research.google.com/notebooks/data_table.ipynb>data table notebook</a>'\n",
              "          + ' to learn more about interactive tables.';\n",
              "        element.innerHTML = '';\n",
              "        dataTable['output_type'] = 'display_data';\n",
              "        await google.colab.output.renderOutput(dataTable, element);\n",
              "        const docLink = document.createElement('div');\n",
              "        docLink.innerHTML = docLinkHtml;\n",
              "        element.appendChild(docLink);\n",
              "      }\n",
              "    </script>\n",
              "  </div>\n",
              "\n",
              "\n",
              "<div id=\"df-a7dbac8a-1244-4b57-a6a2-69cb8c6c60ba\">\n",
              "  <button class=\"colab-df-quickchart\" onclick=\"quickchart('df-a7dbac8a-1244-4b57-a6a2-69cb8c6c60ba')\"\n",
              "            title=\"Suggest charts\"\n",
              "            style=\"display:none;\">\n",
              "\n",
              "<svg xmlns=\"http://www.w3.org/2000/svg\" height=\"24px\"viewBox=\"0 0 24 24\"\n",
              "     width=\"24px\">\n",
              "    <g>\n",
              "        <path d=\"M19 3H5c-1.1 0-2 .9-2 2v14c0 1.1.9 2 2 2h14c1.1 0 2-.9 2-2V5c0-1.1-.9-2-2-2zM9 17H7v-7h2v7zm4 0h-2V7h2v10zm4 0h-2v-4h2v4z\"/>\n",
              "    </g>\n",
              "</svg>\n",
              "  </button>\n",
              "\n",
              "<style>\n",
              "  .colab-df-quickchart {\n",
              "      --bg-color: #E8F0FE;\n",
              "      --fill-color: #1967D2;\n",
              "      --hover-bg-color: #E2EBFA;\n",
              "      --hover-fill-color: #174EA6;\n",
              "      --disabled-fill-color: #AAA;\n",
              "      --disabled-bg-color: #DDD;\n",
              "  }\n",
              "\n",
              "  [theme=dark] .colab-df-quickchart {\n",
              "      --bg-color: #3B4455;\n",
              "      --fill-color: #D2E3FC;\n",
              "      --hover-bg-color: #434B5C;\n",
              "      --hover-fill-color: #FFFFFF;\n",
              "      --disabled-bg-color: #3B4455;\n",
              "      --disabled-fill-color: #666;\n",
              "  }\n",
              "\n",
              "  .colab-df-quickchart {\n",
              "    background-color: var(--bg-color);\n",
              "    border: none;\n",
              "    border-radius: 50%;\n",
              "    cursor: pointer;\n",
              "    display: none;\n",
              "    fill: var(--fill-color);\n",
              "    height: 32px;\n",
              "    padding: 0;\n",
              "    width: 32px;\n",
              "  }\n",
              "\n",
              "  .colab-df-quickchart:hover {\n",
              "    background-color: var(--hover-bg-color);\n",
              "    box-shadow: 0 1px 2px rgba(60, 64, 67, 0.3), 0 1px 3px 1px rgba(60, 64, 67, 0.15);\n",
              "    fill: var(--button-hover-fill-color);\n",
              "  }\n",
              "\n",
              "  .colab-df-quickchart-complete:disabled,\n",
              "  .colab-df-quickchart-complete:disabled:hover {\n",
              "    background-color: var(--disabled-bg-color);\n",
              "    fill: var(--disabled-fill-color);\n",
              "    box-shadow: none;\n",
              "  }\n",
              "\n",
              "  .colab-df-spinner {\n",
              "    border: 2px solid var(--fill-color);\n",
              "    border-color: transparent;\n",
              "    border-bottom-color: var(--fill-color);\n",
              "    animation:\n",
              "      spin 1s steps(1) infinite;\n",
              "  }\n",
              "\n",
              "  @keyframes spin {\n",
              "    0% {\n",
              "      border-color: transparent;\n",
              "      border-bottom-color: var(--fill-color);\n",
              "      border-left-color: var(--fill-color);\n",
              "    }\n",
              "    20% {\n",
              "      border-color: transparent;\n",
              "      border-left-color: var(--fill-color);\n",
              "      border-top-color: var(--fill-color);\n",
              "    }\n",
              "    30% {\n",
              "      border-color: transparent;\n",
              "      border-left-color: var(--fill-color);\n",
              "      border-top-color: var(--fill-color);\n",
              "      border-right-color: var(--fill-color);\n",
              "    }\n",
              "    40% {\n",
              "      border-color: transparent;\n",
              "      border-right-color: var(--fill-color);\n",
              "      border-top-color: var(--fill-color);\n",
              "    }\n",
              "    60% {\n",
              "      border-color: transparent;\n",
              "      border-right-color: var(--fill-color);\n",
              "    }\n",
              "    80% {\n",
              "      border-color: transparent;\n",
              "      border-right-color: var(--fill-color);\n",
              "      border-bottom-color: var(--fill-color);\n",
              "    }\n",
              "    90% {\n",
              "      border-color: transparent;\n",
              "      border-bottom-color: var(--fill-color);\n",
              "    }\n",
              "  }\n",
              "</style>\n",
              "\n",
              "  <script>\n",
              "    async function quickchart(key) {\n",
              "      const quickchartButtonEl =\n",
              "        document.querySelector('#' + key + ' button');\n",
              "      quickchartButtonEl.disabled = true;  // To prevent multiple clicks.\n",
              "      quickchartButtonEl.classList.add('colab-df-spinner');\n",
              "      try {\n",
              "        const charts = await google.colab.kernel.invokeFunction(\n",
              "            'suggestCharts', [key], {});\n",
              "      } catch (error) {\n",
              "        console.error('Error during call to suggestCharts:', error);\n",
              "      }\n",
              "      quickchartButtonEl.classList.remove('colab-df-spinner');\n",
              "      quickchartButtonEl.classList.add('colab-df-quickchart-complete');\n",
              "    }\n",
              "    (() => {\n",
              "      let quickchartButtonEl =\n",
              "        document.querySelector('#df-a7dbac8a-1244-4b57-a6a2-69cb8c6c60ba button');\n",
              "      quickchartButtonEl.style.display =\n",
              "        google.colab.kernel.accessAllowed ? 'block' : 'none';\n",
              "    })();\n",
              "  </script>\n",
              "</div>\n",
              "\n",
              "    </div>\n",
              "  </div>\n"
            ],
            "application/vnd.google.colaboratory.intrinsic+json": {
              "type": "dataframe",
              "variable_name": "df",
              "summary": "{\n  \"name\": \"df\",\n  \"rows\": 400,\n  \"fields\": [\n    {\n      \"column\": \"Full_text\",\n      \"properties\": {\n        \"dtype\": \"string\",\n        \"num_unique_values\": 400,\n        \"samples\": [\n          \"Getty ImagesNagaraj Shetti, Technical Research Analyst at HDFC Securities, believes Monday's pattern could be considered as a High Wave, which reflects high volatility in the market at swing highs.Shares of Voltas Ltd. slipped 4.33 per cent to Rs 1247.95 in Monday's trade. It hit a high of Rs 1285.35 and low of Rs 1242.15 during the session. \\n\\n On the technical charts, the 200-DMA of the stock stood at Rs 1180.29, while the 50-DMA was at Rs 1239.5. If a stock trades above 50-DMA and 200-DMA, it usually means the immediate trend is upward. On the other hand, if the stock trades below 50-DMA and 200-DMA, it is considered a bearish trend and if trades between these averages, then it suggests the stock can go either way. \\n\\n The stock traded below the signal line of momentum indicator moving average convergence divergence, or MACD, signalling a bearish bias on the counter. The MACD is known for signalling trend reversal in traded securities or indices. It is the difference between the 26-day and 12-day exponential moving averages. A nine-day exponential moving average, called the signal line, is plotted on top of the MACD to reflect \\\"buy\\\" or \\\"sell\\\" opportunities. \\n\\n On the other hand, the Relative Strength Index (RSI) of the stock stands at 46.22. Traditionally, a stock is considered overbought when the RSI value is above 70 and oversold when it is below 30. \\n\\n The return on equity (RoE) for the stock stood at 10.51 per cent while the Return on Capital Employed (RoCE) was at 9.56. RoCE is a financial ratio that determines a company's profitability and the efficiency of capital use, while the RoE is a measure of profitability of a business in relation to the equit\",\n          \"AgenciesPromoters held 34.64 per cent stake in the company as of 31-Mar-2022, while FIIs owned 28.85 per cent, DIIs 19.22 per cent.RelatedBuy Hindalco Industries, target price Rs 515:  JM Financial Buy TVS Motor Company, target price Rs 855:  Yes Securities Buy Indian Hotels Company, target price Rs 253:  Yes Securities Centrum Broking has buy call on Hindalco Industries with a target price of Rs 473. The current market price of Hindalco Industries Ltd. is Rs 320. Time period given by analyst is one year when Hindalco Industries Ltd. price can reach defined target.\\n\\n Hindalco Industries Ltd., incorporated in the year 1958, is a Large Cap company (having a market cap of Rs 71370.21 Crore) operating in Metals - Non Ferrous sector. \\n\\n Hindalco Industries Ltd. key Products/Revenue Segments include Copper/Copper Products, Aluminium, Other Operating Revenue, Sale of services for the year ending 31-Mar-2021. \\nETMarkets Smart Talk: India\\u00e2\\u20ac\\u2122s investable landscape wider than other EMs despite premium valuations: Piyush Sharma\\n\\n\\n Financials\\n For the quarter ended 31-03-2022, the company has reported a Consolidated Total Income of Rs 56057.00 Crore, up 11.11 % from last quarter Total Income of Rs 50453.00 Crore and up 37.75 % from last year same quarter Total Income of Rs 40696.00 Crore. Company has reported net profit after tax of Rs 3850.00 Crore in latest quarter. \\nMORE STORIES FOR YOU\\u00e2\\u0153\\u2022Buy Hindalco Industries, target price Rs 515:  JM Financial Buy TVS Motor Company, target price Rs 855:  Yes Securities Buy Indian Hotels Company, target price Rs 253:  Yes Securities \\u00c2\\u00ab Back to recommendation storiesI don't want to see these stories becauseThey are not relevant to meThey disrupt the reading flowOthersSUBMIT\\n\\nInvestment RationaleHindalco (HNDL IN)\\u00e2\\u20ac\\u2122s share price has fallen ~50% from its peak of March 2022 with investors having concern on its huge capex plans coinciding with falling aluminum prices and possibilities of earnings hit of Novelis amid recessionary fear in developed economies like US and Europe. The brokerage believe that the stock has factored in pessimism and market failed to single out the companies like HNDL whose earnings are relatively less susceptible to commodity prices and ~60% of EBITDA comes from conversion business which is intact. We believe that fundamentals of aluminum are robust and there should not be any major fall from current price of USD 2,500/t. However, with China increasing exports, global deficit may reduce and accordingly, it cuts average LME aluminium prices to USD 2,600/t in FY23E and USD2,400/t in FY24E, leading to 3%/6% cut in FY23E/FY24E EBITDA. With earnings cut and lower valuation multiple, we reduce our target price to Rs473 (earlier Rs573), valuing Novelis at 6.0x FY24E EV/EBITDA and Indian operations at 4.0x FY24E EV/EBITDA. At CMP, the stock is trading at 4.0x FY24E EV/EBITDA, which is near to a decade low. Reiterate BUY.\\n\\n\\n Promoter/FII Holdings  Promoters held 34.64 per cent stake in the company as of 31-Mar-2022, while FIIs owned 28.85 per cent, DIIs 19.22 per cent.\\n(Disclaimer: Recommendations given in this section or any reports attached herein are authored by an external party. Views expressed are that of the respective authors/entities. These do not represent the views of Economic Times (ET). ET does not guarantee, vouch for, endorse any of its contents and hereby disclaims all warranties, express or implied, relating to the same.  Please consult your financial adviser and seek independent advi\",\n          \"NCLT had last month passed an order reportedly after Almas Global failed to make payments to creditors of a Kolkata-based company under an approved resolution plan.The government has put on hold the sale of Pawan Hans as it is legally examining an NCLT order against Almas Global, which is part of the winning consortium, an official said on Monday. \\\"We will do a legal examination of the NCLT order before proceeding further. Letter of Award has not been issued,\\\" the official said. \\n\\nLast month, the government selected M/s Star9 Mobility Pvt Ltd, a consortium of M/s Big Charter Private Limited, M/s Maharaja Aviation Private Limited and M/s Almas Global Opportunity Fund SPC, as the winning bidder for Pawan Hans. \\n\\nStar9 Mobility had quoted Rs 211.14 crore for Pawan Hans, which was above the Reserve Price of Rs 199.92 crore fixed by the government on the basis of valuation carried out by the transaction adviser and asset valuer. \\n\\nThe National Company Law Tribunal (NCLT) had last month passed an order reportedly after Almas Global failed to make payments to creditors of a Kolkata-based company under an approved resolution plan.\\nWe\"\n        ],\n        \"semantic_type\": \"\",\n        \"description\": \"\"\n      }\n    },\n    {\n      \"column\": \"Final Status\",\n      \"properties\": {\n        \"dtype\": \"category\",\n        \"num_unique_values\": 2,\n        \"samples\": [\n          \"Positive\",\n          \"Negative\"\n        ],\n        \"semantic_type\": \"\",\n        \"description\": \"\"\n      }\n    }\n  ]\n}"
            }
          },
          "metadata": {},
          "execution_count": 13
        }
      ],
      "execution_count": 13
    },
    {
      "cell_type": "code",
      "source": [
        "df[\"Final Status\"] = df[\"Final Status\"].map({\"Negative\":0, \"Positive\":1})\n",
        "df.head()"
      ],
      "metadata": {
        "trusted": true,
        "execution": {
          "iopub.status.busy": "2025-04-02T06:38:55.808981Z",
          "iopub.execute_input": "2025-04-02T06:38:55.809239Z",
          "iopub.status.idle": "2025-04-02T06:38:55.82053Z",
          "shell.execute_reply.started": "2025-04-02T06:38:55.809214Z",
          "shell.execute_reply": "2025-04-02T06:38:55.819742Z"
        },
        "id": "nuxK0x3_W0Rf",
        "outputId": "97fa1de9-8025-487f-80ee-9d5b271877cd",
        "colab": {
          "base_uri": "https://localhost:8080/",
          "height": 206
        }
      },
      "outputs": [
        {
          "output_type": "execute_result",
          "data": {
            "text/plain": [
              "                                           Full_text  Final Status\n",
              "0  ReutersPayments companies and banks are at log...             0\n",
              "1  AgenciesThe bank presently has 20 million acti...             1\n",
              "2  PTIKarnataka Chief Minister Basavaraj Bommai.K...             1\n",
              "3  Getty ImagesThe budget for FY22 had imposed in...             0\n",
              "4  AgenciesThere is a view in the insurance indus...             1"
            ],
            "text/html": [
              "\n",
              "  <div id=\"df-a28a5034-c26d-421b-8037-5b72b13fff65\" class=\"colab-df-container\">\n",
              "    <div>\n",
              "<style scoped>\n",
              "    .dataframe tbody tr th:only-of-type {\n",
              "        vertical-align: middle;\n",
              "    }\n",
              "\n",
              "    .dataframe tbody tr th {\n",
              "        vertical-align: top;\n",
              "    }\n",
              "\n",
              "    .dataframe thead th {\n",
              "        text-align: right;\n",
              "    }\n",
              "</style>\n",
              "<table border=\"1\" class=\"dataframe\">\n",
              "  <thead>\n",
              "    <tr style=\"text-align: right;\">\n",
              "      <th></th>\n",
              "      <th>Full_text</th>\n",
              "      <th>Final Status</th>\n",
              "    </tr>\n",
              "  </thead>\n",
              "  <tbody>\n",
              "    <tr>\n",
              "      <th>0</th>\n",
              "      <td>ReutersPayments companies and banks are at log...</td>\n",
              "      <td>0</td>\n",
              "    </tr>\n",
              "    <tr>\n",
              "      <th>1</th>\n",
              "      <td>AgenciesThe bank presently has 20 million acti...</td>\n",
              "      <td>1</td>\n",
              "    </tr>\n",
              "    <tr>\n",
              "      <th>2</th>\n",
              "      <td>PTIKarnataka Chief Minister Basavaraj Bommai.K...</td>\n",
              "      <td>1</td>\n",
              "    </tr>\n",
              "    <tr>\n",
              "      <th>3</th>\n",
              "      <td>Getty ImagesThe budget for FY22 had imposed in...</td>\n",
              "      <td>0</td>\n",
              "    </tr>\n",
              "    <tr>\n",
              "      <th>4</th>\n",
              "      <td>AgenciesThere is a view in the insurance indus...</td>\n",
              "      <td>1</td>\n",
              "    </tr>\n",
              "  </tbody>\n",
              "</table>\n",
              "</div>\n",
              "    <div class=\"colab-df-buttons\">\n",
              "\n",
              "  <div class=\"colab-df-container\">\n",
              "    <button class=\"colab-df-convert\" onclick=\"convertToInteractive('df-a28a5034-c26d-421b-8037-5b72b13fff65')\"\n",
              "            title=\"Convert this dataframe to an interactive table.\"\n",
              "            style=\"display:none;\">\n",
              "\n",
              "  <svg xmlns=\"http://www.w3.org/2000/svg\" height=\"24px\" viewBox=\"0 -960 960 960\">\n",
              "    <path d=\"M120-120v-720h720v720H120Zm60-500h600v-160H180v160Zm220 220h160v-160H400v160Zm0 220h160v-160H400v160ZM180-400h160v-160H180v160Zm440 0h160v-160H620v160ZM180-180h160v-160H180v160Zm440 0h160v-160H620v160Z\"/>\n",
              "  </svg>\n",
              "    </button>\n",
              "\n",
              "  <style>\n",
              "    .colab-df-container {\n",
              "      display:flex;\n",
              "      gap: 12px;\n",
              "    }\n",
              "\n",
              "    .colab-df-convert {\n",
              "      background-color: #E8F0FE;\n",
              "      border: none;\n",
              "      border-radius: 50%;\n",
              "      cursor: pointer;\n",
              "      display: none;\n",
              "      fill: #1967D2;\n",
              "      height: 32px;\n",
              "      padding: 0 0 0 0;\n",
              "      width: 32px;\n",
              "    }\n",
              "\n",
              "    .colab-df-convert:hover {\n",
              "      background-color: #E2EBFA;\n",
              "      box-shadow: 0px 1px 2px rgba(60, 64, 67, 0.3), 0px 1px 3px 1px rgba(60, 64, 67, 0.15);\n",
              "      fill: #174EA6;\n",
              "    }\n",
              "\n",
              "    .colab-df-buttons div {\n",
              "      margin-bottom: 4px;\n",
              "    }\n",
              "\n",
              "    [theme=dark] .colab-df-convert {\n",
              "      background-color: #3B4455;\n",
              "      fill: #D2E3FC;\n",
              "    }\n",
              "\n",
              "    [theme=dark] .colab-df-convert:hover {\n",
              "      background-color: #434B5C;\n",
              "      box-shadow: 0px 1px 3px 1px rgba(0, 0, 0, 0.15);\n",
              "      filter: drop-shadow(0px 1px 2px rgba(0, 0, 0, 0.3));\n",
              "      fill: #FFFFFF;\n",
              "    }\n",
              "  </style>\n",
              "\n",
              "    <script>\n",
              "      const buttonEl =\n",
              "        document.querySelector('#df-a28a5034-c26d-421b-8037-5b72b13fff65 button.colab-df-convert');\n",
              "      buttonEl.style.display =\n",
              "        google.colab.kernel.accessAllowed ? 'block' : 'none';\n",
              "\n",
              "      async function convertToInteractive(key) {\n",
              "        const element = document.querySelector('#df-a28a5034-c26d-421b-8037-5b72b13fff65');\n",
              "        const dataTable =\n",
              "          await google.colab.kernel.invokeFunction('convertToInteractive',\n",
              "                                                    [key], {});\n",
              "        if (!dataTable) return;\n",
              "\n",
              "        const docLinkHtml = 'Like what you see? Visit the ' +\n",
              "          '<a target=\"_blank\" href=https://colab.research.google.com/notebooks/data_table.ipynb>data table notebook</a>'\n",
              "          + ' to learn more about interactive tables.';\n",
              "        element.innerHTML = '';\n",
              "        dataTable['output_type'] = 'display_data';\n",
              "        await google.colab.output.renderOutput(dataTable, element);\n",
              "        const docLink = document.createElement('div');\n",
              "        docLink.innerHTML = docLinkHtml;\n",
              "        element.appendChild(docLink);\n",
              "      }\n",
              "    </script>\n",
              "  </div>\n",
              "\n",
              "\n",
              "<div id=\"df-c9f50b7f-a73a-4b8a-aa8d-9ecd3f919056\">\n",
              "  <button class=\"colab-df-quickchart\" onclick=\"quickchart('df-c9f50b7f-a73a-4b8a-aa8d-9ecd3f919056')\"\n",
              "            title=\"Suggest charts\"\n",
              "            style=\"display:none;\">\n",
              "\n",
              "<svg xmlns=\"http://www.w3.org/2000/svg\" height=\"24px\"viewBox=\"0 0 24 24\"\n",
              "     width=\"24px\">\n",
              "    <g>\n",
              "        <path d=\"M19 3H5c-1.1 0-2 .9-2 2v14c0 1.1.9 2 2 2h14c1.1 0 2-.9 2-2V5c0-1.1-.9-2-2-2zM9 17H7v-7h2v7zm4 0h-2V7h2v10zm4 0h-2v-4h2v4z\"/>\n",
              "    </g>\n",
              "</svg>\n",
              "  </button>\n",
              "\n",
              "<style>\n",
              "  .colab-df-quickchart {\n",
              "      --bg-color: #E8F0FE;\n",
              "      --fill-color: #1967D2;\n",
              "      --hover-bg-color: #E2EBFA;\n",
              "      --hover-fill-color: #174EA6;\n",
              "      --disabled-fill-color: #AAA;\n",
              "      --disabled-bg-color: #DDD;\n",
              "  }\n",
              "\n",
              "  [theme=dark] .colab-df-quickchart {\n",
              "      --bg-color: #3B4455;\n",
              "      --fill-color: #D2E3FC;\n",
              "      --hover-bg-color: #434B5C;\n",
              "      --hover-fill-color: #FFFFFF;\n",
              "      --disabled-bg-color: #3B4455;\n",
              "      --disabled-fill-color: #666;\n",
              "  }\n",
              "\n",
              "  .colab-df-quickchart {\n",
              "    background-color: var(--bg-color);\n",
              "    border: none;\n",
              "    border-radius: 50%;\n",
              "    cursor: pointer;\n",
              "    display: none;\n",
              "    fill: var(--fill-color);\n",
              "    height: 32px;\n",
              "    padding: 0;\n",
              "    width: 32px;\n",
              "  }\n",
              "\n",
              "  .colab-df-quickchart:hover {\n",
              "    background-color: var(--hover-bg-color);\n",
              "    box-shadow: 0 1px 2px rgba(60, 64, 67, 0.3), 0 1px 3px 1px rgba(60, 64, 67, 0.15);\n",
              "    fill: var(--button-hover-fill-color);\n",
              "  }\n",
              "\n",
              "  .colab-df-quickchart-complete:disabled,\n",
              "  .colab-df-quickchart-complete:disabled:hover {\n",
              "    background-color: var(--disabled-bg-color);\n",
              "    fill: var(--disabled-fill-color);\n",
              "    box-shadow: none;\n",
              "  }\n",
              "\n",
              "  .colab-df-spinner {\n",
              "    border: 2px solid var(--fill-color);\n",
              "    border-color: transparent;\n",
              "    border-bottom-color: var(--fill-color);\n",
              "    animation:\n",
              "      spin 1s steps(1) infinite;\n",
              "  }\n",
              "\n",
              "  @keyframes spin {\n",
              "    0% {\n",
              "      border-color: transparent;\n",
              "      border-bottom-color: var(--fill-color);\n",
              "      border-left-color: var(--fill-color);\n",
              "    }\n",
              "    20% {\n",
              "      border-color: transparent;\n",
              "      border-left-color: var(--fill-color);\n",
              "      border-top-color: var(--fill-color);\n",
              "    }\n",
              "    30% {\n",
              "      border-color: transparent;\n",
              "      border-left-color: var(--fill-color);\n",
              "      border-top-color: var(--fill-color);\n",
              "      border-right-color: var(--fill-color);\n",
              "    }\n",
              "    40% {\n",
              "      border-color: transparent;\n",
              "      border-right-color: var(--fill-color);\n",
              "      border-top-color: var(--fill-color);\n",
              "    }\n",
              "    60% {\n",
              "      border-color: transparent;\n",
              "      border-right-color: var(--fill-color);\n",
              "    }\n",
              "    80% {\n",
              "      border-color: transparent;\n",
              "      border-right-color: var(--fill-color);\n",
              "      border-bottom-color: var(--fill-color);\n",
              "    }\n",
              "    90% {\n",
              "      border-color: transparent;\n",
              "      border-bottom-color: var(--fill-color);\n",
              "    }\n",
              "  }\n",
              "</style>\n",
              "\n",
              "  <script>\n",
              "    async function quickchart(key) {\n",
              "      const quickchartButtonEl =\n",
              "        document.querySelector('#' + key + ' button');\n",
              "      quickchartButtonEl.disabled = true;  // To prevent multiple clicks.\n",
              "      quickchartButtonEl.classList.add('colab-df-spinner');\n",
              "      try {\n",
              "        const charts = await google.colab.kernel.invokeFunction(\n",
              "            'suggestCharts', [key], {});\n",
              "      } catch (error) {\n",
              "        console.error('Error during call to suggestCharts:', error);\n",
              "      }\n",
              "      quickchartButtonEl.classList.remove('colab-df-spinner');\n",
              "      quickchartButtonEl.classList.add('colab-df-quickchart-complete');\n",
              "    }\n",
              "    (() => {\n",
              "      let quickchartButtonEl =\n",
              "        document.querySelector('#df-c9f50b7f-a73a-4b8a-aa8d-9ecd3f919056 button');\n",
              "      quickchartButtonEl.style.display =\n",
              "        google.colab.kernel.accessAllowed ? 'block' : 'none';\n",
              "    })();\n",
              "  </script>\n",
              "</div>\n",
              "\n",
              "    </div>\n",
              "  </div>\n"
            ],
            "application/vnd.google.colaboratory.intrinsic+json": {
              "type": "dataframe",
              "variable_name": "df",
              "summary": "{\n  \"name\": \"df\",\n  \"rows\": 400,\n  \"fields\": [\n    {\n      \"column\": \"Full_text\",\n      \"properties\": {\n        \"dtype\": \"string\",\n        \"num_unique_values\": 400,\n        \"samples\": [\n          \"Getty ImagesNagaraj Shetti, Technical Research Analyst at HDFC Securities, believes Monday's pattern could be considered as a High Wave, which reflects high volatility in the market at swing highs.Shares of Voltas Ltd. slipped 4.33 per cent to Rs 1247.95 in Monday's trade. It hit a high of Rs 1285.35 and low of Rs 1242.15 during the session. \\n\\n On the technical charts, the 200-DMA of the stock stood at Rs 1180.29, while the 50-DMA was at Rs 1239.5. If a stock trades above 50-DMA and 200-DMA, it usually means the immediate trend is upward. On the other hand, if the stock trades below 50-DMA and 200-DMA, it is considered a bearish trend and if trades between these averages, then it suggests the stock can go either way. \\n\\n The stock traded below the signal line of momentum indicator moving average convergence divergence, or MACD, signalling a bearish bias on the counter. The MACD is known for signalling trend reversal in traded securities or indices. It is the difference between the 26-day and 12-day exponential moving averages. A nine-day exponential moving average, called the signal line, is plotted on top of the MACD to reflect \\\"buy\\\" or \\\"sell\\\" opportunities. \\n\\n On the other hand, the Relative Strength Index (RSI) of the stock stands at 46.22. Traditionally, a stock is considered overbought when the RSI value is above 70 and oversold when it is below 30. \\n\\n The return on equity (RoE) for the stock stood at 10.51 per cent while the Return on Capital Employed (RoCE) was at 9.56. RoCE is a financial ratio that determines a company's profitability and the efficiency of capital use, while the RoE is a measure of profitability of a business in relation to the equit\",\n          \"AgenciesPromoters held 34.64 per cent stake in the company as of 31-Mar-2022, while FIIs owned 28.85 per cent, DIIs 19.22 per cent.RelatedBuy Hindalco Industries, target price Rs 515:  JM Financial Buy TVS Motor Company, target price Rs 855:  Yes Securities Buy Indian Hotels Company, target price Rs 253:  Yes Securities Centrum Broking has buy call on Hindalco Industries with a target price of Rs 473. The current market price of Hindalco Industries Ltd. is Rs 320. Time period given by analyst is one year when Hindalco Industries Ltd. price can reach defined target.\\n\\n Hindalco Industries Ltd., incorporated in the year 1958, is a Large Cap company (having a market cap of Rs 71370.21 Crore) operating in Metals - Non Ferrous sector. \\n\\n Hindalco Industries Ltd. key Products/Revenue Segments include Copper/Copper Products, Aluminium, Other Operating Revenue, Sale of services for the year ending 31-Mar-2021. \\nETMarkets Smart Talk: India\\u00e2\\u20ac\\u2122s investable landscape wider than other EMs despite premium valuations: Piyush Sharma\\n\\n\\n Financials\\n For the quarter ended 31-03-2022, the company has reported a Consolidated Total Income of Rs 56057.00 Crore, up 11.11 % from last quarter Total Income of Rs 50453.00 Crore and up 37.75 % from last year same quarter Total Income of Rs 40696.00 Crore. Company has reported net profit after tax of Rs 3850.00 Crore in latest quarter. \\nMORE STORIES FOR YOU\\u00e2\\u0153\\u2022Buy Hindalco Industries, target price Rs 515:  JM Financial Buy TVS Motor Company, target price Rs 855:  Yes Securities Buy Indian Hotels Company, target price Rs 253:  Yes Securities \\u00c2\\u00ab Back to recommendation storiesI don't want to see these stories becauseThey are not relevant to meThey disrupt the reading flowOthersSUBMIT\\n\\nInvestment RationaleHindalco (HNDL IN)\\u00e2\\u20ac\\u2122s share price has fallen ~50% from its peak of March 2022 with investors having concern on its huge capex plans coinciding with falling aluminum prices and possibilities of earnings hit of Novelis amid recessionary fear in developed economies like US and Europe. The brokerage believe that the stock has factored in pessimism and market failed to single out the companies like HNDL whose earnings are relatively less susceptible to commodity prices and ~60% of EBITDA comes from conversion business which is intact. We believe that fundamentals of aluminum are robust and there should not be any major fall from current price of USD 2,500/t. However, with China increasing exports, global deficit may reduce and accordingly, it cuts average LME aluminium prices to USD 2,600/t in FY23E and USD2,400/t in FY24E, leading to 3%/6% cut in FY23E/FY24E EBITDA. With earnings cut and lower valuation multiple, we reduce our target price to Rs473 (earlier Rs573), valuing Novelis at 6.0x FY24E EV/EBITDA and Indian operations at 4.0x FY24E EV/EBITDA. At CMP, the stock is trading at 4.0x FY24E EV/EBITDA, which is near to a decade low. Reiterate BUY.\\n\\n\\n Promoter/FII Holdings  Promoters held 34.64 per cent stake in the company as of 31-Mar-2022, while FIIs owned 28.85 per cent, DIIs 19.22 per cent.\\n(Disclaimer: Recommendations given in this section or any reports attached herein are authored by an external party. Views expressed are that of the respective authors/entities. These do not represent the views of Economic Times (ET). ET does not guarantee, vouch for, endorse any of its contents and hereby disclaims all warranties, express or implied, relating to the same.  Please consult your financial adviser and seek independent advi\",\n          \"NCLT had last month passed an order reportedly after Almas Global failed to make payments to creditors of a Kolkata-based company under an approved resolution plan.The government has put on hold the sale of Pawan Hans as it is legally examining an NCLT order against Almas Global, which is part of the winning consortium, an official said on Monday. \\\"We will do a legal examination of the NCLT order before proceeding further. Letter of Award has not been issued,\\\" the official said. \\n\\nLast month, the government selected M/s Star9 Mobility Pvt Ltd, a consortium of M/s Big Charter Private Limited, M/s Maharaja Aviation Private Limited and M/s Almas Global Opportunity Fund SPC, as the winning bidder for Pawan Hans. \\n\\nStar9 Mobility had quoted Rs 211.14 crore for Pawan Hans, which was above the Reserve Price of Rs 199.92 crore fixed by the government on the basis of valuation carried out by the transaction adviser and asset valuer. \\n\\nThe National Company Law Tribunal (NCLT) had last month passed an order reportedly after Almas Global failed to make payments to creditors of a Kolkata-based company under an approved resolution plan.\\nWe\"\n        ],\n        \"semantic_type\": \"\",\n        \"description\": \"\"\n      }\n    },\n    {\n      \"column\": \"Final Status\",\n      \"properties\": {\n        \"dtype\": \"number\",\n        \"std\": 0,\n        \"min\": 0,\n        \"max\": 1,\n        \"num_unique_values\": 2,\n        \"samples\": [\n          1,\n          0\n        ],\n        \"semantic_type\": \"\",\n        \"description\": \"\"\n      }\n    }\n  ]\n}"
            }
          },
          "metadata": {},
          "execution_count": 14
        }
      ],
      "execution_count": 14
    },
    {
      "cell_type": "code",
      "source": [
        "import matplotlib.pyplot as plt\n",
        "import seaborn as sns"
      ],
      "metadata": {
        "trusted": true,
        "execution": {
          "iopub.status.busy": "2025-04-02T06:38:55.821627Z",
          "iopub.execute_input": "2025-04-02T06:38:55.821869Z",
          "iopub.status.idle": "2025-04-02T06:38:55.836262Z",
          "shell.execute_reply.started": "2025-04-02T06:38:55.821846Z",
          "shell.execute_reply": "2025-04-02T06:38:55.8352Z"
        },
        "id": "ueeISvcPW0Rg"
      },
      "outputs": [],
      "execution_count": 15
    },
    {
      "cell_type": "code",
      "source": [
        "counts = df[\"Final Status\"].value_counts()\n",
        "# Plot\n",
        "plt.figure(figsize=(6, 4))\n",
        "plt.bar(counts.index.map({0: \"Negative\", 1: \"Positive\"}), counts.values, color=['green', 'red'])\n",
        "plt.title(\"Count of Negative vs Positive Sentiments\")\n",
        "plt.xlabel(\"Sentiment Type\")\n",
        "plt.ylabel(\"Number of News Articles\")\n",
        "plt.grid(axis='y', linestyle='--', alpha=0.5)\n",
        "plt.show()"
      ],
      "metadata": {
        "trusted": true,
        "execution": {
          "iopub.status.busy": "2025-04-02T06:38:55.836964Z",
          "iopub.execute_input": "2025-04-02T06:38:55.837195Z",
          "iopub.status.idle": "2025-04-02T06:38:55.952459Z",
          "shell.execute_reply.started": "2025-04-02T06:38:55.837174Z",
          "shell.execute_reply": "2025-04-02T06:38:55.951538Z"
        },
        "id": "wMVjEhQIW0Rh",
        "outputId": "9f78e8d0-a49d-464d-95a1-91248e4317fd",
        "colab": {
          "base_uri": "https://localhost:8080/",
          "height": 410
        }
      },
      "outputs": [
        {
          "output_type": "display_data",
          "data": {
            "text/plain": [
              "<Figure size 600x400 with 1 Axes>"
            ],
            "image/png": "[encoded data removed]"
          },
          "metadata": {}
        }
      ],
      "execution_count": 16
    },
    {
      "cell_type": "code",
      "source": [
        "import nltk\n",
        "import re\n",
        "import matplotlib.pyplot as plt\n",
        "import seaborn as sns\n",
        "nltk.download('stopwords')\n",
        "from nltk.corpus import stopwords\n",
        "from nltk.stem.porter import PorterStemmer\n",
        "from tensorflow.keras.layers import Embedding\n",
        "from tensorflow.keras.preprocessing.sequence import pad_sequences\n",
        "from tensorflow.keras.models import Sequential\n",
        "from tensorflow.keras.preprocessing.text import one_hot\n",
        "from tensorflow.keras.layers import LSTM, Dropout, Bidirectional, GRU\n",
        "from tensorflow.keras.layers import Dense\n",
        "from sklearn.metrics import confusion_matrix, accuracy_score, classification_report"
      ],
      "metadata": {
        "trusted": true,
        "execution": {
          "iopub.status.busy": "2025-04-02T06:38:59.32272Z",
          "iopub.execute_input": "2025-04-02T06:38:59.323049Z",
          "iopub.status.idle": "2025-04-02T06:38:59.329927Z",
          "shell.execute_reply.started": "2025-04-02T06:38:59.323018Z",
          "shell.execute_reply": "2025-04-02T06:38:59.328936Z"
        },
        "id": "yhXuxeB-W0Rj",
        "outputId": "6a4dfbd9-4fec-41b8-949f-630720da4595",
        "colab": {
          "base_uri": "https://localhost:8080/"
        }
      },
      "outputs": [
        {
          "output_type": "stream",
          "name": "stderr",
          "text": [
            "[nltk_data] Downloading package stopwords to /root/nltk_data...\n",
            "[nltk_data]   Unzipping corpora/stopwords.zip.\n"
          ]
        }
      ],
      "execution_count": 17
    },
    {
      "cell_type": "code",
      "source": [
        "from nltk.stem import WordNetLemmatizer\n",
        "nltk.download('stopwords')\n",
        "nltk.download('wordnet')\n",
        "\n",
        "# Initialize stopwords and lemmatizer\n",
        "stop_words = set(stopwords.words('english'))\n",
        "lemmatizer = WordNetLemmatizer()\n",
        "\n",
        "def clean_text(text):\n",
        "    text = re.sub(r'[^a-zA-Z]', ' ', text)  # Keep letters only\n",
        "    text = text.lower().split()\n",
        "    text = [lemmatizer.lemmatize(word) for word in text if word not in stop_words]\n",
        "    return ' '.join(text)\n",
        "\n",
        "# Assuming df is already defined as a pandas DataFrame\n",
        "df['clean_text'] = df['Full_text'].apply(clean_text)"
      ],
      "metadata": {
        "trusted": true,
        "execution": {
          "iopub.status.busy": "2025-04-02T06:46:38.582944Z",
          "iopub.execute_input": "2025-04-02T06:46:38.583346Z",
          "iopub.status.idle": "2025-04-02T06:46:43.05911Z",
          "shell.execute_reply.started": "2025-04-02T06:46:38.583316Z",
          "shell.execute_reply": "2025-04-02T06:46:43.057739Z"
        },
        "id": "dqAcWSxrW0Rk",
        "outputId": "432c7f90-895a-4a19-c4b4-4ea56cd4540f",
        "colab": {
          "base_uri": "https://localhost:8080/"
        }
      },
      "outputs": [
        {
          "output_type": "stream",
          "name": "stderr",
          "text": [
            "[nltk_data] Downloading package stopwords to /root/nltk_data...\n",
            "[nltk_data]   Package stopwords is already up-to-date!\n",
            "[nltk_data] Downloading package wordnet to /root/nltk_data...\n"
          ]
        }
      ],
      "execution_count": 18
    },
    {
      "cell_type": "code",
      "source": [
        "df.head()"
      ],
      "metadata": {
        "trusted": true,
        "execution": {
          "iopub.status.busy": "2025-04-02T06:46:48.322975Z",
          "iopub.execute_input": "2025-04-02T06:46:48.323341Z",
          "iopub.status.idle": "2025-04-02T06:46:48.333068Z",
          "shell.execute_reply.started": "2025-04-02T06:46:48.323314Z",
          "shell.execute_reply": "2025-04-02T06:46:48.331972Z"
        },
        "id": "DqwxztowW0Rm",
        "outputId": "054aa4ee-ea2c-4e58-f7a1-15ebcafecf87",
        "colab": {
          "base_uri": "https://localhost:8080/",
          "height": 241
        }
      },
      "outputs": [
        {
          "output_type": "execute_result",
          "data": {
            "text/plain": [
              "                                           Full_text  Final Status  \\\n",
              "0  ReutersPayments companies and banks are at log...             0   \n",
              "1  AgenciesThe bank presently has 20 million acti...             1   \n",
              "2  PTIKarnataka Chief Minister Basavaraj Bommai.K...             1   \n",
              "3  Getty ImagesThe budget for FY22 had imposed in...             0   \n",
              "4  AgenciesThere is a view in the insurance indus...             1   \n",
              "\n",
              "                                          clean_text  \n",
              "0  reuterspayments company bank loggerhead sharin...  \n",
              "1  agenciesthe bank presently million active user...  \n",
              "2  ptikarnataka chief minister basavaraj bommai k...  \n",
              "3  getty imagesthe budget fy imposed income tax i...  \n",
              "4  agenciesthere view insurance industry iib able...  "
            ],
            "text/html": [
              "\n",
              "  <div id=\"df-9efefb79-65a1-4867-94cd-5997a751d64a\" class=\"colab-df-container\">\n",
              "    <div>\n",
              "<style scoped>\n",
              "    .dataframe tbody tr th:only-of-type {\n",
              "        vertical-align: middle;\n",
              "    }\n",
              "\n",
              "    .dataframe tbody tr th {\n",
              "        vertical-align: top;\n",
              "    }\n",
              "\n",
              "    .dataframe thead th {\n",
              "        text-align: right;\n",
              "    }\n",
              "</style>\n",
              "<table border=\"1\" class=\"dataframe\">\n",
              "  <thead>\n",
              "    <tr style=\"text-align: right;\">\n",
              "      <th></th>\n",
              "      <th>Full_text</th>\n",
              "      <th>Final Status</th>\n",
              "      <th>clean_text</th>\n",
              "    </tr>\n",
              "  </thead>\n",
              "  <tbody>\n",
              "    <tr>\n",
              "      <th>0</th>\n",
              "      <td>ReutersPayments companies and banks are at log...</td>\n",
              "      <td>0</td>\n",
              "      <td>reuterspayments company bank loggerhead sharin...</td>\n",
              "    </tr>\n",
              "    <tr>\n",
              "      <th>1</th>\n",
              "      <td>AgenciesThe bank presently has 20 million acti...</td>\n",
              "      <td>1</td>\n",
              "      <td>agenciesthe bank presently million active user...</td>\n",
              "    </tr>\n",
              "    <tr>\n",
              "      <th>2</th>\n",
              "      <td>PTIKarnataka Chief Minister Basavaraj Bommai.K...</td>\n",
              "      <td>1</td>\n",
              "      <td>ptikarnataka chief minister basavaraj bommai k...</td>\n",
              "    </tr>\n",
              "    <tr>\n",
              "      <th>3</th>\n",
              "      <td>Getty ImagesThe budget for FY22 had imposed in...</td>\n",
              "      <td>0</td>\n",
              "      <td>getty imagesthe budget fy imposed income tax i...</td>\n",
              "    </tr>\n",
              "    <tr>\n",
              "      <th>4</th>\n",
              "      <td>AgenciesThere is a view in the insurance indus...</td>\n",
              "      <td>1</td>\n",
              "      <td>agenciesthere view insurance industry iib able...</td>\n",
              "    </tr>\n",
              "  </tbody>\n",
              "</table>\n",
              "</div>\n",
              "    <div class=\"colab-df-buttons\">\n",
              "\n",
              "  <div class=\"colab-df-container\">\n",
              "    <button class=\"colab-df-convert\" onclick=\"convertToInteractive('df-9efefb79-65a1-4867-94cd-5997a751d64a')\"\n",
              "            title=\"Convert this dataframe to an interactive table.\"\n",
              "            style=\"display:none;\">\n",
              "\n",
              "  <svg xmlns=\"http://www.w3.org/2000/svg\" height=\"24px\" viewBox=\"0 -960 960 960\">\n",
              "    <path d=\"M120-120v-720h720v720H120Zm60-500h600v-160H180v160Zm220 220h160v-160H400v160Zm0 220h160v-160H400v160ZM180-400h160v-160H180v160Zm440 0h160v-160H620v160ZM180-180h160v-160H180v160Zm440 0h160v-160H620v160Z\"/>\n",
              "  </svg>\n",
              "    </button>\n",
              "\n",
              "  <style>\n",
              "    .colab-df-container {\n",
              "      display:flex;\n",
              "      gap: 12px;\n",
              "    }\n",
              "\n",
              "    .colab-df-convert {\n",
              "      background-color: #E8F0FE;\n",
              "      border: none;\n",
              "      border-radius: 50%;\n",
              "      cursor: pointer;\n",
              "      display: none;\n",
              "      fill: #1967D2;\n",
              "      height: 32px;\n",
              "      padding: 0 0 0 0;\n",
              "      width: 32px;\n",
              "    }\n",
              "\n",
              "    .colab-df-convert:hover {\n",
              "      background-color: #E2EBFA;\n",
              "      box-shadow: 0px 1px 2px rgba(60, 64, 67, 0.3), 0px 1px 3px 1px rgba(60, 64, 67, 0.15);\n",
              "      fill: #174EA6;\n",
              "    }\n",
              "\n",
              "    .colab-df-buttons div {\n",
              "      margin-bottom: 4px;\n",
              "    }\n",
              "\n",
              "    [theme=dark] .colab-df-convert {\n",
              "      background-color: #3B4455;\n",
              "      fill: #D2E3FC;\n",
              "    }\n",
              "\n",
              "    [theme=dark] .colab-df-convert:hover {\n",
              "      background-color: #434B5C;\n",
              "      box-shadow: 0px 1px 3px 1px rgba(0, 0, 0, 0.15);\n",
              "      filter: drop-shadow(0px 1px 2px rgba(0, 0, 0, 0.3));\n",
              "      fill: #FFFFFF;\n",
              "    }\n",
              "  </style>\n",
              "\n",
              "    <script>\n",
              "      const buttonEl =\n",
              "        document.querySelector('#df-9efefb79-65a1-4867-94cd-5997a751d64a button.colab-df-convert');\n",
              "      buttonEl.style.display =\n",
              "        google.colab.kernel.accessAllowed ? 'block' : 'none';\n",
              "\n",
              "      async function convertToInteractive(key) {\n",
              "        const element = document.querySelector('#df-9efefb79-65a1-4867-94cd-5997a751d64a');\n",
              "        const dataTable =\n",
              "          await google.colab.kernel.invokeFunction('convertToInteractive',\n",
              "                                                    [key], {});\n",
              "        if (!dataTable) return;\n",
              "\n",
              "        const docLinkHtml = 'Like what you see? Visit the ' +\n",
              "          '<a target=\"_blank\" href=https://colab.research.google.com/notebooks/data_table.ipynb>data table notebook</a>'\n",
              "          + ' to learn more about interactive tables.';\n",
              "        element.innerHTML = '';\n",
              "        dataTable['output_type'] = 'display_data';\n",
              "        await google.colab.output.renderOutput(dataTable, element);\n",
              "        const docLink = document.createElement('div');\n",
              "        docLink.innerHTML = docLinkHtml;\n",
              "        element.appendChild(docLink);\n",
              "      }\n",
              "    </script>\n",
              "  </div>\n",
              "\n",
              "\n",
              "<div id=\"df-bd8ac0ac-e766-437d-b08c-6a1100087bce\">\n",
              "  <button class=\"colab-df-quickchart\" onclick=\"quickchart('df-bd8ac0ac-e766-437d-b08c-6a1100087bce')\"\n",
              "            title=\"Suggest charts\"\n",
              "            style=\"display:none;\">\n",
              "\n",
              "<svg xmlns=\"http://www.w3.org/2000/svg\" height=\"24px\"viewBox=\"0 0 24 24\"\n",
              "     width=\"24px\">\n",
              "    <g>\n",
              "        <path d=\"M19 3H5c-1.1 0-2 .9-2 2v14c0 1.1.9 2 2 2h14c1.1 0 2-.9 2-2V5c0-1.1-.9-2-2-2zM9 17H7v-7h2v7zm4 0h-2V7h2v10zm4 0h-2v-4h2v4z\"/>\n",
              "    </g>\n",
              "</svg>\n",
              "  </button>\n",
              "\n",
              "<style>\n",
              "  .colab-df-quickchart {\n",
              "      --bg-color: #E8F0FE;\n",
              "      --fill-color: #1967D2;\n",
              "      --hover-bg-color: #E2EBFA;\n",
              "      --hover-fill-color: #174EA6;\n",
              "      --disabled-fill-color: #AAA;\n",
              "      --disabled-bg-color: #DDD;\n",
              "  }\n",
              "\n",
              "  [theme=dark] .colab-df-quickchart {\n",
              "      --bg-color: #3B4455;\n",
              "      --fill-color: #D2E3FC;\n",
              "      --hover-bg-color: #434B5C;\n",
              "      --hover-fill-color: #FFFFFF;\n",
              "      --disabled-bg-color: #3B4455;\n",
              "      --disabled-fill-color: #666;\n",
              "  }\n",
              "\n",
              "  .colab-df-quickchart {\n",
              "    background-color: var(--bg-color);\n",
              "    border: none;\n",
              "    border-radius: 50%;\n",
              "    cursor: pointer;\n",
              "    display: none;\n",
              "    fill: var(--fill-color);\n",
              "    height: 32px;\n",
              "    padding: 0;\n",
              "    width: 32px;\n",
              "  }\n",
              "\n",
              "  .colab-df-quickchart:hover {\n",
              "    background-color: var(--hover-bg-color);\n",
              "    box-shadow: 0 1px 2px rgba(60, 64, 67, 0.3), 0 1px 3px 1px rgba(60, 64, 67, 0.15);\n",
              "    fill: var(--button-hover-fill-color);\n",
              "  }\n",
              "\n",
              "  .colab-df-quickchart-complete:disabled,\n",
              "  .colab-df-quickchart-complete:disabled:hover {\n",
              "    background-color: var(--disabled-bg-color);\n",
              "    fill: var(--disabled-fill-color);\n",
              "    box-shadow: none;\n",
              "  }\n",
              "\n",
              "  .colab-df-spinner {\n",
              "    border: 2px solid var(--fill-color);\n",
              "    border-color: transparent;\n",
              "    border-bottom-color: var(--fill-color);\n",
              "    animation:\n",
              "      spin 1s steps(1) infinite;\n",
              "  }\n",
              "\n",
              "  @keyframes spin {\n",
              "    0% {\n",
              "      border-color: transparent;\n",
              "      border-bottom-color: var(--fill-color);\n",
              "      border-left-color: var(--fill-color);\n",
              "    }\n",
              "    20% {\n",
              "      border-color: transparent;\n",
              "      border-left-color: var(--fill-color);\n",
              "      border-top-color: var(--fill-color);\n",
              "    }\n",
              "    30% {\n",
              "      border-color: transparent;\n",
              "      border-left-color: var(--fill-color);\n",
              "      border-top-color: var(--fill-color);\n",
              "      border-right-color: var(--fill-color);\n",
              "    }\n",
              "    40% {\n",
              "      border-color: transparent;\n",
              "      border-right-color: var(--fill-color);\n",
              "      border-top-color: var(--fill-color);\n",
              "    }\n",
              "    60% {\n",
              "      border-color: transparent;\n",
              "      border-right-color: var(--fill-color);\n",
              "    }\n",
              "    80% {\n",
              "      border-color: transparent;\n",
              "      border-right-color: var(--fill-color);\n",
              "      border-bottom-color: var(--fill-color);\n",
              "    }\n",
              "    90% {\n",
              "      border-color: transparent;\n",
              "      border-bottom-color: var(--fill-color);\n",
              "    }\n",
              "  }\n",
              "</style>\n",
              "\n",
              "  <script>\n",
              "    async function quickchart(key) {\n",
              "      const quickchartButtonEl =\n",
              "        document.querySelector('#' + key + ' button');\n",
              "      quickchartButtonEl.disabled = true;  // To prevent multiple clicks.\n",
              "      quickchartButtonEl.classList.add('colab-df-spinner');\n",
              "      try {\n",
              "        const charts = await google.colab.kernel.invokeFunction(\n",
              "            'suggestCharts', [key], {});\n",
              "      } catch (error) {\n",
              "        console.error('Error during call to suggestCharts:', error);\n",
              "      }\n",
              "      quickchartButtonEl.classList.remove('colab-df-spinner');\n",
              "      quickchartButtonEl.classList.add('colab-df-quickchart-complete');\n",
              "    }\n",
              "    (() => {\n",
              "      let quickchartButtonEl =\n",
              "        document.querySelector('#df-bd8ac0ac-e766-437d-b08c-6a1100087bce button');\n",
              "      quickchartButtonEl.style.display =\n",
              "        google.colab.kernel.accessAllowed ? 'block' : 'none';\n",
              "    })();\n",
              "  </script>\n",
              "</div>\n",
              "\n",
              "    </div>\n",
              "  </div>\n"
            ],
            "application/vnd.google.colaboratory.intrinsic+json": {
              "type": "dataframe",
              "variable_name": "df",
              "summary": "{\n  \"name\": \"df\",\n  \"rows\": 400,\n  \"fields\": [\n    {\n      \"column\": \"Full_text\",\n      \"properties\": {\n        \"dtype\": \"string\",\n        \"num_unique_values\": 400,\n        \"samples\": [\n          \"Getty ImagesNagaraj Shetti, Technical Research Analyst at HDFC Securities, believes Monday's pattern could be considered as a High Wave, which reflects high volatility in the market at swing highs.Shares of Voltas Ltd. slipped 4.33 per cent to Rs 1247.95 in Monday's trade. It hit a high of Rs 1285.35 and low of Rs 1242.15 during the session. \\n\\n On the technical charts, the 200-DMA of the stock stood at Rs 1180.29, while the 50-DMA was at Rs 1239.5. If a stock trades above 50-DMA and 200-DMA, it usually means the immediate trend is upward. On the other hand, if the stock trades below 50-DMA and 200-DMA, it is considered a bearish trend and if trades between these averages, then it suggests the stock can go either way. \\n\\n The stock traded below the signal line of momentum indicator moving average convergence divergence, or MACD, signalling a bearish bias on the counter. The MACD is known for signalling trend reversal in traded securities or indices. It is the difference between the 26-day and 12-day exponential moving averages. A nine-day exponential moving average, called the signal line, is plotted on top of the MACD to reflect \\\"buy\\\" or \\\"sell\\\" opportunities. \\n\\n On the other hand, the Relative Strength Index (RSI) of the stock stands at 46.22. Traditionally, a stock is considered overbought when the RSI value is above 70 and oversold when it is below 30. \\n\\n The return on equity (RoE) for the stock stood at 10.51 per cent while the Return on Capital Employed (RoCE) was at 9.56. RoCE is a financial ratio that determines a company's profitability and the efficiency of capital use, while the RoE is a measure of profitability of a business in relation to the equit\",\n          \"AgenciesPromoters held 34.64 per cent stake in the company as of 31-Mar-2022, while FIIs owned 28.85 per cent, DIIs 19.22 per cent.RelatedBuy Hindalco Industries, target price Rs 515:  JM Financial Buy TVS Motor Company, target price Rs 855:  Yes Securities Buy Indian Hotels Company, target price Rs 253:  Yes Securities Centrum Broking has buy call on Hindalco Industries with a target price of Rs 473. The current market price of Hindalco Industries Ltd. is Rs 320. Time period given by analyst is one year when Hindalco Industries Ltd. price can reach defined target.\\n\\n Hindalco Industries Ltd., incorporated in the year 1958, is a Large Cap company (having a market cap of Rs 71370.21 Crore) operating in Metals - Non Ferrous sector. \\n\\n Hindalco Industries Ltd. key Products/Revenue Segments include Copper/Copper Products, Aluminium, Other Operating Revenue, Sale of services for the year ending 31-Mar-2021. \\nETMarkets Smart Talk: India\\u00e2\\u20ac\\u2122s investable landscape wider than other EMs despite premium valuations: Piyush Sharma\\n\\n\\n Financials\\n For the quarter ended 31-03-2022, the company has reported a Consolidated Total Income of Rs 56057.00 Crore, up 11.11 % from last quarter Total Income of Rs 50453.00 Crore and up 37.75 % from last year same quarter Total Income of Rs 40696.00 Crore. Company has reported net profit after tax of Rs 3850.00 Crore in latest quarter. \\nMORE STORIES FOR YOU\\u00e2\\u0153\\u2022Buy Hindalco Industries, target price Rs 515:  JM Financial Buy TVS Motor Company, target price Rs 855:  Yes Securities Buy Indian Hotels Company, target price Rs 253:  Yes Securities \\u00c2\\u00ab Back to recommendation storiesI don't want to see these stories becauseThey are not relevant to meThey disrupt the reading flowOthersSUBMIT\\n\\nInvestment RationaleHindalco (HNDL IN)\\u00e2\\u20ac\\u2122s share price has fallen ~50% from its peak of March 2022 with investors having concern on its huge capex plans coinciding with falling aluminum prices and possibilities of earnings hit of Novelis amid recessionary fear in developed economies like US and Europe. The brokerage believe that the stock has factored in pessimism and market failed to single out the companies like HNDL whose earnings are relatively less susceptible to commodity prices and ~60% of EBITDA comes from conversion business which is intact. We believe that fundamentals of aluminum are robust and there should not be any major fall from current price of USD 2,500/t. However, with China increasing exports, global deficit may reduce and accordingly, it cuts average LME aluminium prices to USD 2,600/t in FY23E and USD2,400/t in FY24E, leading to 3%/6% cut in FY23E/FY24E EBITDA. With earnings cut and lower valuation multiple, we reduce our target price to Rs473 (earlier Rs573), valuing Novelis at 6.0x FY24E EV/EBITDA and Indian operations at 4.0x FY24E EV/EBITDA. At CMP, the stock is trading at 4.0x FY24E EV/EBITDA, which is near to a decade low. Reiterate BUY.\\n\\n\\n Promoter/FII Holdings  Promoters held 34.64 per cent stake in the company as of 31-Mar-2022, while FIIs owned 28.85 per cent, DIIs 19.22 per cent.\\n(Disclaimer: Recommendations given in this section or any reports attached herein are authored by an external party. Views expressed are that of the respective authors/entities. These do not represent the views of Economic Times (ET). ET does not guarantee, vouch for, endorse any of its contents and hereby disclaims all warranties, express or implied, relating to the same.  Please consult your financial adviser and seek independent advi\",\n          \"NCLT had last month passed an order reportedly after Almas Global failed to make payments to creditors of a Kolkata-based company under an approved resolution plan.The government has put on hold the sale of Pawan Hans as it is legally examining an NCLT order against Almas Global, which is part of the winning consortium, an official said on Monday. \\\"We will do a legal examination of the NCLT order before proceeding further. Letter of Award has not been issued,\\\" the official said. \\n\\nLast month, the government selected M/s Star9 Mobility Pvt Ltd, a consortium of M/s Big Charter Private Limited, M/s Maharaja Aviation Private Limited and M/s Almas Global Opportunity Fund SPC, as the winning bidder for Pawan Hans. \\n\\nStar9 Mobility had quoted Rs 211.14 crore for Pawan Hans, which was above the Reserve Price of Rs 199.92 crore fixed by the government on the basis of valuation carried out by the transaction adviser and asset valuer. \\n\\nThe National Company Law Tribunal (NCLT) had last month passed an order reportedly after Almas Global failed to make payments to creditors of a Kolkata-based company under an approved resolution plan.\\nWe\"\n        ],\n        \"semantic_type\": \"\",\n        \"description\": \"\"\n      }\n    },\n    {\n      \"column\": \"Final Status\",\n      \"properties\": {\n        \"dtype\": \"number\",\n        \"std\": 0,\n        \"min\": 0,\n        \"max\": 1,\n        \"num_unique_values\": 2,\n        \"samples\": [\n          1,\n          0\n        ],\n        \"semantic_type\": \"\",\n        \"description\": \"\"\n      }\n    },\n    {\n      \"column\": \"clean_text\",\n      \"properties\": {\n        \"dtype\": \"string\",\n        \"num_unique_values\": 400,\n        \"samples\": [\n          \"getty imagesnagaraj shetti technical research analyst hdfc security belief monday pattern could considered high wave reflects high volatility market swing high share volta ltd slipped per cent r monday trade hit high r low r session technical chart dma stock stood r dma r stock trade dma dma usually mean immediate trend upward hand stock trade dma dma considered bearish trend trade average suggests stock go either way stock traded signal line momentum indicator moving average convergence divergence macd signalling bearish bias counter macd known signalling trend reversal traded security index difference day day exponential moving average nine day exponential moving average called signal line plotted top macd reflect buy sell opportunity hand relative strength index rsi stock stand traditionally stock considered overbought rsi value oversold return equity roe stock stood per cent return capital employed roce roce financial ratio determines company profitability efficiency capital use roe measure profitability business relation equit\",\n          \"agenciespromoters held per cent stake company mar fiis owned per cent diis per cent relatedbuy hindalco industry target price r jm financial buy tv motor company target price r yes security buy indian hotel company target price r yes security centrum broking buy call hindalco industry target price r current market price hindalco industry ltd r time period given analyst one year hindalco industry ltd price reach defined target hindalco industry ltd incorporated year large cap company market cap r crore operating metal non ferrous sector hindalco industry ltd key product revenue segment include copper copper product aluminium operating revenue sale service year ending mar etmarkets smart talk india investable landscape wider em despite premium valuation piyush sharma financials quarter ended company reported consolidated total income r crore last quarter total income r crore last year quarter total income r crore company reported net profit tax r crore latest quarter story buy hindalco industry target price r jm financial buy tv motor company target price r yes security buy indian hotel company target price r yes security back recommendation storiesi want see story becausethey relevant methey disrupt reading flowotherssubmit investment rationalehindalco hndl share price fallen peak march investor concern huge capex plan coinciding falling aluminum price possibility earnings hit novelis amid recessionary fear developed economy like u europe brokerage believe stock factored pessimism market failed single company like hndl whose earnings relatively less susceptible commodity price ebitda come conversion business intact believe fundamental aluminum robust major fall current price usd however china increasing export global deficit may reduce accordingly cut average lme aluminium price usd fy e usd fy e leading cut fy e fy e ebitda earnings cut lower valuation multiple reduce target price r earlier r valuing novelis x fy e ev ebitda indian operation x fy e ev ebitda cmp stock trading x fy e ev ebitda near decade low reiterate buy promoter fii holding promoter held per cent stake company mar fiis owned per cent diis per cent disclaimer recommendation given section report attached herein authored external party view expressed respective author entity represent view economic time et et guarantee vouch endorse content hereby disclaims warranty express implied relating please consult financial adviser seek independent advi\"\n        ],\n        \"semantic_type\": \"\",\n        \"description\": \"\"\n      }\n    }\n  ]\n}"
            }
          },
          "metadata": {},
          "execution_count": 19
        }
      ],
      "execution_count": 19
    },
    {
      "cell_type": "code",
      "source": [
        "from sklearn.model_selection import train_test_split,GridSearchCV\n",
        "# Train-Test Split\n",
        "X = df['clean_text']\n",
        "y = df['Final Status']\n",
        "X_train, X_test, y_train, y_test = train_test_split(X, y, test_size=0.2, random_state=42)"
      ],
      "metadata": {
        "trusted": true,
        "execution": {
          "iopub.status.busy": "2025-04-02T06:56:36.498674Z",
          "iopub.execute_input": "2025-04-02T06:56:36.499109Z",
          "iopub.status.idle": "2025-04-02T06:56:36.50524Z",
          "shell.execute_reply.started": "2025-04-02T06:56:36.499076Z",
          "shell.execute_reply": "2025-04-02T06:56:36.504219Z"
        },
        "id": "soVWuk6HW0Rn"
      },
      "outputs": [],
      "execution_count": 20
    },
    {
      "cell_type": "code",
      "source": [
        "from sklearn.feature_extraction.text import CountVectorizer, TfidfVectorizer\n",
        "from sklearn.ensemble import RandomForestClassifier, AdaBoostClassifier\n",
        "from xgboost import XGBClassifier\n",
        "from sklearn.metrics import classification_report, accuracy_score\n",
        "from imblearn.over_sampling import SMOTE\n",
        "from imblearn.pipeline import Pipeline"
      ],
      "metadata": {
        "trusted": true,
        "execution": {
          "iopub.status.busy": "2025-04-02T06:55:44.386538Z",
          "iopub.execute_input": "2025-04-02T06:55:44.38692Z",
          "iopub.status.idle": "2025-04-02T06:55:44.391169Z",
          "shell.execute_reply.started": "2025-04-02T06:55:44.386892Z",
          "shell.execute_reply": "2025-04-02T06:55:44.390222Z"
        },
        "id": "j3y6DHI8W0Rq"
      },
      "outputs": [],
      "execution_count": 37
    },
    {
      "cell_type": "code",
      "source": [
        "# Bag of Words\n",
        "bow_vectorizer = CountVectorizer(max_features=5000)\n",
        "X_train_bow = bow_vectorizer.fit_transform(X_train)\n",
        "X_test_bow = bow_vectorizer.transform(X_test)"
      ],
      "metadata": {
        "trusted": true,
        "execution": {
          "iopub.status.busy": "2025-04-02T06:56:41.187607Z",
          "iopub.execute_input": "2025-04-02T06:56:41.188007Z",
          "iopub.status.idle": "2025-04-02T06:56:41.271606Z",
          "shell.execute_reply.started": "2025-04-02T06:56:41.187976Z",
          "shell.execute_reply": "2025-04-02T06:56:41.270353Z"
        },
        "id": "GcWoeaADW0Rr"
      },
      "outputs": [],
      "execution_count": 22
    },
    {
      "cell_type": "code",
      "source": [
        "smote = SMOTE(random_state=42)\n",
        "X_train_bow, y_train = smote.fit_resample(X_train_bow, y_train)"
      ],
      "metadata": {
        "trusted": true,
        "execution": {
          "iopub.status.busy": "2025-04-02T06:58:29.618752Z",
          "iopub.execute_input": "2025-04-02T06:58:29.619141Z",
          "iopub.status.idle": "2025-04-02T06:58:29.634433Z",
          "shell.execute_reply.started": "2025-04-02T06:58:29.619109Z",
          "shell.execute_reply": "2025-04-02T06:58:29.632961Z"
        },
        "id": "MSGTbXN_W0Rr"
      },
      "outputs": [],
      "execution_count": 23
    },
    {
      "cell_type": "code",
      "source": [
        "# Random Forest\n",
        "rf = RandomForestClassifier(n_estimators=300)\n",
        "rf.fit(X_train_bow, y_train)\n",
        "pred_rf = rf.predict(X_test_bow)\n",
        "print(\"Random Forest (BoW):\\n\", classification_report(y_test, pred_rf))"
      ],
      "metadata": {
        "trusted": true,
        "execution": {
          "iopub.status.busy": "2025-04-02T06:58:56.391838Z",
          "iopub.execute_input": "2025-04-02T06:58:56.392253Z",
          "iopub.status.idle": "2025-04-02T06:58:57.433421Z",
          "shell.execute_reply.started": "2025-04-02T06:58:56.39222Z",
          "shell.execute_reply": "2025-04-02T06:58:57.432092Z"
        },
        "id": "lvPBp1MMW0Rs",
        "outputId": "b1a151e7-306a-4741-eb00-8bd5899d9e0c",
        "colab": {
          "base_uri": "https://localhost:8080/"
        }
      },
      "outputs": [
        {
          "output_type": "stream",
          "name": "stdout",
          "text": [
            "Random Forest (BoW):\n",
            "               precision    recall  f1-score   support\n",
            "\n",
            "           0       0.68      0.65      0.67        40\n",
            "           1       0.67      0.70      0.68        40\n",
            "\n",
            "    accuracy                           0.68        80\n",
            "   macro avg       0.68      0.68      0.67        80\n",
            "weighted avg       0.68      0.68      0.67        80\n",
            "\n"
          ]
        }
      ],
      "execution_count": 24
    },
    {
      "cell_type": "code",
      "source": [
        "cm = confusion_matrix(y_test, pred_rf)\n",
        "plt.figure(figsize=(5, 4))\n",
        "sns.heatmap(cm, annot=True, fmt=\"d\", cmap=\"Blues\", xticklabels=[\"Negative\", \"Positive\"], yticklabels=[\"Negative\", \"Positive\"])\n",
        "plt.xlabel(\"Predicted\")\n",
        "plt.ylabel(\"Actual\")\n",
        "plt.title(\"Confusion Matrix using RF BOW\")\n",
        "plt.show()"
      ],
      "metadata": {
        "id": "4LtZ_SK4go9R",
        "outputId": "f3796e32-64db-46e2-b2eb-5e592209c357",
        "colab": {
          "base_uri": "https://localhost:8080/",
          "height": 410
        }
      },
      "execution_count": 81,
      "outputs": [
        {
          "output_type": "display_data",
          "data": {
            "text/plain": [
              "<Figure size 500x400 with 2 Axes>"
            ],
            "image/png": "[encoded data removed]"
          },
          "metadata": {}
        }
      ]
    },
    {
      "cell_type": "code",
      "source": [
        "# XGBoost\n",
        "xgb = XGBClassifier(n_estimators = 300, eval_metric='logloss')\n",
        "xgb.fit(X_train_bow, y_train)\n",
        "pred_xgb = xgb.predict(X_test_bow)\n",
        "print(\"XGBoost (BoW):\\n\", classification_report(y_test, pred_xgb))"
      ],
      "metadata": {
        "trusted": true,
        "execution": {
          "iopub.status.busy": "2025-04-02T06:59:09.124082Z",
          "iopub.execute_input": "2025-04-02T06:59:09.124436Z",
          "iopub.status.idle": "2025-04-02T06:59:10.628603Z",
          "shell.execute_reply.started": "2025-04-02T06:59:09.124409Z",
          "shell.execute_reply": "2025-04-02T06:59:10.6271Z"
        },
        "id": "t-eTEAEhW0Rs",
        "outputId": "4e14ff41-b205-468c-afda-20cd09fdb632",
        "colab": {
          "base_uri": "https://localhost:8080/"
        }
      },
      "outputs": [
        {
          "output_type": "stream",
          "name": "stdout",
          "text": [
            "XGBoost (BoW):\n",
            "               precision    recall  f1-score   support\n",
            "\n",
            "           0       0.74      0.57      0.65        40\n",
            "           1       0.65      0.80      0.72        40\n",
            "\n",
            "    accuracy                           0.69        80\n",
            "   macro avg       0.70      0.69      0.68        80\n",
            "weighted avg       0.70      0.69      0.68        80\n",
            "\n"
          ]
        }
      ],
      "execution_count": 38
    },
    {
      "cell_type": "code",
      "source": [
        "cm = confusion_matrix(y_test, pred_xgb)\n",
        "plt.figure(figsize=(5, 4))\n",
        "sns.heatmap(cm, annot=True, fmt=\"d\", cmap=\"Blues\", xticklabels=[\"Negative\", \"Positive\"], yticklabels=[\"Negative\", \"Positive\"])\n",
        "plt.xlabel(\"Predicted\")\n",
        "plt.ylabel(\"Actual\")\n",
        "plt.title(\"Confusion Matrix using XGBOOST BOW\")\n",
        "plt.show()"
      ],
      "metadata": {
        "id": "15rBpZphgjwx",
        "outputId": "29f893f1-29e2-4e76-a1ea-173a52868673",
        "colab": {
          "base_uri": "https://localhost:8080/",
          "height": 410
        }
      },
      "execution_count": 80,
      "outputs": [
        {
          "output_type": "display_data",
          "data": {
            "text/plain": [
              "<Figure size 500x400 with 2 Axes>"
            ],
            "image/png": "[encoded data removed]"
          },
          "metadata": {}
        }
      ]
    },
    {
      "cell_type": "code",
      "source": [
        "# AdaBoost\n",
        "ada = AdaBoostClassifier(n_estimators= 300)\n",
        "ada.fit(X_train_bow, y_train)\n",
        "pred_ada = ada.predict(X_test_bow)\n",
        "print(\"AdaBoost (BoW):\\n\", classification_report(y_test, pred_ada))"
      ],
      "metadata": {
        "trusted": true,
        "execution": {
          "iopub.status.busy": "2025-04-02T06:59:35.743221Z",
          "iopub.execute_input": "2025-04-02T06:59:35.743585Z",
          "iopub.status.idle": "2025-04-02T06:59:37.960558Z",
          "shell.execute_reply.started": "2025-04-02T06:59:35.743558Z",
          "shell.execute_reply": "2025-04-02T06:59:37.959422Z"
        },
        "id": "MkczNlaOW0Rt",
        "outputId": "54343da2-e785-44f0-d8b4-5ee38cd2e3d1",
        "colab": {
          "base_uri": "https://localhost:8080/"
        }
      },
      "outputs": [
        {
          "output_type": "stream",
          "name": "stdout",
          "text": [
            "AdaBoost (BoW):\n",
            "               precision    recall  f1-score   support\n",
            "\n",
            "           0       0.74      0.70      0.72        40\n",
            "           1       0.71      0.75      0.73        40\n",
            "\n",
            "    accuracy                           0.72        80\n",
            "   macro avg       0.73      0.72      0.72        80\n",
            "weighted avg       0.73      0.72      0.72        80\n",
            "\n"
          ]
        }
      ],
      "execution_count": 29
    },
    {
      "cell_type": "code",
      "source": [
        "cm = confusion_matrix(y_test, pred_ada)\n",
        "plt.figure(figsize=(5, 4))\n",
        "sns.heatmap(cm, annot=True, fmt=\"d\", cmap=\"Blues\", xticklabels=[\"Negative\", \"Positive\"], yticklabels=[\"Negative\", \"Positive\"])\n",
        "plt.xlabel(\"Predicted\")\n",
        "plt.ylabel(\"Actual\")\n",
        "plt.title(\"Confusion Matrix using ADA-BOOST BOW\")\n",
        "plt.show()"
      ],
      "metadata": {
        "id": "3qgSRwdagc43",
        "outputId": "dcfdc21e-14c6-4e91-9a5a-ded3067cc5f0",
        "colab": {
          "base_uri": "https://localhost:8080/",
          "height": 410
        }
      },
      "execution_count": 79,
      "outputs": [
        {
          "output_type": "display_data",
          "data": {
            "text/plain": [
              "<Figure size 500x400 with 2 Axes>"
            ],
            "image/png": "[encoded data removed]"
          },
          "metadata": {}
        }
      ]
    },
    {
      "cell_type": "code",
      "source": [
        "# Train-Test Split\n",
        "X = df['clean_text']\n",
        "y = df['Final Status']\n",
        "X_train, X_test, y_train, y_test = train_test_split(X, y, test_size=0.2, random_state=42)"
      ],
      "metadata": {
        "trusted": true,
        "execution": {
          "iopub.status.busy": "2025-04-02T07:02:18.432054Z",
          "iopub.execute_input": "2025-04-02T07:02:18.432381Z",
          "iopub.status.idle": "2025-04-02T07:02:18.4386Z",
          "shell.execute_reply.started": "2025-04-02T07:02:18.432358Z",
          "shell.execute_reply": "2025-04-02T07:02:18.437568Z"
        },
        "id": "UhPQKxMNW0Rt"
      },
      "outputs": [],
      "execution_count": 30
    },
    {
      "cell_type": "code",
      "source": [
        "# TF-IDF\n",
        "tfidf_vectorizer = TfidfVectorizer(max_features=2000)\n",
        "X_train_tfidf = tfidf_vectorizer.fit_transform(X_train)\n",
        "X_test_tfidf = tfidf_vectorizer.transform(X_test)"
      ],
      "metadata": {
        "trusted": true,
        "execution": {
          "iopub.status.busy": "2025-04-02T07:02:20.864713Z",
          "iopub.execute_input": "2025-04-02T07:02:20.865074Z",
          "iopub.status.idle": "2025-04-02T07:02:20.94484Z",
          "shell.execute_reply.started": "2025-04-02T07:02:20.865047Z",
          "shell.execute_reply": "2025-04-02T07:02:20.943735Z"
        },
        "id": "xrlx2h0VW0Ru"
      },
      "outputs": [],
      "execution_count": 31
    },
    {
      "cell_type": "code",
      "source": [
        "smote = SMOTE(random_state=42)\n",
        "X_train_tfidf, y_train = smote.fit_resample(X_train_tfidf, y_train)"
      ],
      "metadata": {
        "trusted": true,
        "execution": {
          "iopub.status.busy": "2025-04-02T07:02:24.466766Z",
          "iopub.execute_input": "2025-04-02T07:02:24.467141Z",
          "iopub.status.idle": "2025-04-02T07:02:24.480434Z",
          "shell.execute_reply.started": "2025-04-02T07:02:24.467113Z",
          "shell.execute_reply": "2025-04-02T07:02:24.47918Z"
        },
        "id": "o884B63nW0Ru"
      },
      "outputs": [],
      "execution_count": 32
    },
    {
      "cell_type": "code",
      "source": [
        "# Random Forest\n",
        "rf = RandomForestClassifier(n_estimators= 300)\n",
        "rf.fit(X_train_tfidf, y_train)\n",
        "pred_rf_tfidf = rf.predict(X_test_tfidf)\n",
        "print(\"Random Forest (TF-IDF):\\n\", classification_report(y_test, pred_rf_tfidf))"
      ],
      "metadata": {
        "trusted": true,
        "execution": {
          "iopub.status.busy": "2025-04-02T07:02:59.227709Z",
          "iopub.execute_input": "2025-04-02T07:02:59.228075Z",
          "iopub.status.idle": "2025-04-02T07:03:00.154971Z",
          "shell.execute_reply.started": "2025-04-02T07:02:59.228048Z",
          "shell.execute_reply": "2025-04-02T07:03:00.153937Z"
        },
        "id": "RhpAtxV3W0Ru",
        "outputId": "4905d9b7-4cf6-4035-a098-39e26ca5720e",
        "colab": {
          "base_uri": "https://localhost:8080/"
        }
      },
      "outputs": [
        {
          "output_type": "stream",
          "name": "stdout",
          "text": [
            "Random Forest (TF-IDF):\n",
            "               precision    recall  f1-score   support\n",
            "\n",
            "           0       0.64      0.53      0.58        40\n",
            "           1       0.60      0.70      0.64        40\n",
            "\n",
            "    accuracy                           0.61        80\n",
            "   macro avg       0.62      0.61      0.61        80\n",
            "weighted avg       0.62      0.61      0.61        80\n",
            "\n"
          ]
        }
      ],
      "execution_count": 33
    },
    {
      "cell_type": "code",
      "source": [
        "cm = confusion_matrix(y_test, pred_rf_tfidf)\n",
        "plt.figure(figsize=(5, 4))\n",
        "sns.heatmap(cm, annot=True, fmt=\"d\", cmap=\"Blues\", xticklabels=[\"Negative\", \"Positive\"], yticklabels=[\"Negative\", \"Positive\"])\n",
        "plt.xlabel(\"Predicted\")\n",
        "plt.ylabel(\"Actual\")\n",
        "plt.title(\"Confusion Matrix using RANDOM FOREST TFIDF\")\n",
        "plt.show()"
      ],
      "metadata": {
        "id": "r81sMeeugT_Z",
        "outputId": "5dcc6219-6cca-4fb1-f094-efbf09fef29c",
        "colab": {
          "base_uri": "https://localhost:8080/",
          "height": 410
        }
      },
      "execution_count": 78,
      "outputs": [
        {
          "output_type": "display_data",
          "data": {
            "text/plain": [
              "<Figure size 500x400 with 2 Axes>"
            ],
            "image/png": "[encoded data removed]"
          },
          "metadata": {}
        }
      ]
    },
    {
      "cell_type": "code",
      "source": [
        "# XGBoost\n",
        "xgb = XGBClassifier(n_estimators = 300, eval_metric='logloss')\n",
        "xgb.fit(X_train_tfidf, y_train)\n",
        "pred_xg_tfidf = rf.predict(X_test_tfidf)\n",
        "print(\"XGBoost (TF-IDF):\\n\", classification_report(y_test, pred_xg_tfidf))"
      ],
      "metadata": {
        "trusted": true,
        "execution": {
          "iopub.status.busy": "2025-04-02T07:03:44.085334Z",
          "iopub.execute_input": "2025-04-02T07:03:44.085708Z",
          "iopub.status.idle": "2025-04-02T07:03:45.976224Z",
          "shell.execute_reply.started": "2025-04-02T07:03:44.08568Z",
          "shell.execute_reply": "2025-04-02T07:03:45.974983Z"
        },
        "id": "aEkXJCYFW0Rv",
        "outputId": "a9926344-6e5f-438f-f14d-cce5d69a95ae",
        "colab": {
          "base_uri": "https://localhost:8080/"
        }
      },
      "outputs": [
        {
          "output_type": "stream",
          "name": "stdout",
          "text": [
            "XGBoost (TF-IDF):\n",
            "               precision    recall  f1-score   support\n",
            "\n",
            "           0       0.64      0.53      0.58        40\n",
            "           1       0.60      0.70      0.64        40\n",
            "\n",
            "    accuracy                           0.61        80\n",
            "   macro avg       0.62      0.61      0.61        80\n",
            "weighted avg       0.62      0.61      0.61        80\n",
            "\n"
          ]
        }
      ],
      "execution_count": 39
    },
    {
      "cell_type": "code",
      "source": [
        "cm = confusion_matrix(y_test, pred_xg_tfidf)\n",
        "plt.figure(figsize=(5, 4))\n",
        "sns.heatmap(cm, annot=True, fmt=\"d\", cmap=\"Blues\", xticklabels=[\"Negative\", \"Positive\"], yticklabels=[\"Negative\", \"Positive\"])\n",
        "plt.xlabel(\"Predicted\")\n",
        "plt.ylabel(\"Actual\")\n",
        "plt.title(\"Confusion Matrix using XGBOOST TFIDF\")\n",
        "plt.show()"
      ],
      "metadata": {
        "id": "jVUqLdlHgOyF",
        "outputId": "cba906a4-53b6-4143-b040-4b8877ad6a09",
        "colab": {
          "base_uri": "https://localhost:8080/",
          "height": 410
        }
      },
      "execution_count": 77,
      "outputs": [
        {
          "output_type": "display_data",
          "data": {
            "text/plain": [
              "<Figure size 500x400 with 2 Axes>"
            ],
            "image/png": "[encoded data removed]"
          },
          "metadata": {}
        }
      ]
    },
    {
      "cell_type": "code",
      "source": [
        "# AdaBoost\n",
        "ada = AdaBoostClassifier(n_estimators= 400)\n",
        "ada.fit(X_train_tfidf, y_train)\n",
        "pred_ada_tfidf = rf.predict(X_test_tfidf)\n",
        "print(\"AdaBoost (TF-IDF):\\n\", classification_report(y_test, pred_ada_tfidf))"
      ],
      "metadata": {
        "trusted": true,
        "execution": {
          "iopub.status.busy": "2025-04-02T07:04:37.468274Z",
          "iopub.execute_input": "2025-04-02T07:04:37.468615Z",
          "iopub.status.idle": "2025-04-02T07:04:41.301465Z",
          "shell.execute_reply.started": "2025-04-02T07:04:37.46859Z",
          "shell.execute_reply": "2025-04-02T07:04:41.300115Z"
        },
        "id": "kbC3ntK6W0Rv",
        "outputId": "5121a578-5fba-43e2-c1d5-1646f23540f8",
        "colab": {
          "base_uri": "https://localhost:8080/"
        }
      },
      "outputs": [
        {
          "output_type": "stream",
          "name": "stdout",
          "text": [
            "AdaBoost (TF-IDF):\n",
            "               precision    recall  f1-score   support\n",
            "\n",
            "           0       0.64      0.53      0.58        40\n",
            "           1       0.60      0.70      0.64        40\n",
            "\n",
            "    accuracy                           0.61        80\n",
            "   macro avg       0.62      0.61      0.61        80\n",
            "weighted avg       0.62      0.61      0.61        80\n",
            "\n"
          ]
        }
      ],
      "execution_count": 40
    },
    {
      "cell_type": "code",
      "source": [
        "cm = confusion_matrix(y_test, pred_ada_tfidf)\n",
        "plt.figure(figsize=(5, 4))\n",
        "sns.heatmap(cm, annot=True, fmt=\"d\", cmap=\"Blues\", xticklabels=[\"Negative\", \"Positive\"], yticklabels=[\"Negative\", \"Positive\"])\n",
        "plt.xlabel(\"Predicted\")\n",
        "plt.ylabel(\"Actual\")\n",
        "plt.title(\"Confusion Matrix using ADA-BOOST TFIDF\")\n",
        "plt.show()"
      ],
      "metadata": {
        "id": "utHgmUoygEI5",
        "outputId": "d3af2bf9-a1b3-44b2-c908-46d42d28bbc6",
        "colab": {
          "base_uri": "https://localhost:8080/",
          "height": 410
        }
      },
      "execution_count": 76,
      "outputs": [
        {
          "output_type": "display_data",
          "data": {
            "text/plain": [
              "<Figure size 500x400 with 2 Axes>"
            ],
            "image/png": "[encoded data removed]"
          },
          "metadata": {}
        }
      ]
    },
    {
      "cell_type": "code",
      "source": [
        "import tensorflow as tf\n",
        "from tensorflow.keras.preprocessing.text import Tokenizer\n",
        "from tensorflow.keras.preprocessing.sequence import pad_sequences\n",
        "from tensorflow.keras.models import Sequential\n",
        "from tensorflow.keras.layers import Embedding, LSTM, Dense, Dropout, Bidirectional, GRU"
      ],
      "metadata": {
        "trusted": true,
        "execution": {
          "iopub.status.busy": "2025-04-02T07:10:25.581255Z",
          "iopub.execute_input": "2025-04-02T07:10:25.581677Z",
          "iopub.status.idle": "2025-04-02T07:10:25.58669Z",
          "shell.execute_reply.started": "2025-04-02T07:10:25.581632Z",
          "shell.execute_reply": "2025-04-02T07:10:25.58565Z"
        },
        "id": "A2ag9Ya6W0Rx"
      },
      "outputs": [],
      "execution_count": 41
    },
    {
      "cell_type": "code",
      "source": [
        "# Tokenization\n",
        "max_words = 10000  # Vocabulary size\n",
        "max_len = 128     # Max length of a comment\n",
        "\n",
        "tokenizer = Tokenizer(num_words=max_words, oov_token=\"\")\n",
        "tokenizer.fit_on_texts(df['clean_text'])\n",
        "sequences = tokenizer.texts_to_sequences(df['clean_text'])\n",
        "padded_sequences = pad_sequences(sequences, maxlen=max_len, padding='post', truncating='post')\n",
        "# Train-test split\n",
        "X_train, X_test, y_train, y_test = train_test_split(padded_sequences, df['Final Status'], test_size=0.2, random_state=42)"
      ],
      "metadata": {
        "trusted": true,
        "execution": {
          "iopub.status.busy": "2025-04-02T07:10:30.586082Z",
          "iopub.execute_input": "2025-04-02T07:10:30.586411Z",
          "iopub.status.idle": "2025-04-02T07:10:30.694851Z",
          "shell.execute_reply.started": "2025-04-02T07:10:30.586384Z",
          "shell.execute_reply": "2025-04-02T07:10:30.693633Z"
        },
        "id": "AVXUKj_BW0Rx"
      },
      "outputs": [],
      "execution_count": 59
    },
    {
      "cell_type": "code",
      "source": [
        "from sklearn.utils.class_weight import compute_class_weight\n",
        "import numpy as np\n",
        "# Assuming y_train contains binary labels (0 and 1)\n",
        "classes = np.unique(y_train)  # Unique class labels\n",
        "class_weights = compute_class_weight(class_weight=\"balanced\", classes=classes, y=y_train)\n",
        "# Convert to dictionary format for model.fit()\n",
        "class_weight_dict = {i: class_weights[i] for i in range(len(classes))}"
      ],
      "metadata": {
        "id": "-Fg9pgiqa8Uy"
      },
      "execution_count": 60,
      "outputs": []
    },
    {
      "cell_type": "code",
      "source": [
        "# Build LSTM Model\n",
        "model = Sequential([\n",
        "    Embedding(input_dim=max_words, output_dim=100, input_length=max_len),\n",
        "    LSTM(128, return_sequences=True),\n",
        "    Dropout(0.3),\n",
        "    LSTM(64),\n",
        "    Dense(32, activation='relu'),\n",
        "    Dense(1, activation='sigmoid')  # Binary classification (positive/negative)\n",
        "])\n",
        "# Compile the model\n",
        "model.compile(optimizer='adam', loss='binary_crossentropy', metrics=['accuracy'])\n",
        "model.build(input_shape=(None, max_len))\n",
        "model.summary()"
      ],
      "metadata": {
        "trusted": true,
        "execution": {
          "iopub.status.busy": "2025-04-02T07:10:34.770159Z",
          "iopub.execute_input": "2025-04-02T07:10:34.770542Z",
          "iopub.status.idle": "2025-04-02T07:10:34.854898Z",
          "shell.execute_reply.started": "2025-04-02T07:10:34.770513Z",
          "shell.execute_reply": "2025-04-02T07:10:34.853774Z"
        },
        "id": "LNrpOUpaW0Ry",
        "outputId": "48c7b4cb-e3ec-40e7-8608-f150cb717dd4",
        "colab": {
          "base_uri": "https://localhost:8080/",
          "height": 376
        }
      },
      "outputs": [
        {
          "output_type": "stream",
          "name": "stderr",
          "text": [
            "/usr/local/lib/python3.11/dist-packages/keras/src/layers/core/embedding.py:90: UserWarning: Argument `input_length` is deprecated. Just remove it.\n",
            "  warnings.warn(\n"
          ]
        },
        {
          "output_type": "display_data",
          "data": {
            "text/plain": [
              "\u001b[1mModel: \"sequential_4\"\u001b[0m\n"
            ],
            "text/html": [
              "<pre style=\"white-space:pre;overflow-x:auto;line-height:normal;font-family:Menlo,'DejaVu Sans Mono',consolas,'Courier New',monospace\"><span style=\"font-weight: bold\">Model: \"sequential_4\"</span>\n",
              "</pre>\n"
            ]
          },
          "metadata": {}
        },
        {
          "output_type": "display_data",
          "data": {
            "text/plain": [
              "┏━━━━━━━━━━━━━━━━━━━━━━━━━━━━━━━━━━━━━━┳━━━━━━━━━━━━━━━━━━━━━━━━━━━━━┳━━━━━━━━━━━━━━━━━┓\n",
              "┃\u001b[1m \u001b[0m\u001b[1mLayer (type)                        \u001b[0m\u001b[1m \u001b[0m┃\u001b[1m \u001b[0m\u001b[1mOutput Shape               \u001b[0m\u001b[1m \u001b[0m┃\u001b[1m \u001b[0m\u001b[1m        Param #\u001b[0m\u001b[1m \u001b[0m┃\n",
              "┡━━━━━━━━━━━━━━━━━━━━━━━━━━━━━━━━━━━━━━╇━━━━━━━━━━━━━━━━━━━━━━━━━━━━━╇━━━━━━━━━━━━━━━━━┩\n",
              "│ embedding_4 (\u001b[38;5;33mEmbedding\u001b[0m)              │ (\u001b[38;5;45mNone\u001b[0m, \u001b[38;5;34m128\u001b[0m, \u001b[38;5;34m100\u001b[0m)            │       \u001b[38;5;34m1,000,000\u001b[0m │\n",
              "├──────────────────────────────────────┼─────────────────────────────┼─────────────────┤\n",
              "│ lstm_7 (\u001b[38;5;33mLSTM\u001b[0m)                        │ (\u001b[38;5;45mNone\u001b[0m, \u001b[38;5;34m128\u001b[0m, \u001b[38;5;34m128\u001b[0m)            │         \u001b[38;5;34m117,248\u001b[0m │\n",
              "├──────────────────────────────────────┼─────────────────────────────┼─────────────────┤\n",
              "│ dropout_3 (\u001b[38;5;33mDropout\u001b[0m)                  │ (\u001b[38;5;45mNone\u001b[0m, \u001b[38;5;34m128\u001b[0m, \u001b[38;5;34m128\u001b[0m)            │               \u001b[38;5;34m0\u001b[0m │\n",
              "├──────────────────────────────────────┼─────────────────────────────┼─────────────────┤\n",
              "│ lstm_8 (\u001b[38;5;33mLSTM\u001b[0m)                        │ (\u001b[38;5;45mNone\u001b[0m, \u001b[38;5;34m64\u001b[0m)                  │          \u001b[38;5;34m49,408\u001b[0m │\n",
              "├──────────────────────────────────────┼─────────────────────────────┼─────────────────┤\n",
              "│ dense_7 (\u001b[38;5;33mDense\u001b[0m)                      │ (\u001b[38;5;45mNone\u001b[0m, \u001b[38;5;34m32\u001b[0m)                  │           \u001b[38;5;34m2,080\u001b[0m │\n",
              "├──────────────────────────────────────┼─────────────────────────────┼─────────────────┤\n",
              "│ dense_8 (\u001b[38;5;33mDense\u001b[0m)                      │ (\u001b[38;5;45mNone\u001b[0m, \u001b[38;5;34m1\u001b[0m)                   │              \u001b[38;5;34m33\u001b[0m │\n",
              "└──────────────────────────────────────┴─────────────────────────────┴─────────────────┘\n"
            ],
            "text/html": [
              "<pre style=\"white-space:pre;overflow-x:auto;line-height:normal;font-family:Menlo,'DejaVu Sans Mono',consolas,'Courier New',monospace\">┏━━━━━━━━━━━━━━━━━━━━━━━━━━━━━━━━━━━━━━┳━━━━━━━━━━━━━━━━━━━━━━━━━━━━━┳━━━━━━━━━━━━━━━━━┓\n",
              "┃<span style=\"font-weight: bold\"> Layer (type)                         </span>┃<span style=\"font-weight: bold\"> Output Shape                </span>┃<span style=\"font-weight: bold\">         Param # </span>┃\n",
              "┡━━━━━━━━━━━━━━━━━━━━━━━━━━━━━━━━━━━━━━╇━━━━━━━━━━━━━━━━━━━━━━━━━━━━━╇━━━━━━━━━━━━━━━━━┩\n",
              "│ embedding_4 (<span style=\"color: #0087ff; text-decoration-color: #0087ff\">Embedding</span>)              │ (<span style=\"color: #00d7ff; text-decoration-color: #00d7ff\">None</span>, <span style=\"color: #00af00; text-decoration-color: #00af00\">128</span>, <span style=\"color: #00af00; text-decoration-color: #00af00\">100</span>)            │       <span style=\"color: #00af00; text-decoration-color: #00af00\">1,000,000</span> │\n",
              "├──────────────────────────────────────┼─────────────────────────────┼─────────────────┤\n",
              "│ lstm_7 (<span style=\"color: #0087ff; text-decoration-color: #0087ff\">LSTM</span>)                        │ (<span style=\"color: #00d7ff; text-decoration-color: #00d7ff\">None</span>, <span style=\"color: #00af00; text-decoration-color: #00af00\">128</span>, <span style=\"color: #00af00; text-decoration-color: #00af00\">128</span>)            │         <span style=\"color: #00af00; text-decoration-color: #00af00\">117,248</span> │\n",
              "├──────────────────────────────────────┼─────────────────────────────┼─────────────────┤\n",
              "│ dropout_3 (<span style=\"color: #0087ff; text-decoration-color: #0087ff\">Dropout</span>)                  │ (<span style=\"color: #00d7ff; text-decoration-color: #00d7ff\">None</span>, <span style=\"color: #00af00; text-decoration-color: #00af00\">128</span>, <span style=\"color: #00af00; text-decoration-color: #00af00\">128</span>)            │               <span style=\"color: #00af00; text-decoration-color: #00af00\">0</span> │\n",
              "├──────────────────────────────────────┼─────────────────────────────┼─────────────────┤\n",
              "│ lstm_8 (<span style=\"color: #0087ff; text-decoration-color: #0087ff\">LSTM</span>)                        │ (<span style=\"color: #00d7ff; text-decoration-color: #00d7ff\">None</span>, <span style=\"color: #00af00; text-decoration-color: #00af00\">64</span>)                  │          <span style=\"color: #00af00; text-decoration-color: #00af00\">49,408</span> │\n",
              "├──────────────────────────────────────┼─────────────────────────────┼─────────────────┤\n",
              "│ dense_7 (<span style=\"color: #0087ff; text-decoration-color: #0087ff\">Dense</span>)                      │ (<span style=\"color: #00d7ff; text-decoration-color: #00d7ff\">None</span>, <span style=\"color: #00af00; text-decoration-color: #00af00\">32</span>)                  │           <span style=\"color: #00af00; text-decoration-color: #00af00\">2,080</span> │\n",
              "├──────────────────────────────────────┼─────────────────────────────┼─────────────────┤\n",
              "│ dense_8 (<span style=\"color: #0087ff; text-decoration-color: #0087ff\">Dense</span>)                      │ (<span style=\"color: #00d7ff; text-decoration-color: #00d7ff\">None</span>, <span style=\"color: #00af00; text-decoration-color: #00af00\">1</span>)                   │              <span style=\"color: #00af00; text-decoration-color: #00af00\">33</span> │\n",
              "└──────────────────────────────────────┴─────────────────────────────┴─────────────────┘\n",
              "</pre>\n"
            ]
          },
          "metadata": {}
        },
        {
          "output_type": "display_data",
          "data": {
            "text/plain": [
              "\u001b[1m Total params: \u001b[0m\u001b[38;5;34m1,168,769\u001b[0m (4.46 MB)\n"
            ],
            "text/html": [
              "<pre style=\"white-space:pre;overflow-x:auto;line-height:normal;font-family:Menlo,'DejaVu Sans Mono',consolas,'Courier New',monospace\"><span style=\"font-weight: bold\"> Total params: </span><span style=\"color: #00af00; text-decoration-color: #00af00\">1,168,769</span> (4.46 MB)\n",
              "</pre>\n"
            ]
          },
          "metadata": {}
        },
        {
          "output_type": "display_data",
          "data": {
            "text/plain": [
              "\u001b[1m Trainable params: \u001b[0m\u001b[38;5;34m1,168,769\u001b[0m (4.46 MB)\n"
            ],
            "text/html": [
              "<pre style=\"white-space:pre;overflow-x:auto;line-height:normal;font-family:Menlo,'DejaVu Sans Mono',consolas,'Courier New',monospace\"><span style=\"font-weight: bold\"> Trainable params: </span><span style=\"color: #00af00; text-decoration-color: #00af00\">1,168,769</span> (4.46 MB)\n",
              "</pre>\n"
            ]
          },
          "metadata": {}
        },
        {
          "output_type": "display_data",
          "data": {
            "text/plain": [
              "\u001b[1m Non-trainable params: \u001b[0m\u001b[38;5;34m0\u001b[0m (0.00 B)\n"
            ],
            "text/html": [
              "<pre style=\"white-space:pre;overflow-x:auto;line-height:normal;font-family:Menlo,'DejaVu Sans Mono',consolas,'Courier New',monospace\"><span style=\"font-weight: bold\"> Non-trainable params: </span><span style=\"color: #00af00; text-decoration-color: #00af00\">0</span> (0.00 B)\n",
              "</pre>\n"
            ]
          },
          "metadata": {}
        }
      ],
      "execution_count": 61
    },
    {
      "cell_type": "code",
      "source": [
        "history = model.fit(X_train, y_train, validation_data=(X_test, y_test), epochs=50, batch_size=64, class_weight = class_weight_dict)"
      ],
      "metadata": {
        "trusted": true,
        "execution": {
          "iopub.status.busy": "2025-04-02T07:10:40.009511Z",
          "iopub.execute_input": "2025-04-02T07:10:40.009845Z",
          "iopub.status.idle": "2025-04-02T07:10:42.375621Z",
          "shell.execute_reply.started": "2025-04-02T07:10:40.00982Z",
          "shell.execute_reply": "2025-04-02T07:10:42.374149Z"
        },
        "id": "opTN1wAZW0Ry",
        "outputId": "ef2c56a0-a105-44dc-958c-d23c99b165ca",
        "colab": {
          "base_uri": "https://localhost:8080/"
        }
      },
      "outputs": [
        {
          "output_type": "stream",
          "name": "stdout",
          "text": [
            "Epoch 1/50\n",
            "\u001b[1m5/5\u001b[0m \u001b[32m━━━━━━━━━━━━━━━━━━━━\u001b[0m\u001b[37m\u001b[0m \u001b[1m8s\u001b[0m 632ms/step - accuracy: 0.4611 - loss: 0.6940 - val_accuracy: 0.5875 - val_loss: 0.6910\n",
            "Epoch 2/50\n",
            "\u001b[1m5/5\u001b[0m \u001b[32m━━━━━━━━━━━━━━━━━━━━\u001b[0m\u001b[37m\u001b[0m \u001b[1m4s\u001b[0m 492ms/step - accuracy: 0.6405 - loss: 0.6901 - val_accuracy: 0.6250 - val_loss: 0.6875\n",
            "Epoch 3/50\n",
            "\u001b[1m5/5\u001b[0m \u001b[32m━━━━━━━━━━━━━━━━━━━━\u001b[0m\u001b[37m\u001b[0m \u001b[1m2s\u001b[0m 454ms/step - accuracy: 0.7849 - loss: 0.6735 - val_accuracy: 0.6125 - val_loss: 0.6689\n",
            "Epoch 4/50\n",
            "\u001b[1m5/5\u001b[0m \u001b[32m━━━━━━━━━━━━━━━━━━━━\u001b[0m\u001b[37m\u001b[0m \u001b[1m3s\u001b[0m 751ms/step - accuracy: 0.7514 - loss: 0.6066 - val_accuracy: 0.6125 - val_loss: 0.7328\n",
            "Epoch 5/50\n",
            "\u001b[1m5/5\u001b[0m \u001b[32m━━━━━━━━━━━━━━━━━━━━\u001b[0m\u001b[37m\u001b[0m \u001b[1m2s\u001b[0m 459ms/step - accuracy: 0.7470 - loss: 0.4839 - val_accuracy: 0.6250 - val_loss: 0.6481\n",
            "Epoch 6/50\n",
            "\u001b[1m5/5\u001b[0m \u001b[32m━━━━━━━━━━━━━━━━━━━━\u001b[0m\u001b[37m\u001b[0m \u001b[1m2s\u001b[0m 480ms/step - accuracy: 0.8091 - loss: 0.4853 - val_accuracy: 0.6250 - val_loss: 0.6603\n",
            "Epoch 7/50\n",
            "\u001b[1m5/5\u001b[0m \u001b[32m━━━━━━━━━━━━━━━━━━━━\u001b[0m\u001b[37m\u001b[0m \u001b[1m2s\u001b[0m 445ms/step - accuracy: 0.8193 - loss: 0.4447 - val_accuracy: 0.7125 - val_loss: 0.6665\n",
            "Epoch 8/50\n",
            "\u001b[1m5/5\u001b[0m \u001b[32m━━━━━━━━━━━━━━━━━━━━\u001b[0m\u001b[37m\u001b[0m \u001b[1m3s\u001b[0m 480ms/step - accuracy: 0.8624 - loss: 0.3237 - val_accuracy: 0.6625 - val_loss: 0.8127\n",
            "Epoch 9/50\n",
            "\u001b[1m5/5\u001b[0m \u001b[32m━━━━━━━━━━━━━━━━━━━━\u001b[0m\u001b[37m\u001b[0m \u001b[1m4s\u001b[0m 809ms/step - accuracy: 0.8896 - loss: 0.2639 - val_accuracy: 0.7000 - val_loss: 0.7904\n",
            "Epoch 10/50\n",
            "\u001b[1m5/5\u001b[0m \u001b[32m━━━━━━━━━━━━━━━━━━━━\u001b[0m\u001b[37m\u001b[0m \u001b[1m4s\u001b[0m 480ms/step - accuracy: 0.8497 - loss: 0.3241 - val_accuracy: 0.6750 - val_loss: 0.8264\n",
            "Epoch 11/50\n",
            "\u001b[1m5/5\u001b[0m \u001b[32m━━━━━━━━━━━━━━━━━━━━\u001b[0m\u001b[37m\u001b[0m \u001b[1m2s\u001b[0m 447ms/step - accuracy: 0.8866 - loss: 0.2484 - val_accuracy: 0.6625 - val_loss: 0.7521\n",
            "Epoch 12/50\n",
            "\u001b[1m5/5\u001b[0m \u001b[32m━━━━━━━━━━━━━━━━━━━━\u001b[0m\u001b[37m\u001b[0m \u001b[1m2s\u001b[0m 448ms/step - accuracy: 0.9091 - loss: 0.2370 - val_accuracy: 0.7125 - val_loss: 0.7283\n",
            "Epoch 13/50\n",
            "\u001b[1m5/5\u001b[0m \u001b[32m━━━━━━━━━━━━━━━━━━━━\u001b[0m\u001b[37m\u001b[0m \u001b[1m4s\u001b[0m 696ms/step - accuracy: 0.8728 - loss: 0.2429 - val_accuracy: 0.7250 - val_loss: 0.7844\n",
            "Epoch 14/50\n",
            "\u001b[1m5/5\u001b[0m \u001b[32m━━━━━━━━━━━━━━━━━━━━\u001b[0m\u001b[37m\u001b[0m \u001b[1m4s\u001b[0m 484ms/step - accuracy: 0.9174 - loss: 0.1956 - val_accuracy: 0.6625 - val_loss: 0.8662\n",
            "Epoch 15/50\n",
            "\u001b[1m5/5\u001b[0m \u001b[32m━━━━━━━━━━━━━━━━━━━━\u001b[0m\u001b[37m\u001b[0m \u001b[1m2s\u001b[0m 452ms/step - accuracy: 0.9227 - loss: 0.1651 - val_accuracy: 0.6500 - val_loss: 0.9548\n",
            "Epoch 16/50\n",
            "\u001b[1m5/5\u001b[0m \u001b[32m━━━━━━━━━━━━━━━━━━━━\u001b[0m\u001b[37m\u001b[0m \u001b[1m3s\u001b[0m 449ms/step - accuracy: 0.8980 - loss: 0.1670 - val_accuracy: 0.6875 - val_loss: 0.9721\n",
            "Epoch 17/50\n",
            "\u001b[1m5/5\u001b[0m \u001b[32m━━━━━━━━━━━━━━━━━━━━\u001b[0m\u001b[37m\u001b[0m \u001b[1m3s\u001b[0m 730ms/step - accuracy: 0.9263 - loss: 0.1373 - val_accuracy: 0.6750 - val_loss: 1.0098\n",
            "Epoch 18/50\n",
            "\u001b[1m5/5\u001b[0m \u001b[32m━━━━━━━━━━━━━━━━━━━━\u001b[0m\u001b[37m\u001b[0m \u001b[1m4s\u001b[0m 454ms/step - accuracy: 0.9307 - loss: 0.1224 - val_accuracy: 0.6875 - val_loss: 0.8934\n",
            "Epoch 19/50\n",
            "\u001b[1m5/5\u001b[0m \u001b[32m━━━━━━━━━━━━━━━━━━━━\u001b[0m\u001b[37m\u001b[0m \u001b[1m3s\u001b[0m 477ms/step - accuracy: 0.9227 - loss: 0.1427 - val_accuracy: 0.6125 - val_loss: 0.9032\n",
            "Epoch 20/50\n",
            "\u001b[1m5/5\u001b[0m \u001b[32m━━━━━━━━━━━━━━━━━━━━\u001b[0m\u001b[37m\u001b[0m \u001b[1m3s\u001b[0m 481ms/step - accuracy: 0.9386 - loss: 0.1344 - val_accuracy: 0.6625 - val_loss: 0.9783\n",
            "Epoch 21/50\n",
            "\u001b[1m5/5\u001b[0m \u001b[32m━━━━━━━━━━━━━━━━━━━━\u001b[0m\u001b[37m\u001b[0m \u001b[1m4s\u001b[0m 793ms/step - accuracy: 0.9465 - loss: 0.1095 - val_accuracy: 0.6500 - val_loss: 1.5341\n",
            "Epoch 22/50\n",
            "\u001b[1m5/5\u001b[0m \u001b[32m━━━━━━━━━━━━━━━━━━━━\u001b[0m\u001b[37m\u001b[0m \u001b[1m4s\u001b[0m 452ms/step - accuracy: 0.9262 - loss: 0.1347 - val_accuracy: 0.6500 - val_loss: 1.2322\n",
            "Epoch 23/50\n",
            "\u001b[1m5/5\u001b[0m \u001b[32m━━━━━━━━━━━━━━━━━━━━\u001b[0m\u001b[37m\u001b[0m \u001b[1m2s\u001b[0m 482ms/step - accuracy: 0.9615 - loss: 0.1070 - val_accuracy: 0.6875 - val_loss: 1.0439\n",
            "Epoch 24/50\n",
            "\u001b[1m5/5\u001b[0m \u001b[32m━━━━━━━━━━━━━━━━━━━━\u001b[0m\u001b[37m\u001b[0m \u001b[1m3s\u001b[0m 482ms/step - accuracy: 0.9583 - loss: 0.0978 - val_accuracy: 0.6500 - val_loss: 1.0086\n",
            "Epoch 25/50\n",
            "\u001b[1m5/5\u001b[0m \u001b[32m━━━━━━━━━━━━━━━━━━━━\u001b[0m\u001b[37m\u001b[0m \u001b[1m4s\u001b[0m 747ms/step - accuracy: 0.9660 - loss: 0.0995 - val_accuracy: 0.6375 - val_loss: 1.0535\n",
            "Epoch 26/50\n",
            "\u001b[1m5/5\u001b[0m \u001b[32m━━━━━━━━━━━━━━━━━━━━\u001b[0m\u001b[37m\u001b[0m \u001b[1m4s\u001b[0m 475ms/step - accuracy: 0.9701 - loss: 0.0719 - val_accuracy: 0.6875 - val_loss: 1.2055\n",
            "Epoch 27/50\n",
            "\u001b[1m5/5\u001b[0m \u001b[32m━━━━━━━━━━━━━━━━━━━━\u001b[0m\u001b[37m\u001b[0m \u001b[1m3s\u001b[0m 475ms/step - accuracy: 0.9582 - loss: 0.0869 - val_accuracy: 0.6500 - val_loss: 1.3622\n",
            "Epoch 28/50\n",
            "\u001b[1m5/5\u001b[0m \u001b[32m━━━━━━━━━━━━━━━━━━━━\u001b[0m\u001b[37m\u001b[0m \u001b[1m2s\u001b[0m 477ms/step - accuracy: 0.9638 - loss: 0.0796 - val_accuracy: 0.7000 - val_loss: 1.2660\n",
            "Epoch 29/50\n",
            "\u001b[1m5/5\u001b[0m \u001b[32m━━━━━━━━━━━━━━━━━━━━\u001b[0m\u001b[37m\u001b[0m \u001b[1m4s\u001b[0m 786ms/step - accuracy: 0.9677 - loss: 0.0817 - val_accuracy: 0.6750 - val_loss: 1.2908\n",
            "Epoch 30/50\n",
            "\u001b[1m5/5\u001b[0m \u001b[32m━━━━━━━━━━━━━━━━━━━━\u001b[0m\u001b[37m\u001b[0m \u001b[1m4s\u001b[0m 450ms/step - accuracy: 0.9743 - loss: 0.0572 - val_accuracy: 0.6500 - val_loss: 1.3690\n",
            "Epoch 31/50\n",
            "\u001b[1m5/5\u001b[0m \u001b[32m━━━━━━━━━━━━━━━━━━━━\u001b[0m\u001b[37m\u001b[0m \u001b[1m3s\u001b[0m 478ms/step - accuracy: 0.9846 - loss: 0.0521 - val_accuracy: 0.7000 - val_loss: 1.4845\n",
            "Epoch 32/50\n",
            "\u001b[1m5/5\u001b[0m \u001b[32m━━━━━━━━━━━━━━━━━━━━\u001b[0m\u001b[37m\u001b[0m \u001b[1m2s\u001b[0m 449ms/step - accuracy: 0.9786 - loss: 0.0490 - val_accuracy: 0.6875 - val_loss: 1.5728\n",
            "Epoch 33/50\n",
            "\u001b[1m5/5\u001b[0m \u001b[32m━━━━━━━━━━━━━━━━━━━━\u001b[0m\u001b[37m\u001b[0m \u001b[1m4s\u001b[0m 771ms/step - accuracy: 0.9403 - loss: 0.1169 - val_accuracy: 0.6625 - val_loss: 1.5661\n",
            "Epoch 34/50\n",
            "\u001b[1m5/5\u001b[0m \u001b[32m━━━━━━━━━━━━━━━━━━━━\u001b[0m\u001b[37m\u001b[0m \u001b[1m4s\u001b[0m 461ms/step - accuracy: 0.9366 - loss: 0.1322 - val_accuracy: 0.6875 - val_loss: 1.1379\n",
            "Epoch 35/50\n",
            "\u001b[1m5/5\u001b[0m \u001b[32m━━━━━━━━━━━━━━━━━━━━\u001b[0m\u001b[37m\u001b[0m \u001b[1m2s\u001b[0m 451ms/step - accuracy: 0.9219 - loss: 0.1314 - val_accuracy: 0.6500 - val_loss: 1.2992\n",
            "Epoch 36/50\n",
            "\u001b[1m5/5\u001b[0m \u001b[32m━━━━━━━━━━━━━━━━━━━━\u001b[0m\u001b[37m\u001b[0m \u001b[1m2s\u001b[0m 476ms/step - accuracy: 0.9681 - loss: 0.0814 - val_accuracy: 0.6500 - val_loss: 1.2654\n",
            "Epoch 37/50\n",
            "\u001b[1m5/5\u001b[0m \u001b[32m━━━━━━━━━━━━━━━━━━━━\u001b[0m\u001b[37m\u001b[0m \u001b[1m3s\u001b[0m 673ms/step - accuracy: 0.9730 - loss: 0.0530 - val_accuracy: 0.6125 - val_loss: 1.6056\n",
            "Epoch 38/50\n",
            "\u001b[1m5/5\u001b[0m \u001b[32m━━━━━━━━━━━━━━━━━━━━\u001b[0m\u001b[37m\u001b[0m \u001b[1m3s\u001b[0m 506ms/step - accuracy: 0.9508 - loss: 0.0756 - val_accuracy: 0.6125 - val_loss: 1.3717\n",
            "Epoch 39/50\n",
            "\u001b[1m5/5\u001b[0m \u001b[32m━━━━━━━━━━━━━━━━━━━━\u001b[0m\u001b[37m\u001b[0m \u001b[1m2s\u001b[0m 488ms/step - accuracy: 0.9745 - loss: 0.0538 - val_accuracy: 0.6125 - val_loss: 1.3809\n",
            "Epoch 40/50\n",
            "\u001b[1m5/5\u001b[0m \u001b[32m━━━━━━━━━━━━━━━━━━━━\u001b[0m\u001b[37m\u001b[0m \u001b[1m2s\u001b[0m 473ms/step - accuracy: 0.9722 - loss: 0.0534 - val_accuracy: 0.6625 - val_loss: 1.4354\n",
            "Epoch 41/50\n",
            "\u001b[1m5/5\u001b[0m \u001b[32m━━━━━━━━━━━━━━━━━━━━\u001b[0m\u001b[37m\u001b[0m \u001b[1m3s\u001b[0m 489ms/step - accuracy: 0.9709 - loss: 0.0862 - val_accuracy: 0.6250 - val_loss: 1.3050\n",
            "Epoch 42/50\n",
            "\u001b[1m5/5\u001b[0m \u001b[32m━━━━━━━━━━━━━━━━━━━━\u001b[0m\u001b[37m\u001b[0m \u001b[1m3s\u001b[0m 715ms/step - accuracy: 0.9776 - loss: 0.0575 - val_accuracy: 0.6875 - val_loss: 1.3303\n",
            "Epoch 43/50\n",
            "\u001b[1m5/5\u001b[0m \u001b[32m━━━━━━━━━━━━━━━━━━━━\u001b[0m\u001b[37m\u001b[0m \u001b[1m4s\u001b[0m 485ms/step - accuracy: 0.9616 - loss: 0.0619 - val_accuracy: 0.5875 - val_loss: 1.6344\n",
            "Epoch 44/50\n",
            "\u001b[1m5/5\u001b[0m \u001b[32m━━━━━━━━━━━━━━━━━━━━\u001b[0m\u001b[37m\u001b[0m \u001b[1m2s\u001b[0m 448ms/step - accuracy: 0.9704 - loss: 0.0476 - val_accuracy: 0.6625 - val_loss: 1.4140\n",
            "Epoch 45/50\n",
            "\u001b[1m5/5\u001b[0m \u001b[32m━━━━━━━━━━━━━━━━━━━━\u001b[0m\u001b[37m\u001b[0m \u001b[1m3s\u001b[0m 450ms/step - accuracy: 0.9552 - loss: 0.0697 - val_accuracy: 0.6500 - val_loss: 1.4434\n",
            "Epoch 46/50\n",
            "\u001b[1m5/5\u001b[0m \u001b[32m━━━━━━━━━━━━━━━━━━━━\u001b[0m\u001b[37m\u001b[0m \u001b[1m3s\u001b[0m 614ms/step - accuracy: 0.9852 - loss: 0.0380 - val_accuracy: 0.6125 - val_loss: 1.6605\n",
            "Epoch 47/50\n",
            "\u001b[1m5/5\u001b[0m \u001b[32m━━━━━━━━━━━━━━━━━━━━\u001b[0m\u001b[37m\u001b[0m \u001b[1m4s\u001b[0m 454ms/step - accuracy: 0.9700 - loss: 0.0476 - val_accuracy: 0.6500 - val_loss: 1.6746\n",
            "Epoch 48/50\n",
            "\u001b[1m5/5\u001b[0m \u001b[32m━━━━━━━━━━━━━━━━━━━━\u001b[0m\u001b[37m\u001b[0m \u001b[1m2s\u001b[0m 490ms/step - accuracy: 0.9668 - loss: 0.0587 - val_accuracy: 0.6125 - val_loss: 1.6490\n",
            "Epoch 49/50\n",
            "\u001b[1m5/5\u001b[0m \u001b[32m━━━━━━━━━━━━━━━━━━━━\u001b[0m\u001b[37m\u001b[0m \u001b[1m3s\u001b[0m 483ms/step - accuracy: 0.9756 - loss: 0.0437 - val_accuracy: 0.6250 - val_loss: 1.7294\n",
            "Epoch 50/50\n",
            "\u001b[1m5/5\u001b[0m \u001b[32m━━━━━━━━━━━━━━━━━━━━\u001b[0m\u001b[37m\u001b[0m \u001b[1m3s\u001b[0m 601ms/step - accuracy: 0.9889 - loss: 0.0306 - val_accuracy: 0.6500 - val_loss: 1.6960\n"
          ]
        }
      ],
      "execution_count": 62
    },
    {
      "cell_type": "code",
      "source": [
        "y_pred_lstm = model.predict(X_test)\n",
        "y_pred_lstm = np.where(y_pred_lstm > 0.5, 1, 0)"
      ],
      "metadata": {
        "id": "uA0n_CK1aLag",
        "outputId": "471f2141-61ef-4143-e787-797fdede1744",
        "colab": {
          "base_uri": "https://localhost:8080/"
        }
      },
      "execution_count": 63,
      "outputs": [
        {
          "output_type": "stream",
          "name": "stdout",
          "text": [
            "\u001b[1m3/3\u001b[0m \u001b[32m━━━━━━━━━━━━━━━━━━━━\u001b[0m\u001b[37m\u001b[0m \u001b[1m1s\u001b[0m 437ms/step\n"
          ]
        }
      ]
    },
    {
      "cell_type": "code",
      "source": [
        "print(classification_report(y_test, y_pred_lstm))"
      ],
      "metadata": {
        "id": "w7Bg_40QaYmG",
        "outputId": "b0cb5c54-0b76-45e9-a3dd-ef1d4605943e",
        "colab": {
          "base_uri": "https://localhost:8080/"
        }
      },
      "execution_count": 64,
      "outputs": [
        {
          "output_type": "stream",
          "name": "stdout",
          "text": [
            "              precision    recall  f1-score   support\n",
            "\n",
            "           0       0.66      0.62      0.64        40\n",
            "           1       0.64      0.68      0.66        40\n",
            "\n",
            "    accuracy                           0.65        80\n",
            "   macro avg       0.65      0.65      0.65        80\n",
            "weighted avg       0.65      0.65      0.65        80\n",
            "\n"
          ]
        }
      ]
    },
    {
      "cell_type": "code",
      "source": [
        "cm = confusion_matrix(y_test, y_pred_lstm)\n",
        "plt.figure(figsize=(5, 4))\n",
        "sns.heatmap(cm, annot=True, fmt=\"d\", cmap=\"Blues\", xticklabels=[\"Negative\", \"Positive\"], yticklabels=[\"Negative\", \"Positive\"])\n",
        "plt.xlabel(\"Predicted\")\n",
        "plt.ylabel(\"Actual\")\n",
        "plt.title(\"Confusion Matrix using LSTM\")\n",
        "plt.show()"
      ],
      "metadata": {
        "id": "C3-sTnd1f2a3",
        "outputId": "d8e03596-03cf-4e19-b29a-a5a8670b1270",
        "colab": {
          "base_uri": "https://localhost:8080/",
          "height": 410
        }
      },
      "execution_count": 75,
      "outputs": [
        {
          "output_type": "display_data",
          "data": {
            "text/plain": [
              "<Figure size 500x400 with 2 Axes>"
            ],
            "image/png": "[encoded data removed]"
          },
          "metadata": {}
        }
      ]
    },
    {
      "cell_type": "code",
      "source": [
        "\n",
        "model = Sequential([Embedding(input_dim=max_words, output_dim=100, input_length=max_len),\n",
        "                    Bidirectional(LSTM(units=128, return_sequences=False)),\n",
        "                    Dense(1, activation='sigmoid')])\n",
        "# Compile the model\n",
        "model.compile(loss='binary_crossentropy', optimizer='adam', metrics=['accuracy'])\n",
        "model.build((None, max_len))\n",
        "model.summary()"
      ],
      "metadata": {
        "id": "rVvGID5XahQ0",
        "outputId": "9ecf1611-6d2d-43cb-9c09-a6c7a676f315",
        "colab": {
          "base_uri": "https://localhost:8080/",
          "height": 280
        }
      },
      "execution_count": 65,
      "outputs": [
        {
          "output_type": "stream",
          "name": "stderr",
          "text": [
            "/usr/local/lib/python3.11/dist-packages/keras/src/layers/core/embedding.py:90: UserWarning: Argument `input_length` is deprecated. Just remove it.\n",
            "  warnings.warn(\n"
          ]
        },
        {
          "output_type": "display_data",
          "data": {
            "text/plain": [
              "\u001b[1mModel: \"sequential_5\"\u001b[0m\n"
            ],
            "text/html": [
              "<pre style=\"white-space:pre;overflow-x:auto;line-height:normal;font-family:Menlo,'DejaVu Sans Mono',consolas,'Courier New',monospace\"><span style=\"font-weight: bold\">Model: \"sequential_5\"</span>\n",
              "</pre>\n"
            ]
          },
          "metadata": {}
        },
        {
          "output_type": "display_data",
          "data": {
            "text/plain": [
              "┏━━━━━━━━━━━━━━━━━━━━━━━━━━━━━━━━━━━━━━┳━━━━━━━━━━━━━━━━━━━━━━━━━━━━━┳━━━━━━━━━━━━━━━━━┓\n",
              "┃\u001b[1m \u001b[0m\u001b[1mLayer (type)                        \u001b[0m\u001b[1m \u001b[0m┃\u001b[1m \u001b[0m\u001b[1mOutput Shape               \u001b[0m\u001b[1m \u001b[0m┃\u001b[1m \u001b[0m\u001b[1m        Param #\u001b[0m\u001b[1m \u001b[0m┃\n",
              "┡━━━━━━━━━━━━━━━━━━━━━━━━━━━━━━━━━━━━━━╇━━━━━━━━━━━━━━━━━━━━━━━━━━━━━╇━━━━━━━━━━━━━━━━━┩\n",
              "│ embedding_5 (\u001b[38;5;33mEmbedding\u001b[0m)              │ (\u001b[38;5;45mNone\u001b[0m, \u001b[38;5;34m128\u001b[0m, \u001b[38;5;34m100\u001b[0m)            │       \u001b[38;5;34m1,000,000\u001b[0m │\n",
              "├──────────────────────────────────────┼─────────────────────────────┼─────────────────┤\n",
              "│ bidirectional_1 (\u001b[38;5;33mBidirectional\u001b[0m)      │ (\u001b[38;5;45mNone\u001b[0m, \u001b[38;5;34m256\u001b[0m)                 │         \u001b[38;5;34m234,496\u001b[0m │\n",
              "├──────────────────────────────────────┼─────────────────────────────┼─────────────────┤\n",
              "│ dense_9 (\u001b[38;5;33mDense\u001b[0m)                      │ (\u001b[38;5;45mNone\u001b[0m, \u001b[38;5;34m1\u001b[0m)                   │             \u001b[38;5;34m257\u001b[0m │\n",
              "└──────────────────────────────────────┴─────────────────────────────┴─────────────────┘\n"
            ],
            "text/html": [
              "<pre style=\"white-space:pre;overflow-x:auto;line-height:normal;font-family:Menlo,'DejaVu Sans Mono',consolas,'Courier New',monospace\">┏━━━━━━━━━━━━━━━━━━━━━━━━━━━━━━━━━━━━━━┳━━━━━━━━━━━━━━━━━━━━━━━━━━━━━┳━━━━━━━━━━━━━━━━━┓\n",
              "┃<span style=\"font-weight: bold\"> Layer (type)                         </span>┃<span style=\"font-weight: bold\"> Output Shape                </span>┃<span style=\"font-weight: bold\">         Param # </span>┃\n",
              "┡━━━━━━━━━━━━━━━━━━━━━━━━━━━━━━━━━━━━━━╇━━━━━━━━━━━━━━━━━━━━━━━━━━━━━╇━━━━━━━━━━━━━━━━━┩\n",
              "│ embedding_5 (<span style=\"color: #0087ff; text-decoration-color: #0087ff\">Embedding</span>)              │ (<span style=\"color: #00d7ff; text-decoration-color: #00d7ff\">None</span>, <span style=\"color: #00af00; text-decoration-color: #00af00\">128</span>, <span style=\"color: #00af00; text-decoration-color: #00af00\">100</span>)            │       <span style=\"color: #00af00; text-decoration-color: #00af00\">1,000,000</span> │\n",
              "├──────────────────────────────────────┼─────────────────────────────┼─────────────────┤\n",
              "│ bidirectional_1 (<span style=\"color: #0087ff; text-decoration-color: #0087ff\">Bidirectional</span>)      │ (<span style=\"color: #00d7ff; text-decoration-color: #00d7ff\">None</span>, <span style=\"color: #00af00; text-decoration-color: #00af00\">256</span>)                 │         <span style=\"color: #00af00; text-decoration-color: #00af00\">234,496</span> │\n",
              "├──────────────────────────────────────┼─────────────────────────────┼─────────────────┤\n",
              "│ dense_9 (<span style=\"color: #0087ff; text-decoration-color: #0087ff\">Dense</span>)                      │ (<span style=\"color: #00d7ff; text-decoration-color: #00d7ff\">None</span>, <span style=\"color: #00af00; text-decoration-color: #00af00\">1</span>)                   │             <span style=\"color: #00af00; text-decoration-color: #00af00\">257</span> │\n",
              "└──────────────────────────────────────┴─────────────────────────────┴─────────────────┘\n",
              "</pre>\n"
            ]
          },
          "metadata": {}
        },
        {
          "output_type": "display_data",
          "data": {
            "text/plain": [
              "\u001b[1m Total params: \u001b[0m\u001b[38;5;34m1,234,753\u001b[0m (4.71 MB)\n"
            ],
            "text/html": [
              "<pre style=\"white-space:pre;overflow-x:auto;line-height:normal;font-family:Menlo,'DejaVu Sans Mono',consolas,'Courier New',monospace\"><span style=\"font-weight: bold\"> Total params: </span><span style=\"color: #00af00; text-decoration-color: #00af00\">1,234,753</span> (4.71 MB)\n",
              "</pre>\n"
            ]
          },
          "metadata": {}
        },
        {
          "output_type": "display_data",
          "data": {
            "text/plain": [
              "\u001b[1m Trainable params: \u001b[0m\u001b[38;5;34m1,234,753\u001b[0m (4.71 MB)\n"
            ],
            "text/html": [
              "<pre style=\"white-space:pre;overflow-x:auto;line-height:normal;font-family:Menlo,'DejaVu Sans Mono',consolas,'Courier New',monospace\"><span style=\"font-weight: bold\"> Trainable params: </span><span style=\"color: #00af00; text-decoration-color: #00af00\">1,234,753</span> (4.71 MB)\n",
              "</pre>\n"
            ]
          },
          "metadata": {}
        },
        {
          "output_type": "display_data",
          "data": {
            "text/plain": [
              "\u001b[1m Non-trainable params: \u001b[0m\u001b[38;5;34m0\u001b[0m (0.00 B)\n"
            ],
            "text/html": [
              "<pre style=\"white-space:pre;overflow-x:auto;line-height:normal;font-family:Menlo,'DejaVu Sans Mono',consolas,'Courier New',monospace\"><span style=\"font-weight: bold\"> Non-trainable params: </span><span style=\"color: #00af00; text-decoration-color: #00af00\">0</span> (0.00 B)\n",
              "</pre>\n"
            ]
          },
          "metadata": {}
        }
      ]
    },
    {
      "cell_type": "code",
      "source": [
        "history = model.fit(X_train, y_train, validation_data=(X_test, y_test), epochs=50, batch_size=64, class_weight=class_weight_dict)"
      ],
      "metadata": {
        "id": "gxAOTxKQalna",
        "outputId": "259c383d-6417-4c1a-ffa7-7e52a30abba9",
        "colab": {
          "base_uri": "https://localhost:8080/"
        }
      },
      "execution_count": 66,
      "outputs": [
        {
          "output_type": "stream",
          "name": "stdout",
          "text": [
            "Epoch 1/50\n",
            "\u001b[1m5/5\u001b[0m \u001b[32m━━━━━━━━━━━━━━━━━━━━\u001b[0m\u001b[37m\u001b[0m \u001b[1m8s\u001b[0m 818ms/step - accuracy: 0.4864 - loss: 0.6983 - val_accuracy: 0.5000 - val_loss: 0.6905\n",
            "Epoch 2/50\n",
            "\u001b[1m5/5\u001b[0m \u001b[32m━━━━━━━━━━━━━━━━━━━━\u001b[0m\u001b[37m\u001b[0m \u001b[1m3s\u001b[0m 563ms/step - accuracy: 0.4781 - loss: 0.6835 - val_accuracy: 0.5750 - val_loss: 0.6888\n",
            "Epoch 3/50\n",
            "\u001b[1m5/5\u001b[0m \u001b[32m━━━━━━━━━━━━━━━━━━━━\u001b[0m\u001b[37m\u001b[0m \u001b[1m5s\u001b[0m 560ms/step - accuracy: 0.7918 - loss: 0.6674 - val_accuracy: 0.5750 - val_loss: 0.6823\n",
            "Epoch 4/50\n",
            "\u001b[1m5/5\u001b[0m \u001b[32m━━━━━━━━━━━━━━━━━━━━\u001b[0m\u001b[37m\u001b[0m \u001b[1m4s\u001b[0m 878ms/step - accuracy: 0.8181 - loss: 0.6007 - val_accuracy: 0.6375 - val_loss: 0.6635\n",
            "Epoch 5/50\n",
            "\u001b[1m5/5\u001b[0m \u001b[32m━━━━━━━━━━━━━━━━━━━━\u001b[0m\u001b[37m\u001b[0m \u001b[1m3s\u001b[0m 567ms/step - accuracy: 0.7872 - loss: 0.4778 - val_accuracy: 0.5750 - val_loss: 0.6664\n",
            "Epoch 6/50\n",
            "\u001b[1m5/5\u001b[0m \u001b[32m━━━━━━━━━━━━━━━━━━━━\u001b[0m\u001b[37m\u001b[0m \u001b[1m5s\u001b[0m 578ms/step - accuracy: 0.8717 - loss: 0.3422 - val_accuracy: 0.6250 - val_loss: 0.6793\n",
            "Epoch 7/50\n",
            "\u001b[1m5/5\u001b[0m \u001b[32m━━━━━━━━━━━━━━━━━━━━\u001b[0m\u001b[37m\u001b[0m \u001b[1m6s\u001b[0m 613ms/step - accuracy: 0.9115 - loss: 0.2693 - val_accuracy: 0.5750 - val_loss: 0.6923\n",
            "Epoch 8/50\n",
            "\u001b[1m5/5\u001b[0m \u001b[32m━━━━━━━━━━━━━━━━━━━━\u001b[0m\u001b[37m\u001b[0m \u001b[1m4s\u001b[0m 555ms/step - accuracy: 0.9129 - loss: 0.2420 - val_accuracy: 0.6000 - val_loss: 0.6939\n",
            "Epoch 9/50\n",
            "\u001b[1m5/5\u001b[0m \u001b[32m━━━━━━━━━━━━━━━━━━━━\u001b[0m\u001b[37m\u001b[0m \u001b[1m6s\u001b[0m 822ms/step - accuracy: 0.9452 - loss: 0.1604 - val_accuracy: 0.6250 - val_loss: 0.7916\n",
            "Epoch 10/50\n",
            "\u001b[1m5/5\u001b[0m \u001b[32m━━━━━━━━━━━━━━━━━━━━\u001b[0m\u001b[37m\u001b[0m \u001b[1m4s\u001b[0m 539ms/step - accuracy: 0.9416 - loss: 0.1605 - val_accuracy: 0.6625 - val_loss: 0.7275\n",
            "Epoch 11/50\n",
            "\u001b[1m5/5\u001b[0m \u001b[32m━━━━━━━━━━━━━━━━━━━━\u001b[0m\u001b[37m\u001b[0m \u001b[1m3s\u001b[0m 575ms/step - accuracy: 0.9582 - loss: 0.1147 - val_accuracy: 0.6500 - val_loss: 0.6903\n",
            "Epoch 12/50\n",
            "\u001b[1m5/5\u001b[0m \u001b[32m━━━━━━━━━━━━━━━━━━━━\u001b[0m\u001b[37m\u001b[0m \u001b[1m6s\u001b[0m 896ms/step - accuracy: 0.9760 - loss: 0.0958 - val_accuracy: 0.7000 - val_loss: 0.7486\n",
            "Epoch 13/50\n",
            "\u001b[1m5/5\u001b[0m \u001b[32m━━━━━━━━━━━━━━━━━━━━\u001b[0m\u001b[37m\u001b[0m \u001b[1m3s\u001b[0m 555ms/step - accuracy: 0.9689 - loss: 0.0883 - val_accuracy: 0.6750 - val_loss: 0.7834\n",
            "Epoch 14/50\n",
            "\u001b[1m5/5\u001b[0m \u001b[32m━━━━━━━━━━━━━━━━━━━━\u001b[0m\u001b[37m\u001b[0m \u001b[1m5s\u001b[0m 533ms/step - accuracy: 0.9786 - loss: 0.0585 - val_accuracy: 0.6750 - val_loss: 0.8113\n",
            "Epoch 15/50\n",
            "\u001b[1m5/5\u001b[0m \u001b[32m━━━━━━━━━━━━━━━━━━━━\u001b[0m\u001b[37m\u001b[0m \u001b[1m3s\u001b[0m 600ms/step - accuracy: 0.9809 - loss: 0.0722 - val_accuracy: 0.6875 - val_loss: 0.8482\n",
            "Epoch 16/50\n",
            "\u001b[1m5/5\u001b[0m \u001b[32m━━━━━━━━━━━━━━━━━━━━\u001b[0m\u001b[37m\u001b[0m \u001b[1m5s\u001b[0m 528ms/step - accuracy: 0.9802 - loss: 0.0650 - val_accuracy: 0.6625 - val_loss: 0.8234\n",
            "Epoch 17/50\n",
            "\u001b[1m5/5\u001b[0m \u001b[32m━━━━━━━━━━━━━━━━━━━━\u001b[0m\u001b[37m\u001b[0m \u001b[1m5s\u001b[0m 559ms/step - accuracy: 0.9872 - loss: 0.0543 - val_accuracy: 0.6750 - val_loss: 0.8306\n",
            "Epoch 18/50\n",
            "\u001b[1m5/5\u001b[0m \u001b[32m━━━━━━━━━━━━━━━━━━━━\u001b[0m\u001b[37m\u001b[0m \u001b[1m6s\u001b[0m 565ms/step - accuracy: 0.9949 - loss: 0.0532 - val_accuracy: 0.6875 - val_loss: 0.8776\n",
            "Epoch 19/50\n",
            "\u001b[1m5/5\u001b[0m \u001b[32m━━━━━━━━━━━━━━━━━━━━\u001b[0m\u001b[37m\u001b[0m \u001b[1m3s\u001b[0m 529ms/step - accuracy: 0.9405 - loss: 0.2561 - val_accuracy: 0.6250 - val_loss: 1.8719\n",
            "Epoch 20/50\n",
            "\u001b[1m5/5\u001b[0m \u001b[32m━━━━━━━━━━━━━━━━━━━━\u001b[0m\u001b[37m\u001b[0m \u001b[1m5s\u001b[0m 534ms/step - accuracy: 0.8762 - loss: 0.3546 - val_accuracy: 0.6250 - val_loss: 1.6229\n",
            "Epoch 21/50\n",
            "\u001b[1m5/5\u001b[0m \u001b[32m━━━━━━━━━━━━━━━━━━━━\u001b[0m\u001b[37m\u001b[0m \u001b[1m5s\u001b[0m 559ms/step - accuracy: 0.9076 - loss: 0.2037 - val_accuracy: 0.6500 - val_loss: 0.9381\n",
            "Epoch 22/50\n",
            "\u001b[1m5/5\u001b[0m \u001b[32m━━━━━━━━━━━━━━━━━━━━\u001b[0m\u001b[37m\u001b[0m \u001b[1m5s\u001b[0m 528ms/step - accuracy: 0.9562 - loss: 0.1761 - val_accuracy: 0.5875 - val_loss: 0.8504\n",
            "Epoch 23/50\n",
            "\u001b[1m5/5\u001b[0m \u001b[32m━━━━━━━━━━━━━━━━━━━━\u001b[0m\u001b[37m\u001b[0m \u001b[1m4s\u001b[0m 775ms/step - accuracy: 0.9427 - loss: 0.1597 - val_accuracy: 0.5875 - val_loss: 0.8130\n",
            "Epoch 24/50\n",
            "\u001b[1m5/5\u001b[0m \u001b[32m━━━━━━━━━━━━━━━━━━━━\u001b[0m\u001b[37m\u001b[0m \u001b[1m3s\u001b[0m 574ms/step - accuracy: 0.9520 - loss: 0.1391 - val_accuracy: 0.6000 - val_loss: 0.7324\n",
            "Epoch 25/50\n",
            "\u001b[1m5/5\u001b[0m \u001b[32m━━━━━━━━━━━━━━━━━━━━\u001b[0m\u001b[37m\u001b[0m \u001b[1m5s\u001b[0m 567ms/step - accuracy: 0.9726 - loss: 0.0925 - val_accuracy: 0.7250 - val_loss: 0.7097\n",
            "Epoch 26/50\n",
            "\u001b[1m5/5\u001b[0m \u001b[32m━━━━━━━━━━━━━━━━━━━━\u001b[0m\u001b[37m\u001b[0m \u001b[1m3s\u001b[0m 566ms/step - accuracy: 0.9746 - loss: 0.0743 - val_accuracy: 0.6875 - val_loss: 0.7800\n",
            "Epoch 27/50\n",
            "\u001b[1m5/5\u001b[0m \u001b[32m━━━━━━━━━━━━━━━━━━━━\u001b[0m\u001b[37m\u001b[0m \u001b[1m5s\u001b[0m 561ms/step - accuracy: 0.9893 - loss: 0.0505 - val_accuracy: 0.7125 - val_loss: 0.7619\n",
            "Epoch 28/50\n",
            "\u001b[1m5/5\u001b[0m \u001b[32m━━━━━━━━━━━━━━━━━━━━\u001b[0m\u001b[37m\u001b[0m \u001b[1m5s\u001b[0m 533ms/step - accuracy: 0.9900 - loss: 0.0407 - val_accuracy: 0.7125 - val_loss: 0.8271\n",
            "Epoch 29/50\n",
            "\u001b[1m5/5\u001b[0m \u001b[32m━━━━━━━━━━━━━━━━━━━━\u001b[0m\u001b[37m\u001b[0m \u001b[1m6s\u001b[0m 687ms/step - accuracy: 0.9944 - loss: 0.0325 - val_accuracy: 0.7000 - val_loss: 0.8947\n",
            "Epoch 30/50\n",
            "\u001b[1m5/5\u001b[0m \u001b[32m━━━━━━━━━━━━━━━━━━━━\u001b[0m\u001b[37m\u001b[0m \u001b[1m4s\u001b[0m 538ms/step - accuracy: 1.0000 - loss: 0.0248 - val_accuracy: 0.6750 - val_loss: 0.9759\n",
            "Epoch 31/50\n",
            "\u001b[1m5/5\u001b[0m \u001b[32m━━━━━━━━━━━━━━━━━━━━\u001b[0m\u001b[37m\u001b[0m \u001b[1m6s\u001b[0m 730ms/step - accuracy: 0.9949 - loss: 0.0205 - val_accuracy: 0.6875 - val_loss: 1.0143\n",
            "Epoch 32/50\n",
            "\u001b[1m5/5\u001b[0m \u001b[32m━━━━━━━━━━━━━━━━━━━━\u001b[0m\u001b[37m\u001b[0m \u001b[1m3s\u001b[0m 636ms/step - accuracy: 0.9957 - loss: 0.0146 - val_accuracy: 0.6750 - val_loss: 1.0789\n",
            "Epoch 33/50\n",
            "\u001b[1m5/5\u001b[0m \u001b[32m━━━━━━━━━━━━━━━━━━━━\u001b[0m\u001b[37m\u001b[0m \u001b[1m4s\u001b[0m 568ms/step - accuracy: 1.0000 - loss: 0.0112 - val_accuracy: 0.7125 - val_loss: 1.1144\n",
            "Epoch 34/50\n",
            "\u001b[1m5/5\u001b[0m \u001b[32m━━━━━━━━━━━━━━━━━━━━\u001b[0m\u001b[37m\u001b[0m \u001b[1m6s\u001b[0m 911ms/step - accuracy: 1.0000 - loss: 0.0105 - val_accuracy: 0.6875 - val_loss: 1.1383\n",
            "Epoch 35/50\n",
            "\u001b[1m5/5\u001b[0m \u001b[32m━━━━━━━━━━━━━━━━━━━━\u001b[0m\u001b[37m\u001b[0m \u001b[1m4s\u001b[0m 525ms/step - accuracy: 1.0000 - loss: 0.0082 - val_accuracy: 0.7000 - val_loss: 1.1843\n",
            "Epoch 36/50\n",
            "\u001b[1m5/5\u001b[0m \u001b[32m━━━━━━━━━━━━━━━━━━━━\u001b[0m\u001b[37m\u001b[0m \u001b[1m5s\u001b[0m 560ms/step - accuracy: 1.0000 - loss: 0.0090 - val_accuracy: 0.6875 - val_loss: 1.1929\n",
            "Epoch 37/50\n",
            "\u001b[1m5/5\u001b[0m \u001b[32m━━━━━━━━━━━━━━━━━━━━\u001b[0m\u001b[37m\u001b[0m \u001b[1m5s\u001b[0m 544ms/step - accuracy: 1.0000 - loss: 0.0069 - val_accuracy: 0.7125 - val_loss: 1.2036\n",
            "Epoch 38/50\n",
            "\u001b[1m5/5\u001b[0m \u001b[32m━━━━━━━━━━━━━━━━━━━━\u001b[0m\u001b[37m\u001b[0m \u001b[1m5s\u001b[0m 552ms/step - accuracy: 0.9961 - loss: 0.0102 - val_accuracy: 0.6750 - val_loss: 1.1621\n",
            "Epoch 39/50\n",
            "\u001b[1m5/5\u001b[0m \u001b[32m━━━━━━━━━━━━━━━━━━━━\u001b[0m\u001b[37m\u001b[0m \u001b[1m7s\u001b[0m 963ms/step - accuracy: 0.9990 - loss: 0.0118 - val_accuracy: 0.6875 - val_loss: 1.1337\n",
            "Epoch 40/50\n",
            "\u001b[1m5/5\u001b[0m \u001b[32m━━━━━━━━━━━━━━━━━━━━\u001b[0m\u001b[37m\u001b[0m \u001b[1m3s\u001b[0m 563ms/step - accuracy: 1.0000 - loss: 0.0084 - val_accuracy: 0.7000 - val_loss: 1.0998\n",
            "Epoch 41/50\n",
            "\u001b[1m5/5\u001b[0m \u001b[32m━━━━━━━━━━━━━━━━━━━━\u001b[0m\u001b[37m\u001b[0m \u001b[1m5s\u001b[0m 540ms/step - accuracy: 1.0000 - loss: 0.0062 - val_accuracy: 0.7375 - val_loss: 1.1302\n",
            "Epoch 42/50\n",
            "\u001b[1m5/5\u001b[0m \u001b[32m━━━━━━━━━━━━━━━━━━━━\u001b[0m\u001b[37m\u001b[0m \u001b[1m6s\u001b[0m 614ms/step - accuracy: 1.0000 - loss: 0.0048 - val_accuracy: 0.7125 - val_loss: 1.2189\n",
            "Epoch 43/50\n",
            "\u001b[1m5/5\u001b[0m \u001b[32m━━━━━━━━━━━━━━━━━━━━\u001b[0m\u001b[37m\u001b[0m \u001b[1m3s\u001b[0m 540ms/step - accuracy: 1.0000 - loss: 0.0040 - val_accuracy: 0.7250 - val_loss: 1.1832\n",
            "Epoch 44/50\n",
            "\u001b[1m5/5\u001b[0m \u001b[32m━━━━━━━━━━━━━━━━━━━━\u001b[0m\u001b[37m\u001b[0m \u001b[1m5s\u001b[0m 555ms/step - accuracy: 1.0000 - loss: 0.0037 - val_accuracy: 0.7375 - val_loss: 1.1503\n",
            "Epoch 45/50\n",
            "\u001b[1m5/5\u001b[0m \u001b[32m━━━━━━━━━━━━━━━━━━━━\u001b[0m\u001b[37m\u001b[0m \u001b[1m5s\u001b[0m 564ms/step - accuracy: 1.0000 - loss: 0.0032 - val_accuracy: 0.7500 - val_loss: 1.1684\n",
            "Epoch 46/50\n",
            "\u001b[1m5/5\u001b[0m \u001b[32m━━━━━━━━━━━━━━━━━━━━\u001b[0m\u001b[37m\u001b[0m \u001b[1m5s\u001b[0m 567ms/step - accuracy: 1.0000 - loss: 0.0027 - val_accuracy: 0.7250 - val_loss: 1.2015\n",
            "Epoch 47/50\n",
            "\u001b[1m5/5\u001b[0m \u001b[32m━━━━━━━━━━━━━━━━━━━━\u001b[0m\u001b[37m\u001b[0m \u001b[1m6s\u001b[0m 668ms/step - accuracy: 1.0000 - loss: 0.0021 - val_accuracy: 0.7375 - val_loss: 1.2604\n",
            "Epoch 48/50\n",
            "\u001b[1m5/5\u001b[0m \u001b[32m━━━━━━━━━━━━━━━━━━━━\u001b[0m\u001b[37m\u001b[0m \u001b[1m4s\u001b[0m 533ms/step - accuracy: 1.0000 - loss: 0.0021 - val_accuracy: 0.7375 - val_loss: 1.2970\n",
            "Epoch 49/50\n",
            "\u001b[1m5/5\u001b[0m \u001b[32m━━━━━━━━━━━━━━━━━━━━\u001b[0m\u001b[37m\u001b[0m \u001b[1m6s\u001b[0m 759ms/step - accuracy: 1.0000 - loss: 0.0018 - val_accuracy: 0.7375 - val_loss: 1.3003\n",
            "Epoch 50/50\n",
            "\u001b[1m5/5\u001b[0m \u001b[32m━━━━━━━━━━━━━━━━━━━━\u001b[0m\u001b[37m\u001b[0m \u001b[1m4s\u001b[0m 539ms/step - accuracy: 1.0000 - loss: 0.0016 - val_accuracy: 0.7375 - val_loss: 1.3212\n"
          ]
        }
      ]
    },
    {
      "cell_type": "code",
      "source": [
        "y_pred_bi = model.predict(X_test)\n",
        "y_pred_bi = np.where(y_pred_bi > 0.5, 1, 0)"
      ],
      "metadata": {
        "id": "0KsFWeexeNyz",
        "outputId": "41de4cd7-0f9c-4674-c581-7207fbe7df50",
        "colab": {
          "base_uri": "https://localhost:8080/"
        }
      },
      "execution_count": 67,
      "outputs": [
        {
          "output_type": "stream",
          "name": "stderr",
          "text": [
            "WARNING:tensorflow:5 out of the last 7 calls to <function TensorFlowTrainer.make_predict_function.<locals>.one_step_on_data_distributed at 0x7ea71320efc0> triggered tf.function retracing. Tracing is expensive and the excessive number of tracings could be due to (1) creating @tf.function repeatedly in a loop, (2) passing tensors with different shapes, (3) passing Python objects instead of tensors. For (1), please define your @tf.function outside of the loop. For (2), @tf.function has reduce_retracing=True option that can avoid unnecessary retracing. For (3), please refer to https://www.tensorflow.org/guide/function#controlling_retracing and https://www.tensorflow.org/api_docs/python/tf/function for  more details.\n"
          ]
        },
        {
          "output_type": "stream",
          "name": "stdout",
          "text": [
            "\u001b[1m2/3\u001b[0m \u001b[32m━━━━━━━━━━━━━\u001b[0m\u001b[37m━━━━━━━\u001b[0m \u001b[1m0s\u001b[0m 176ms/step"
          ]
        },
        {
          "output_type": "stream",
          "name": "stderr",
          "text": [
            "WARNING:tensorflow:6 out of the last 9 calls to <function TensorFlowTrainer.make_predict_function.<locals>.one_step_on_data_distributed at 0x7ea71320efc0> triggered tf.function retracing. Tracing is expensive and the excessive number of tracings could be due to (1) creating @tf.function repeatedly in a loop, (2) passing tensors with different shapes, (3) passing Python objects instead of tensors. For (1), please define your @tf.function outside of the loop. For (2), @tf.function has reduce_retracing=True option that can avoid unnecessary retracing. For (3), please refer to https://www.tensorflow.org/guide/function#controlling_retracing and https://www.tensorflow.org/api_docs/python/tf/function for  more details.\n"
          ]
        },
        {
          "output_type": "stream",
          "name": "stdout",
          "text": [
            "\u001b[1m3/3\u001b[0m \u001b[32m━━━━━━━━━━━━━━━━━━━━\u001b[0m\u001b[37m\u001b[0m \u001b[1m3s\u001b[0m 581ms/step\n"
          ]
        }
      ]
    },
    {
      "cell_type": "code",
      "source": [
        "print(classification_report(y_test, y_pred_bi))"
      ],
      "metadata": {
        "id": "Qb94C-qJebO-",
        "outputId": "2fc5db9e-58c3-424c-a84b-3709eeee19d1",
        "colab": {
          "base_uri": "https://localhost:8080/"
        }
      },
      "execution_count": 68,
      "outputs": [
        {
          "output_type": "stream",
          "name": "stdout",
          "text": [
            "              precision    recall  f1-score   support\n",
            "\n",
            "           0       0.79      0.65      0.71        40\n",
            "           1       0.70      0.82      0.76        40\n",
            "\n",
            "    accuracy                           0.74        80\n",
            "   macro avg       0.75      0.74      0.74        80\n",
            "weighted avg       0.75      0.74      0.74        80\n",
            "\n"
          ]
        }
      ]
    },
    {
      "cell_type": "code",
      "source": [
        "cm = confusion_matrix(y_test, y_pred_bi)\n",
        "plt.figure(figsize=(5, 4))\n",
        "sns.heatmap(cm, annot=True, fmt=\"d\", cmap=\"Blues\", xticklabels=[\"Negative\", \"Positive\"], yticklabels=[\"Negative\", \"Positive\"])\n",
        "plt.xlabel(\"Predicted\")\n",
        "plt.ylabel(\"Actual\")\n",
        "plt.title(\"Confusion Matrix using BI-LSTM\")\n",
        "plt.show()"
      ],
      "metadata": {
        "id": "Xgf1R_30ftra",
        "outputId": "0e34956e-51a7-4dc8-e5de-cb7ffcfa3722",
        "colab": {
          "base_uri": "https://localhost:8080/",
          "height": 410
        }
      },
      "execution_count": 74,
      "outputs": [
        {
          "output_type": "display_data",
          "data": {
            "text/plain": [
              "<Figure size 500x400 with 2 Axes>"
            ],
            "image/png": "[encoded data removed]"
          },
          "metadata": {}
        }
      ]
    },
    {
      "cell_type": "code",
      "source": [
        "#GRU-LSTM\n",
        "model = Sequential([Embedding(input_dim=max_words, output_dim=100, input_length=max_len),\n",
        "                    GRU(units=128, return_sequences=True),\n",
        "                    LSTM(units=64, return_sequences=False),\n",
        "                    Dropout(0.5),\n",
        "                    Dense(1, activation='sigmoid')\n",
        "])\n",
        "# Compile\n",
        "model.compile(loss='binary_crossentropy', optimizer='adam', metrics=['accuracy'])\n",
        "# Build and summary\n",
        "model.build((None, max_len))\n",
        "model.summary()"
      ],
      "metadata": {
        "id": "ZaTCZR5Aek_3",
        "outputId": "c97e0d10-928a-4ef3-ea53-4a983826a7a6",
        "colab": {
          "base_uri": "https://localhost:8080/",
          "height": 344
        }
      },
      "execution_count": 69,
      "outputs": [
        {
          "output_type": "stream",
          "name": "stderr",
          "text": [
            "/usr/local/lib/python3.11/dist-packages/keras/src/layers/core/embedding.py:90: UserWarning: Argument `input_length` is deprecated. Just remove it.\n",
            "  warnings.warn(\n"
          ]
        },
        {
          "output_type": "display_data",
          "data": {
            "text/plain": [
              "\u001b[1mModel: \"sequential_6\"\u001b[0m\n"
            ],
            "text/html": [
              "<pre style=\"white-space:pre;overflow-x:auto;line-height:normal;font-family:Menlo,'DejaVu Sans Mono',consolas,'Courier New',monospace\"><span style=\"font-weight: bold\">Model: \"sequential_6\"</span>\n",
              "</pre>\n"
            ]
          },
          "metadata": {}
        },
        {
          "output_type": "display_data",
          "data": {
            "text/plain": [
              "┏━━━━━━━━━━━━━━━━━━━━━━━━━━━━━━━━━━━━━━┳━━━━━━━━━━━━━━━━━━━━━━━━━━━━━┳━━━━━━━━━━━━━━━━━┓\n",
              "┃\u001b[1m \u001b[0m\u001b[1mLayer (type)                        \u001b[0m\u001b[1m \u001b[0m┃\u001b[1m \u001b[0m\u001b[1mOutput Shape               \u001b[0m\u001b[1m \u001b[0m┃\u001b[1m \u001b[0m\u001b[1m        Param #\u001b[0m\u001b[1m \u001b[0m┃\n",
              "┡━━━━━━━━━━━━━━━━━━━━━━━━━━━━━━━━━━━━━━╇━━━━━━━━━━━━━━━━━━━━━━━━━━━━━╇━━━━━━━━━━━━━━━━━┩\n",
              "│ embedding_6 (\u001b[38;5;33mEmbedding\u001b[0m)              │ (\u001b[38;5;45mNone\u001b[0m, \u001b[38;5;34m128\u001b[0m, \u001b[38;5;34m100\u001b[0m)            │       \u001b[38;5;34m1,000,000\u001b[0m │\n",
              "├──────────────────────────────────────┼─────────────────────────────┼─────────────────┤\n",
              "│ gru (\u001b[38;5;33mGRU\u001b[0m)                            │ (\u001b[38;5;45mNone\u001b[0m, \u001b[38;5;34m128\u001b[0m, \u001b[38;5;34m128\u001b[0m)            │          \u001b[38;5;34m88,320\u001b[0m │\n",
              "├──────────────────────────────────────┼─────────────────────────────┼─────────────────┤\n",
              "│ lstm_10 (\u001b[38;5;33mLSTM\u001b[0m)                       │ (\u001b[38;5;45mNone\u001b[0m, \u001b[38;5;34m64\u001b[0m)                  │          \u001b[38;5;34m49,408\u001b[0m │\n",
              "├──────────────────────────────────────┼─────────────────────────────┼─────────────────┤\n",
              "│ dropout_4 (\u001b[38;5;33mDropout\u001b[0m)                  │ (\u001b[38;5;45mNone\u001b[0m, \u001b[38;5;34m64\u001b[0m)                  │               \u001b[38;5;34m0\u001b[0m │\n",
              "├──────────────────────────────────────┼─────────────────────────────┼─────────────────┤\n",
              "│ dense_10 (\u001b[38;5;33mDense\u001b[0m)                     │ (\u001b[38;5;45mNone\u001b[0m, \u001b[38;5;34m1\u001b[0m)                   │              \u001b[38;5;34m65\u001b[0m │\n",
              "└──────────────────────────────────────┴─────────────────────────────┴─────────────────┘\n"
            ],
            "text/html": [
              "<pre style=\"white-space:pre;overflow-x:auto;line-height:normal;font-family:Menlo,'DejaVu Sans Mono',consolas,'Courier New',monospace\">┏━━━━━━━━━━━━━━━━━━━━━━━━━━━━━━━━━━━━━━┳━━━━━━━━━━━━━━━━━━━━━━━━━━━━━┳━━━━━━━━━━━━━━━━━┓\n",
              "┃<span style=\"font-weight: bold\"> Layer (type)                         </span>┃<span style=\"font-weight: bold\"> Output Shape                </span>┃<span style=\"font-weight: bold\">         Param # </span>┃\n",
              "┡━━━━━━━━━━━━━━━━━━━━━━━━━━━━━━━━━━━━━━╇━━━━━━━━━━━━━━━━━━━━━━━━━━━━━╇━━━━━━━━━━━━━━━━━┩\n",
              "│ embedding_6 (<span style=\"color: #0087ff; text-decoration-color: #0087ff\">Embedding</span>)              │ (<span style=\"color: #00d7ff; text-decoration-color: #00d7ff\">None</span>, <span style=\"color: #00af00; text-decoration-color: #00af00\">128</span>, <span style=\"color: #00af00; text-decoration-color: #00af00\">100</span>)            │       <span style=\"color: #00af00; text-decoration-color: #00af00\">1,000,000</span> │\n",
              "├──────────────────────────────────────┼─────────────────────────────┼─────────────────┤\n",
              "│ gru (<span style=\"color: #0087ff; text-decoration-color: #0087ff\">GRU</span>)                            │ (<span style=\"color: #00d7ff; text-decoration-color: #00d7ff\">None</span>, <span style=\"color: #00af00; text-decoration-color: #00af00\">128</span>, <span style=\"color: #00af00; text-decoration-color: #00af00\">128</span>)            │          <span style=\"color: #00af00; text-decoration-color: #00af00\">88,320</span> │\n",
              "├──────────────────────────────────────┼─────────────────────────────┼─────────────────┤\n",
              "│ lstm_10 (<span style=\"color: #0087ff; text-decoration-color: #0087ff\">LSTM</span>)                       │ (<span style=\"color: #00d7ff; text-decoration-color: #00d7ff\">None</span>, <span style=\"color: #00af00; text-decoration-color: #00af00\">64</span>)                  │          <span style=\"color: #00af00; text-decoration-color: #00af00\">49,408</span> │\n",
              "├──────────────────────────────────────┼─────────────────────────────┼─────────────────┤\n",
              "│ dropout_4 (<span style=\"color: #0087ff; text-decoration-color: #0087ff\">Dropout</span>)                  │ (<span style=\"color: #00d7ff; text-decoration-color: #00d7ff\">None</span>, <span style=\"color: #00af00; text-decoration-color: #00af00\">64</span>)                  │               <span style=\"color: #00af00; text-decoration-color: #00af00\">0</span> │\n",
              "├──────────────────────────────────────┼─────────────────────────────┼─────────────────┤\n",
              "│ dense_10 (<span style=\"color: #0087ff; text-decoration-color: #0087ff\">Dense</span>)                     │ (<span style=\"color: #00d7ff; text-decoration-color: #00d7ff\">None</span>, <span style=\"color: #00af00; text-decoration-color: #00af00\">1</span>)                   │              <span style=\"color: #00af00; text-decoration-color: #00af00\">65</span> │\n",
              "└──────────────────────────────────────┴─────────────────────────────┴─────────────────┘\n",
              "</pre>\n"
            ]
          },
          "metadata": {}
        },
        {
          "output_type": "display_data",
          "data": {
            "text/plain": [
              "\u001b[1m Total params: \u001b[0m\u001b[38;5;34m1,137,793\u001b[0m (4.34 MB)\n"
            ],
            "text/html": [
              "<pre style=\"white-space:pre;overflow-x:auto;line-height:normal;font-family:Menlo,'DejaVu Sans Mono',consolas,'Courier New',monospace\"><span style=\"font-weight: bold\"> Total params: </span><span style=\"color: #00af00; text-decoration-color: #00af00\">1,137,793</span> (4.34 MB)\n",
              "</pre>\n"
            ]
          },
          "metadata": {}
        },
        {
          "output_type": "display_data",
          "data": {
            "text/plain": [
              "\u001b[1m Trainable params: \u001b[0m\u001b[38;5;34m1,137,793\u001b[0m (4.34 MB)\n"
            ],
            "text/html": [
              "<pre style=\"white-space:pre;overflow-x:auto;line-height:normal;font-family:Menlo,'DejaVu Sans Mono',consolas,'Courier New',monospace\"><span style=\"font-weight: bold\"> Trainable params: </span><span style=\"color: #00af00; text-decoration-color: #00af00\">1,137,793</span> (4.34 MB)\n",
              "</pre>\n"
            ]
          },
          "metadata": {}
        },
        {
          "output_type": "display_data",
          "data": {
            "text/plain": [
              "\u001b[1m Non-trainable params: \u001b[0m\u001b[38;5;34m0\u001b[0m (0.00 B)\n"
            ],
            "text/html": [
              "<pre style=\"white-space:pre;overflow-x:auto;line-height:normal;font-family:Menlo,'DejaVu Sans Mono',consolas,'Courier New',monospace\"><span style=\"font-weight: bold\"> Non-trainable params: </span><span style=\"color: #00af00; text-decoration-color: #00af00\">0</span> (0.00 B)\n",
              "</pre>\n"
            ]
          },
          "metadata": {}
        }
      ]
    },
    {
      "cell_type": "code",
      "source": [
        "history = model.fit(X_train, y_train, validation_data=(X_test, y_test), epochs=50, batch_size=64, class_weight=class_weight_dict)"
      ],
      "metadata": {
        "id": "C8tgktQvepYW",
        "outputId": "9d3ad45b-9a67-4d10-e9ea-838710dc4568",
        "colab": {
          "base_uri": "https://localhost:8080/"
        }
      },
      "execution_count": 70,
      "outputs": [
        {
          "output_type": "stream",
          "name": "stdout",
          "text": [
            "Epoch 1/50\n",
            "\u001b[1m5/5\u001b[0m \u001b[32m━━━━━━━━━━━━━━━━━━━━\u001b[0m\u001b[37m\u001b[0m \u001b[1m7s\u001b[0m 790ms/step - accuracy: 0.5114 - loss: 0.6908 - val_accuracy: 0.5500 - val_loss: 0.6920\n",
            "Epoch 2/50\n",
            "\u001b[1m5/5\u001b[0m \u001b[32m━━━━━━━━━━━━━━━━━━━━\u001b[0m\u001b[37m\u001b[0m \u001b[1m4s\u001b[0m 456ms/step - accuracy: 0.6433 - loss: 0.6870 - val_accuracy: 0.5125 - val_loss: 0.6880\n",
            "Epoch 3/50\n",
            "\u001b[1m5/5\u001b[0m \u001b[32m━━━━━━━━━━━━━━━━━━━━\u001b[0m\u001b[37m\u001b[0m \u001b[1m3s\u001b[0m 459ms/step - accuracy: 0.6981 - loss: 0.6831 - val_accuracy: 0.6250 - val_loss: 0.6823\n",
            "Epoch 4/50\n",
            "\u001b[1m5/5\u001b[0m \u001b[32m━━━━━━━━━━━━━━━━━━━━\u001b[0m\u001b[37m\u001b[0m \u001b[1m3s\u001b[0m 477ms/step - accuracy: 0.7527 - loss: 0.6639 - val_accuracy: 0.6250 - val_loss: 0.6710\n",
            "Epoch 5/50\n",
            "\u001b[1m5/5\u001b[0m \u001b[32m━━━━━━━━━━━━━━━━━━━━\u001b[0m\u001b[37m\u001b[0m \u001b[1m3s\u001b[0m 670ms/step - accuracy: 0.7778 - loss: 0.6041 - val_accuracy: 0.6500 - val_loss: 0.6552\n",
            "Epoch 6/50\n",
            "\u001b[1m5/5\u001b[0m \u001b[32m━━━━━━━━━━━━━━━━━━━━\u001b[0m\u001b[37m\u001b[0m \u001b[1m4s\u001b[0m 496ms/step - accuracy: 0.8068 - loss: 0.4496 - val_accuracy: 0.5875 - val_loss: 0.7131\n",
            "Epoch 7/50\n",
            "\u001b[1m5/5\u001b[0m \u001b[32m━━━━━━━━━━━━━━━━━━━━\u001b[0m\u001b[37m\u001b[0m \u001b[1m3s\u001b[0m 487ms/step - accuracy: 0.8453 - loss: 0.3344 - val_accuracy: 0.6375 - val_loss: 0.6876\n",
            "Epoch 8/50\n",
            "\u001b[1m5/5\u001b[0m \u001b[32m━━━━━━━━━━━━━━━━━━━━\u001b[0m\u001b[37m\u001b[0m \u001b[1m3s\u001b[0m 657ms/step - accuracy: 0.8944 - loss: 0.2762 - val_accuracy: 0.6000 - val_loss: 0.7951\n",
            "Epoch 9/50\n",
            "\u001b[1m5/5\u001b[0m \u001b[32m━━━━━━━━━━━━━━━━━━━━\u001b[0m\u001b[37m\u001b[0m \u001b[1m5s\u001b[0m 496ms/step - accuracy: 0.9144 - loss: 0.2201 - val_accuracy: 0.6500 - val_loss: 0.8794\n",
            "Epoch 10/50\n",
            "\u001b[1m5/5\u001b[0m \u001b[32m━━━━━━━━━━━━━━━━━━━━\u001b[0m\u001b[37m\u001b[0m \u001b[1m2s\u001b[0m 491ms/step - accuracy: 0.9184 - loss: 0.2013 - val_accuracy: 0.6250 - val_loss: 1.0528\n",
            "Epoch 11/50\n",
            "\u001b[1m5/5\u001b[0m \u001b[32m━━━━━━━━━━━━━━━━━━━━\u001b[0m\u001b[37m\u001b[0m \u001b[1m2s\u001b[0m 465ms/step - accuracy: 0.9012 - loss: 0.2180 - val_accuracy: 0.6500 - val_loss: 0.8508\n",
            "Epoch 12/50\n",
            "\u001b[1m5/5\u001b[0m \u001b[32m━━━━━━━━━━━━━━━━━━━━\u001b[0m\u001b[37m\u001b[0m \u001b[1m3s\u001b[0m 492ms/step - accuracy: 0.9063 - loss: 0.2164 - val_accuracy: 0.6375 - val_loss: 0.8709\n",
            "Epoch 13/50\n",
            "\u001b[1m5/5\u001b[0m \u001b[32m━━━━━━━━━━━━━━━━━━━━\u001b[0m\u001b[37m\u001b[0m \u001b[1m4s\u001b[0m 772ms/step - accuracy: 0.9292 - loss: 0.1521 - val_accuracy: 0.6250 - val_loss: 1.0114\n",
            "Epoch 14/50\n",
            "\u001b[1m5/5\u001b[0m \u001b[32m━━━━━━━━━━━━━━━━━━━━\u001b[0m\u001b[37m\u001b[0m \u001b[1m2s\u001b[0m 493ms/step - accuracy: 0.9439 - loss: 0.1408 - val_accuracy: 0.6250 - val_loss: 1.0249\n",
            "Epoch 15/50\n",
            "\u001b[1m5/5\u001b[0m \u001b[32m━━━━━━━━━━━━━━━━━━━━\u001b[0m\u001b[37m\u001b[0m \u001b[1m2s\u001b[0m 462ms/step - accuracy: 0.9472 - loss: 0.1451 - val_accuracy: 0.6250 - val_loss: 1.0278\n",
            "Epoch 16/50\n",
            "\u001b[1m5/5\u001b[0m \u001b[32m━━━━━━━━━━━━━━━━━━━━\u001b[0m\u001b[37m\u001b[0m \u001b[1m2s\u001b[0m 497ms/step - accuracy: 0.9543 - loss: 0.1211 - val_accuracy: 0.6250 - val_loss: 1.0738\n",
            "Epoch 17/50\n",
            "\u001b[1m5/5\u001b[0m \u001b[32m━━━━━━━━━━━━━━━━━━━━\u001b[0m\u001b[37m\u001b[0m \u001b[1m3s\u001b[0m 576ms/step - accuracy: 0.9152 - loss: 0.1488 - val_accuracy: 0.6250 - val_loss: 1.0977\n",
            "Epoch 18/50\n",
            "\u001b[1m5/5\u001b[0m \u001b[32m━━━━━━━━━━━━━━━━━━━━\u001b[0m\u001b[37m\u001b[0m \u001b[1m5s\u001b[0m 484ms/step - accuracy: 0.9327 - loss: 0.1263 - val_accuracy: 0.6500 - val_loss: 0.9281\n",
            "Epoch 19/50\n",
            "\u001b[1m5/5\u001b[0m \u001b[32m━━━━━━━━━━━━━━━━━━━━\u001b[0m\u001b[37m\u001b[0m \u001b[1m3s\u001b[0m 492ms/step - accuracy: 0.9277 - loss: 0.1388 - val_accuracy: 0.6500 - val_loss: 0.9769\n",
            "Epoch 20/50\n",
            "\u001b[1m5/5\u001b[0m \u001b[32m━━━━━━━━━━━━━━━━━━━━\u001b[0m\u001b[37m\u001b[0m \u001b[1m3s\u001b[0m 500ms/step - accuracy: 0.9570 - loss: 0.1025 - val_accuracy: 0.6125 - val_loss: 1.1774\n",
            "Epoch 21/50\n",
            "\u001b[1m5/5\u001b[0m \u001b[32m━━━━━━━━━━━━━━━━━━━━\u001b[0m\u001b[37m\u001b[0m \u001b[1m3s\u001b[0m 712ms/step - accuracy: 0.9650 - loss: 0.1079 - val_accuracy: 0.6125 - val_loss: 1.2242\n",
            "Epoch 22/50\n",
            "\u001b[1m5/5\u001b[0m \u001b[32m━━━━━━━━━━━━━━━━━━━━\u001b[0m\u001b[37m\u001b[0m \u001b[1m4s\u001b[0m 500ms/step - accuracy: 0.9535 - loss: 0.0779 - val_accuracy: 0.6250 - val_loss: 1.2207\n",
            "Epoch 23/50\n",
            "\u001b[1m5/5\u001b[0m \u001b[32m━━━━━━━━━━━━━━━━━━━━\u001b[0m\u001b[37m\u001b[0m \u001b[1m2s\u001b[0m 487ms/step - accuracy: 0.9492 - loss: 0.1073 - val_accuracy: 0.6500 - val_loss: 1.1528\n",
            "Epoch 24/50\n",
            "\u001b[1m5/5\u001b[0m \u001b[32m━━━━━━━━━━━━━━━━━━━━\u001b[0m\u001b[37m\u001b[0m \u001b[1m3s\u001b[0m 673ms/step - accuracy: 0.9553 - loss: 0.0827 - val_accuracy: 0.6625 - val_loss: 1.2931\n",
            "Epoch 25/50\n",
            "\u001b[1m5/5\u001b[0m \u001b[32m━━━━━━━━━━━━━━━━━━━━\u001b[0m\u001b[37m\u001b[0m \u001b[1m5s\u001b[0m 487ms/step - accuracy: 0.9572 - loss: 0.0854 - val_accuracy: 0.6500 - val_loss: 1.1569\n",
            "Epoch 26/50\n",
            "\u001b[1m5/5\u001b[0m \u001b[32m━━━━━━━━━━━━━━━━━━━━\u001b[0m\u001b[37m\u001b[0m \u001b[1m5s\u001b[0m 481ms/step - accuracy: 0.9743 - loss: 0.0671 - val_accuracy: 0.6625 - val_loss: 1.1885\n",
            "Epoch 27/50\n",
            "\u001b[1m5/5\u001b[0m \u001b[32m━━━━━━━━━━━━━━━━━━━━\u001b[0m\u001b[37m\u001b[0m \u001b[1m2s\u001b[0m 454ms/step - accuracy: 0.9673 - loss: 0.0675 - val_accuracy: 0.6625 - val_loss: 1.2208\n",
            "Epoch 28/50\n",
            "\u001b[1m5/5\u001b[0m \u001b[32m━━━━━━━━━━━━━━━━━━━━\u001b[0m\u001b[37m\u001b[0m \u001b[1m4s\u001b[0m 908ms/step - accuracy: 0.9693 - loss: 0.0785 - val_accuracy: 0.6500 - val_loss: 1.3291\n",
            "Epoch 29/50\n",
            "\u001b[1m5/5\u001b[0m \u001b[32m━━━━━━━━━━━━━━━━━━━━\u001b[0m\u001b[37m\u001b[0m \u001b[1m3s\u001b[0m 466ms/step - accuracy: 0.9768 - loss: 0.0625 - val_accuracy: 0.6500 - val_loss: 1.4110\n",
            "Epoch 30/50\n",
            "\u001b[1m5/5\u001b[0m \u001b[32m━━━━━━━━━━━━━━━━━━━━\u001b[0m\u001b[37m\u001b[0m \u001b[1m2s\u001b[0m 501ms/step - accuracy: 0.9763 - loss: 0.0556 - val_accuracy: 0.6250 - val_loss: 1.3845\n",
            "Epoch 31/50\n",
            "\u001b[1m5/5\u001b[0m \u001b[32m━━━━━━━━━━━━━━━━━━━━\u001b[0m\u001b[37m\u001b[0m \u001b[1m2s\u001b[0m 447ms/step - accuracy: 0.9687 - loss: 0.0559 - val_accuracy: 0.6375 - val_loss: 1.4560\n",
            "Epoch 32/50\n",
            "\u001b[1m5/5\u001b[0m \u001b[32m━━━━━━━━━━━━━━━━━━━━\u001b[0m\u001b[37m\u001b[0m \u001b[1m3s\u001b[0m 590ms/step - accuracy: 0.9828 - loss: 0.0489 - val_accuracy: 0.6125 - val_loss: 1.5010\n",
            "Epoch 33/50\n",
            "\u001b[1m5/5\u001b[0m \u001b[32m━━━━━━━━━━━━━━━━━━━━\u001b[0m\u001b[37m\u001b[0m \u001b[1m5s\u001b[0m 491ms/step - accuracy: 0.9763 - loss: 0.0682 - val_accuracy: 0.6125 - val_loss: 1.4019\n",
            "Epoch 34/50\n",
            "\u001b[1m5/5\u001b[0m \u001b[32m━━━━━━━━━━━━━━━━━━━━\u001b[0m\u001b[37m\u001b[0m \u001b[1m3s\u001b[0m 498ms/step - accuracy: 0.9735 - loss: 0.0767 - val_accuracy: 0.6125 - val_loss: 1.3803\n",
            "Epoch 35/50\n",
            "\u001b[1m5/5\u001b[0m \u001b[32m━━━━━━━━━━━━━━━━━━━━\u001b[0m\u001b[37m\u001b[0m \u001b[1m3s\u001b[0m 491ms/step - accuracy: 0.9514 - loss: 0.0944 - val_accuracy: 0.6625 - val_loss: 1.3407\n",
            "Epoch 36/50\n",
            "\u001b[1m5/5\u001b[0m \u001b[32m━━━━━━━━━━━━━━━━━━━━\u001b[0m\u001b[37m\u001b[0m \u001b[1m4s\u001b[0m 755ms/step - accuracy: 0.9585 - loss: 0.0822 - val_accuracy: 0.6125 - val_loss: 1.4132\n",
            "Epoch 37/50\n",
            "\u001b[1m5/5\u001b[0m \u001b[32m━━━━━━━━━━━━━━━━━━━━\u001b[0m\u001b[37m\u001b[0m \u001b[1m3s\u001b[0m 481ms/step - accuracy: 0.9431 - loss: 0.1674 - val_accuracy: 0.6125 - val_loss: 1.2883\n",
            "Epoch 38/50\n",
            "\u001b[1m5/5\u001b[0m \u001b[32m━━━━━━━━━━━━━━━━━━━━\u001b[0m\u001b[37m\u001b[0m \u001b[1m2s\u001b[0m 501ms/step - accuracy: 0.8785 - loss: 0.2581 - val_accuracy: 0.6375 - val_loss: 0.8792\n",
            "Epoch 39/50\n",
            "\u001b[1m5/5\u001b[0m \u001b[32m━━━━━━━━━━━━━━━━━━━━\u001b[0m\u001b[37m\u001b[0m \u001b[1m2s\u001b[0m 464ms/step - accuracy: 0.9226 - loss: 0.1477 - val_accuracy: 0.6875 - val_loss: 0.8909\n",
            "Epoch 40/50\n",
            "\u001b[1m5/5\u001b[0m \u001b[32m━━━━━━━━━━━━━━━━━━━━\u001b[0m\u001b[37m\u001b[0m \u001b[1m2s\u001b[0m 489ms/step - accuracy: 0.9372 - loss: 0.1206 - val_accuracy: 0.6875 - val_loss: 0.8838\n",
            "Epoch 41/50\n",
            "\u001b[1m5/5\u001b[0m \u001b[32m━━━━━━━━━━━━━━━━━━━━\u001b[0m\u001b[37m\u001b[0m \u001b[1m4s\u001b[0m 822ms/step - accuracy: 0.9655 - loss: 0.0977 - val_accuracy: 0.6250 - val_loss: 1.0712\n",
            "Epoch 42/50\n",
            "\u001b[1m5/5\u001b[0m \u001b[32m━━━━━━━━━━━━━━━━━━━━\u001b[0m\u001b[37m\u001b[0m \u001b[1m2s\u001b[0m 483ms/step - accuracy: 0.9612 - loss: 0.1083 - val_accuracy: 0.6500 - val_loss: 1.0604\n",
            "Epoch 43/50\n",
            "\u001b[1m5/5\u001b[0m \u001b[32m━━━━━━━━━━━━━━━━━━━━\u001b[0m\u001b[37m\u001b[0m \u001b[1m4s\u001b[0m 806ms/step - accuracy: 0.9743 - loss: 0.0684 - val_accuracy: 0.6750 - val_loss: 1.1970\n",
            "Epoch 44/50\n",
            "\u001b[1m5/5\u001b[0m \u001b[32m━━━━━━━━━━━━━━━━━━━━\u001b[0m\u001b[37m\u001b[0m \u001b[1m8s\u001b[0m 1s/step - accuracy: 0.9776 - loss: 0.0624 - val_accuracy: 0.6250 - val_loss: 1.3325\n",
            "Epoch 45/50\n",
            "\u001b[1m5/5\u001b[0m \u001b[32m━━━━━━━━━━━━━━━━━━━━\u001b[0m\u001b[37m\u001b[0m \u001b[1m5s\u001b[0m 983ms/step - accuracy: 0.9719 - loss: 0.0609 - val_accuracy: 0.6250 - val_loss: 1.3903\n",
            "Epoch 46/50\n",
            "\u001b[1m5/5\u001b[0m \u001b[32m━━━━━━━━━━━━━━━━━━━━\u001b[0m\u001b[37m\u001b[0m \u001b[1m5s\u001b[0m 1s/step - accuracy: 0.9858 - loss: 0.0339 - val_accuracy: 0.6375 - val_loss: 1.3603\n",
            "Epoch 47/50\n",
            "\u001b[1m5/5\u001b[0m \u001b[32m━━━━━━━━━━━━━━━━━━━━\u001b[0m\u001b[37m\u001b[0m \u001b[1m9s\u001b[0m 779ms/step - accuracy: 0.9798 - loss: 0.0554 - val_accuracy: 0.6750 - val_loss: 1.3937\n",
            "Epoch 48/50\n",
            "\u001b[1m5/5\u001b[0m \u001b[32m━━━━━━━━━━━━━━━━━━━━\u001b[0m\u001b[37m\u001b[0m \u001b[1m6s\u001b[0m 991ms/step - accuracy: 0.9760 - loss: 0.0462 - val_accuracy: 0.6375 - val_loss: 1.5018\n",
            "Epoch 49/50\n",
            "\u001b[1m5/5\u001b[0m \u001b[32m━━━━━━━━━━━━━━━━━━━━\u001b[0m\u001b[37m\u001b[0m \u001b[1m6s\u001b[0m 1s/step - accuracy: 0.9844 - loss: 0.0389 - val_accuracy: 0.6375 - val_loss: 1.4835\n",
            "Epoch 50/50\n",
            "\u001b[1m5/5\u001b[0m \u001b[32m━━━━━━━━━━━━━━━━━━━━\u001b[0m\u001b[37m\u001b[0m \u001b[1m7s\u001b[0m 583ms/step - accuracy: 0.9831 - loss: 0.0444 - val_accuracy: 0.6625 - val_loss: 1.4406\n"
          ]
        }
      ]
    },
    {
      "cell_type": "code",
      "source": [
        "y_pred_gru = model.predict(X_test)\n",
        "y_pred_gru = np.where(y_pred_gru > 0.5, 1, 0)"
      ],
      "metadata": {
        "id": "RR1qHYU4fLpK",
        "outputId": "9e68a84a-6960-42f0-da9b-adb1ce587377",
        "colab": {
          "base_uri": "https://localhost:8080/"
        }
      },
      "execution_count": 71,
      "outputs": [
        {
          "output_type": "stream",
          "name": "stdout",
          "text": [
            "\u001b[1m3/3\u001b[0m \u001b[32m━━━━━━━━━━━━━━━━━━━━\u001b[0m\u001b[37m\u001b[0m \u001b[1m1s\u001b[0m 242ms/step\n"
          ]
        }
      ]
    },
    {
      "cell_type": "code",
      "source": [
        "print(classification_report(y_test, y_pred_gru))"
      ],
      "metadata": {
        "id": "sUsmiMzPfdX8",
        "outputId": "3747144f-f3c3-4426-f2c5-5c8fa7f1d9ef",
        "colab": {
          "base_uri": "https://localhost:8080/"
        }
      },
      "execution_count": 72,
      "outputs": [
        {
          "output_type": "stream",
          "name": "stdout",
          "text": [
            "              precision    recall  f1-score   support\n",
            "\n",
            "           0       0.71      0.55      0.62        40\n",
            "           1       0.63      0.78      0.70        40\n",
            "\n",
            "    accuracy                           0.66        80\n",
            "   macro avg       0.67      0.66      0.66        80\n",
            "weighted avg       0.67      0.66      0.66        80\n",
            "\n"
          ]
        }
      ]
    },
    {
      "cell_type": "code",
      "source": [
        "cm = confusion_matrix(y_test, y_pred_gru)\n",
        "plt.figure(figsize=(5, 4))\n",
        "sns.heatmap(cm, annot=True, fmt=\"d\", cmap=\"Blues\", xticklabels=[\"Negative\", \"Positive\"], yticklabels=[\"Negative\", \"Positive\"])\n",
        "plt.xlabel(\"Predicted\")\n",
        "plt.ylabel(\"Actual\")\n",
        "plt.title(\"Confusion Matrix using GRU-LSTM\")\n",
        "plt.show()"
      ],
      "metadata": {
        "id": "toiAtzikfgGg",
        "outputId": "25b3d38d-c854-4371-aa97-b50cd4068a24",
        "colab": {
          "base_uri": "https://localhost:8080/",
          "height": 410
        }
      },
      "execution_count": 73,
      "outputs": [
        {
          "output_type": "display_data",
          "data": {
            "text/plain": [
              "<Figure size 500x400 with 2 Axes>"
            ],
            "image/png": "[encoded data removed]"
          },
          "metadata": {}
        }
      ]
    },
    {
      "cell_type": "code",
      "source": [
        "# Calculate accuracy for each model\n",
        "acc_rf = accuracy_score(y_test, pred_rf)\n",
        "acc_xgb = accuracy_score(y_test, pred_xgb)\n",
        "acc_ada = accuracy_score(y_test, pred_ada)\n",
        "acc_rf_tfidf = accuracy_score(y_test, pred_rf_tfidf)\n",
        "acc_xg_tfidf = accuracy_score(y_test, pred_xg_tfidf)\n",
        "acc_ada_tfidf = accuracy_score(y_test, pred_ada_tfidf)\n",
        "acc_lstm = accuracy_score(y_test, y_pred_lstm)\n",
        "acc_bi = accuracy_score(y_test, y_pred_bi)\n",
        "acc_gru = accuracy_score(y_test, y_pred_gru)"
      ],
      "metadata": {
        "id": "0YuDnWeIihI7"
      },
      "execution_count": 82,
      "outputs": []
    },
    {
      "cell_type": "code",
      "source": [
        "# Create a dictionary with model names and corresponding accuracy values\n",
        "accuracy_dict = {\n",
        "    'Random Forest': acc_rf,\n",
        "    'XGBoost': acc_xgb,\n",
        "    'AdaBoost': acc_ada,\n",
        "    'Random Forest with TF-IDF': acc_rf_tfidf,\n",
        "    'XGBoost with TF-IDF': acc_xg_tfidf,\n",
        "    'AdaBoost with TF-IDF': acc_ada_tfidf,\n",
        "    'LSTM': acc_lstm,\n",
        "    'BiLSTM': acc_bi,\n",
        "    'GRU': acc_gru\n",
        "}\n",
        "# Convert dictionary to DataFrame for easy plotting\n",
        "accuracy_df = pd.DataFrame(list(accuracy_dict.items()), columns=['Model', 'Accuracy'])\n",
        "# Create a barplot\n",
        "plt.figure(figsize=(10, 6))\n",
        "sns.barplot(x='Accuracy', y='Model', data=accuracy_df, palette='viridis')\n",
        "# Add the accuracy values on top of the bars\n",
        "for index, value in enumerate(accuracy_df['Accuracy']):\n",
        "    plt.text(value + 0.01, index, f'{value:.4f}', va='center')\n",
        "# Set labels and title\n",
        "plt.xlabel('Accuracy')\n",
        "plt.ylabel('Model')\n",
        "plt.title('Model Accuracy Comparison')\n",
        "# Show the plot\n",
        "plt.tight_layout()\n",
        "plt.show()"
      ],
      "metadata": {
        "id": "Xpp5gBsYinQu",
        "outputId": "4220241b-fa73-43d1-8f5c-72733609c675",
        "colab": {
          "base_uri": "https://localhost:8080/",
          "height": 629
        }
      },
      "execution_count": 83,
      "outputs": [
        {
          "output_type": "stream",
          "name": "stderr",
          "text": [
            "<ipython-input-83-f45de96dc1c0>:17: FutureWarning: \n",
            "\n",
            "Passing `palette` without assigning `hue` is deprecated and will be removed in v0.14.0. Assign the `y` variable to `hue` and set `legend=False` for the same effect.\n",
            "\n",
            "  sns.barplot(x='Accuracy', y='Model', data=accuracy_df, palette='viridis')\n"
          ]
        },
        {
          "output_type": "display_data",
          "data": {
            "text/plain": [
              "<Figure size 1000x600 with 1 Axes>"
            ],
            "image/png": "[encoded data removed]"
          },
          "metadata": {}
        }
      ]
    },
    {
      "cell_type": "code",
      "source": [
        "from sklearn.metrics import precision_score"
      ],
      "metadata": {
        "id": "FJF7ILxvjDOh"
      },
      "execution_count": 84,
      "outputs": []
    },
    {
      "cell_type": "code",
      "source": [
        "# precision score\n",
        "precision_rf = precision_score(y_test, pred_rf)\n",
        "precision_xgb = precision_score(y_test, pred_xgb)\n",
        "precision_ada = precision_score(y_test, pred_ada)\n",
        "precision_rf_tfidf = precision_score(y_test, pred_rf_tfidf)\n",
        "precision_xg_tfidf = precision_score(y_test, pred_xg_tfidf)\n",
        "precision_ada_tfidf = precision_score(y_test, pred_ada_tfidf)\n",
        "precision_lstm = precision_score(y_test, y_pred_lstm)\n",
        "precision_bi = precision_score(y_test, y_pred_bi)\n",
        "precision_gru = precision_score(y_test, y_pred_gru)"
      ],
      "metadata": {
        "id": "Fpmi2I43i8s1"
      },
      "execution_count": 85,
      "outputs": []
    },
    {
      "cell_type": "code",
      "source": [
        "# Precision values from the models\n",
        "precisions = {\n",
        "    \"Random Forest\": precision_rf,\n",
        "    \"XGBoost\": precision_xgb,\n",
        "    \"AdaBoost\": precision_ada,\n",
        "    \"Random Forest with TF-IDF\": precision_rf_tfidf,\n",
        "    \"XGBoost with TF-IDF\": precision_xg_tfidf,\n",
        "    \"AdaBoost with TF-IDF\": precision_ada_tfidf,\n",
        "    \"LSTM\": precision_lstm,\n",
        "    \"BiLSTM\": precision_bi,\n",
        "    \"GRU\": precision_gru\n",
        "}\n",
        "# Convert the dictionary into a pandas DataFrame\n",
        "df_precision = pd.DataFrame(list(precisions.items()), columns=[\"Model\", \"Precision\"])\n",
        "# Create the barplot for precision\n",
        "plt.figure(figsize=(10, 6))  # Set figure size for better visibility\n",
        "sns.barplot(data=df_precision, x=\"Model\", y=\"Precision\", palette=\"Blues_d\")  # Use a color palette\n",
        "# Add value annotations on top of each bar\n",
        "for index, value in enumerate(df_precision['Precision']):\n",
        "    plt.text(index, value + 0.01, f\"{value:.4f}\", va='center', fontsize=12)\n",
        "# Add titles and labels\n",
        "plt.title(\"Model Precision Comparison\", fontsize=16)\n",
        "plt.xlabel(\"Model\", fontsize=14)\n",
        "plt.ylabel(\"Precision\", fontsize=14)\n",
        "plt.xticks(rotation=90, ha=\"left\")  # Rotate x-axis labels for better readability\n",
        "# Display the plot\n",
        "plt.tight_layout()  # Adjust layout to avoid clipping\n",
        "plt.show()"
      ],
      "metadata": {
        "id": "gy7wuBfpjFsV",
        "outputId": "9ca46ea9-2d82-4268-ecf8-c3e903a5f0ca",
        "colab": {
          "base_uri": "https://localhost:8080/",
          "height": 633
        }
      },
      "execution_count": 92,
      "outputs": [
        {
          "output_type": "stream",
          "name": "stderr",
          "text": [
            "<ipython-input-92-3ae698ab2932>:17: FutureWarning: \n",
            "\n",
            "Passing `palette` without assigning `hue` is deprecated and will be removed in v0.14.0. Assign the `x` variable to `hue` and set `legend=False` for the same effect.\n",
            "\n",
            "  sns.barplot(data=df_precision, x=\"Model\", y=\"Precision\", palette=\"Blues_d\")  # Use a color palette\n"
          ]
        },
        {
          "output_type": "display_data",
          "data": {
            "text/plain": [
              "<Figure size 1000x600 with 1 Axes>"
            ],
            "image/png": "[encoded data removed]"
          },
          "metadata": {}
        }
      ]
    }
  ]
}